{
 "cells": [
  {
   "cell_type": "markdown",
   "metadata": {},
   "source": [
    "## Откроем файл и изучим общую информацию"
   ]
  },
  {
   "cell_type": "code",
   "execution_count": 1,
   "metadata": {},
   "outputs": [
    {
     "data": {
      "text/html": [
       "<div>\n",
       "<style scoped>\n",
       "    .dataframe tbody tr th:only-of-type {\n",
       "        vertical-align: middle;\n",
       "    }\n",
       "\n",
       "    .dataframe tbody tr th {\n",
       "        vertical-align: top;\n",
       "    }\n",
       "\n",
       "    .dataframe thead th {\n",
       "        text-align: right;\n",
       "    }\n",
       "</style>\n",
       "<table border=\"1\" class=\"dataframe\">\n",
       "  <thead>\n",
       "    <tr style=\"text-align: right;\">\n",
       "      <th></th>\n",
       "      <th>book_id</th>\n",
       "      <th>author_id</th>\n",
       "      <th>title</th>\n",
       "      <th>num_pages</th>\n",
       "      <th>publication_date</th>\n",
       "      <th>publisher_id</th>\n",
       "    </tr>\n",
       "  </thead>\n",
       "  <tbody>\n",
       "    <tr>\n",
       "      <th>0</th>\n",
       "      <td>1</td>\n",
       "      <td>546</td>\n",
       "      <td>'Salem's Lot</td>\n",
       "      <td>594</td>\n",
       "      <td>2005-11-01</td>\n",
       "      <td>93</td>\n",
       "    </tr>\n",
       "    <tr>\n",
       "      <th>1</th>\n",
       "      <td>2</td>\n",
       "      <td>465</td>\n",
       "      <td>1 000 Places to See Before You Die</td>\n",
       "      <td>992</td>\n",
       "      <td>2003-05-22</td>\n",
       "      <td>336</td>\n",
       "    </tr>\n",
       "    <tr>\n",
       "      <th>2</th>\n",
       "      <td>3</td>\n",
       "      <td>407</td>\n",
       "      <td>13 Little Blue Envelopes (Little Blue Envelope...</td>\n",
       "      <td>322</td>\n",
       "      <td>2010-12-21</td>\n",
       "      <td>135</td>\n",
       "    </tr>\n",
       "    <tr>\n",
       "      <th>3</th>\n",
       "      <td>4</td>\n",
       "      <td>82</td>\n",
       "      <td>1491: New Revelations of the Americas Before C...</td>\n",
       "      <td>541</td>\n",
       "      <td>2006-10-10</td>\n",
       "      <td>309</td>\n",
       "    </tr>\n",
       "    <tr>\n",
       "      <th>4</th>\n",
       "      <td>5</td>\n",
       "      <td>125</td>\n",
       "      <td>1776</td>\n",
       "      <td>386</td>\n",
       "      <td>2006-07-04</td>\n",
       "      <td>268</td>\n",
       "    </tr>\n",
       "  </tbody>\n",
       "</table>\n",
       "</div>"
      ],
      "text/plain": [
       "   book_id  author_id                                              title  \\\n",
       "0        1        546                                       'Salem's Lot   \n",
       "1        2        465                 1 000 Places to See Before You Die   \n",
       "2        3        407  13 Little Blue Envelopes (Little Blue Envelope...   \n",
       "3        4         82  1491: New Revelations of the Americas Before C...   \n",
       "4        5        125                                               1776   \n",
       "\n",
       "   num_pages publication_date  publisher_id  \n",
       "0        594       2005-11-01            93  \n",
       "1        992       2003-05-22           336  \n",
       "2        322       2010-12-21           135  \n",
       "3        541       2006-10-10           309  \n",
       "4        386       2006-07-04           268  "
      ]
     },
     "execution_count": 1,
     "metadata": {},
     "output_type": "execute_result"
    }
   ],
   "source": [
    "# импортируем библиотеки\n",
    "import pandas as pd\n",
    "from sqlalchemy import text, create_engine\n",
    "# устанавливаем параметры\n",
    "db_config = {'user': 'praktikum_student', # имя пользователя\n",
    "'pwd': 'Sdf4$2;d-d30pp', # пароль\n",
    "'host': 'rc1b-wcoijxj3yxfsf3fs.mdb.yandexcloud.net',\n",
    "'port': 6432, # порт подключения\n",
    "'db': 'data-analyst-final-project-db'} # название базы данных\n",
    "connection_string = 'postgresql://{user}:{pwd}@{host}:{port}/{db}'.format(**db_config)\n",
    "# сохраняем коннектор\n",
    "engine = create_engine(connection_string, connect_args={'sslmode':'require'})\n",
    "# чтобы выполнить SQL-запрос, используем Pandas\n",
    "query = '''SELECT * FROM books LIMIT 5'''\n",
    "con=engine.connect()\n",
    "pd.io.sql.read_sql(sql=text(query), con = con)\n"
   ]
  },
  {
   "cell_type": "code",
   "execution_count": 2,
   "metadata": {},
   "outputs": [
    {
     "data": {
      "text/html": [
       "<div>\n",
       "<style scoped>\n",
       "    .dataframe tbody tr th:only-of-type {\n",
       "        vertical-align: middle;\n",
       "    }\n",
       "\n",
       "    .dataframe tbody tr th {\n",
       "        vertical-align: top;\n",
       "    }\n",
       "\n",
       "    .dataframe thead th {\n",
       "        text-align: right;\n",
       "    }\n",
       "</style>\n",
       "<table border=\"1\" class=\"dataframe\">\n",
       "  <thead>\n",
       "    <tr style=\"text-align: right;\">\n",
       "      <th></th>\n",
       "      <th>author_id</th>\n",
       "      <th>author</th>\n",
       "    </tr>\n",
       "  </thead>\n",
       "  <tbody>\n",
       "    <tr>\n",
       "      <th>0</th>\n",
       "      <td>1</td>\n",
       "      <td>A.S. Byatt</td>\n",
       "    </tr>\n",
       "    <tr>\n",
       "      <th>1</th>\n",
       "      <td>2</td>\n",
       "      <td>Aesop/Laura Harris/Laura Gibbs</td>\n",
       "    </tr>\n",
       "    <tr>\n",
       "      <th>2</th>\n",
       "      <td>3</td>\n",
       "      <td>Agatha Christie</td>\n",
       "    </tr>\n",
       "    <tr>\n",
       "      <th>3</th>\n",
       "      <td>4</td>\n",
       "      <td>Alan Brennert</td>\n",
       "    </tr>\n",
       "    <tr>\n",
       "      <th>4</th>\n",
       "      <td>5</td>\n",
       "      <td>Alan Moore/David   Lloyd</td>\n",
       "    </tr>\n",
       "  </tbody>\n",
       "</table>\n",
       "</div>"
      ],
      "text/plain": [
       "   author_id                          author\n",
       "0          1                      A.S. Byatt\n",
       "1          2  Aesop/Laura Harris/Laura Gibbs\n",
       "2          3                 Agatha Christie\n",
       "3          4                   Alan Brennert\n",
       "4          5        Alan Moore/David   Lloyd"
      ]
     },
     "execution_count": 2,
     "metadata": {},
     "output_type": "execute_result"
    }
   ],
   "source": [
    "query = '''SELECT * FROM authors LIMIT 5'''\n",
    "pd.io.sql.read_sql(sql=text(query), con = con)"
   ]
  },
  {
   "cell_type": "code",
   "execution_count": 3,
   "metadata": {},
   "outputs": [
    {
     "data": {
      "text/html": [
       "<div>\n",
       "<style scoped>\n",
       "    .dataframe tbody tr th:only-of-type {\n",
       "        vertical-align: middle;\n",
       "    }\n",
       "\n",
       "    .dataframe tbody tr th {\n",
       "        vertical-align: top;\n",
       "    }\n",
       "\n",
       "    .dataframe thead th {\n",
       "        text-align: right;\n",
       "    }\n",
       "</style>\n",
       "<table border=\"1\" class=\"dataframe\">\n",
       "  <thead>\n",
       "    <tr style=\"text-align: right;\">\n",
       "      <th></th>\n",
       "      <th>rating_id</th>\n",
       "      <th>book_id</th>\n",
       "      <th>username</th>\n",
       "      <th>rating</th>\n",
       "    </tr>\n",
       "  </thead>\n",
       "  <tbody>\n",
       "    <tr>\n",
       "      <th>0</th>\n",
       "      <td>1</td>\n",
       "      <td>1</td>\n",
       "      <td>ryanfranco</td>\n",
       "      <td>4</td>\n",
       "    </tr>\n",
       "    <tr>\n",
       "      <th>1</th>\n",
       "      <td>2</td>\n",
       "      <td>1</td>\n",
       "      <td>grantpatricia</td>\n",
       "      <td>2</td>\n",
       "    </tr>\n",
       "    <tr>\n",
       "      <th>2</th>\n",
       "      <td>3</td>\n",
       "      <td>1</td>\n",
       "      <td>brandtandrea</td>\n",
       "      <td>5</td>\n",
       "    </tr>\n",
       "    <tr>\n",
       "      <th>3</th>\n",
       "      <td>4</td>\n",
       "      <td>2</td>\n",
       "      <td>lorichen</td>\n",
       "      <td>3</td>\n",
       "    </tr>\n",
       "    <tr>\n",
       "      <th>4</th>\n",
       "      <td>5</td>\n",
       "      <td>2</td>\n",
       "      <td>mariokeller</td>\n",
       "      <td>2</td>\n",
       "    </tr>\n",
       "  </tbody>\n",
       "</table>\n",
       "</div>"
      ],
      "text/plain": [
       "   rating_id  book_id       username  rating\n",
       "0          1        1     ryanfranco       4\n",
       "1          2        1  grantpatricia       2\n",
       "2          3        1   brandtandrea       5\n",
       "3          4        2       lorichen       3\n",
       "4          5        2    mariokeller       2"
      ]
     },
     "execution_count": 3,
     "metadata": {},
     "output_type": "execute_result"
    }
   ],
   "source": [
    "query = '''SELECT * FROM ratings LIMIT 5'''\n",
    "pd.io.sql.read_sql(sql=text(query), con = con)"
   ]
  },
  {
   "cell_type": "code",
   "execution_count": 4,
   "metadata": {},
   "outputs": [
    {
     "data": {
      "text/html": [
       "<div>\n",
       "<style scoped>\n",
       "    .dataframe tbody tr th:only-of-type {\n",
       "        vertical-align: middle;\n",
       "    }\n",
       "\n",
       "    .dataframe tbody tr th {\n",
       "        vertical-align: top;\n",
       "    }\n",
       "\n",
       "    .dataframe thead th {\n",
       "        text-align: right;\n",
       "    }\n",
       "</style>\n",
       "<table border=\"1\" class=\"dataframe\">\n",
       "  <thead>\n",
       "    <tr style=\"text-align: right;\">\n",
       "      <th></th>\n",
       "      <th>review_id</th>\n",
       "      <th>book_id</th>\n",
       "      <th>username</th>\n",
       "      <th>text</th>\n",
       "    </tr>\n",
       "  </thead>\n",
       "  <tbody>\n",
       "    <tr>\n",
       "      <th>0</th>\n",
       "      <td>1</td>\n",
       "      <td>1</td>\n",
       "      <td>brandtandrea</td>\n",
       "      <td>Mention society tell send professor analysis. ...</td>\n",
       "    </tr>\n",
       "    <tr>\n",
       "      <th>1</th>\n",
       "      <td>2</td>\n",
       "      <td>1</td>\n",
       "      <td>ryanfranco</td>\n",
       "      <td>Foot glass pretty audience hit themselves. Amo...</td>\n",
       "    </tr>\n",
       "    <tr>\n",
       "      <th>2</th>\n",
       "      <td>3</td>\n",
       "      <td>2</td>\n",
       "      <td>lorichen</td>\n",
       "      <td>Listen treat keep worry. Miss husband tax but ...</td>\n",
       "    </tr>\n",
       "    <tr>\n",
       "      <th>3</th>\n",
       "      <td>4</td>\n",
       "      <td>3</td>\n",
       "      <td>johnsonamanda</td>\n",
       "      <td>Finally month interesting blue could nature cu...</td>\n",
       "    </tr>\n",
       "    <tr>\n",
       "      <th>4</th>\n",
       "      <td>5</td>\n",
       "      <td>3</td>\n",
       "      <td>scotttamara</td>\n",
       "      <td>Nation purpose heavy give wait song will. List...</td>\n",
       "    </tr>\n",
       "  </tbody>\n",
       "</table>\n",
       "</div>"
      ],
      "text/plain": [
       "   review_id  book_id       username  \\\n",
       "0          1        1   brandtandrea   \n",
       "1          2        1     ryanfranco   \n",
       "2          3        2       lorichen   \n",
       "3          4        3  johnsonamanda   \n",
       "4          5        3    scotttamara   \n",
       "\n",
       "                                                text  \n",
       "0  Mention society tell send professor analysis. ...  \n",
       "1  Foot glass pretty audience hit themselves. Amo...  \n",
       "2  Listen treat keep worry. Miss husband tax but ...  \n",
       "3  Finally month interesting blue could nature cu...  \n",
       "4  Nation purpose heavy give wait song will. List...  "
      ]
     },
     "execution_count": 4,
     "metadata": {},
     "output_type": "execute_result"
    }
   ],
   "source": [
    "query = '''SELECT * FROM reviews LIMIT 5'''\n",
    "pd.io.sql.read_sql(sql=text(query), con = con)"
   ]
  },
  {
   "cell_type": "code",
   "execution_count": 5,
   "metadata": {},
   "outputs": [
    {
     "data": {
      "text/html": [
       "<div>\n",
       "<style scoped>\n",
       "    .dataframe tbody tr th:only-of-type {\n",
       "        vertical-align: middle;\n",
       "    }\n",
       "\n",
       "    .dataframe tbody tr th {\n",
       "        vertical-align: top;\n",
       "    }\n",
       "\n",
       "    .dataframe thead th {\n",
       "        text-align: right;\n",
       "    }\n",
       "</style>\n",
       "<table border=\"1\" class=\"dataframe\">\n",
       "  <thead>\n",
       "    <tr style=\"text-align: right;\">\n",
       "      <th></th>\n",
       "      <th>publisher_id</th>\n",
       "      <th>publisher</th>\n",
       "    </tr>\n",
       "  </thead>\n",
       "  <tbody>\n",
       "    <tr>\n",
       "      <th>0</th>\n",
       "      <td>1</td>\n",
       "      <td>Ace</td>\n",
       "    </tr>\n",
       "    <tr>\n",
       "      <th>1</th>\n",
       "      <td>2</td>\n",
       "      <td>Ace Book</td>\n",
       "    </tr>\n",
       "    <tr>\n",
       "      <th>2</th>\n",
       "      <td>3</td>\n",
       "      <td>Ace Books</td>\n",
       "    </tr>\n",
       "    <tr>\n",
       "      <th>3</th>\n",
       "      <td>4</td>\n",
       "      <td>Ace Hardcover</td>\n",
       "    </tr>\n",
       "    <tr>\n",
       "      <th>4</th>\n",
       "      <td>5</td>\n",
       "      <td>Addison Wesley Publishing Company</td>\n",
       "    </tr>\n",
       "  </tbody>\n",
       "</table>\n",
       "</div>"
      ],
      "text/plain": [
       "   publisher_id                          publisher\n",
       "0             1                                Ace\n",
       "1             2                           Ace Book\n",
       "2             3                          Ace Books\n",
       "3             4                      Ace Hardcover\n",
       "4             5  Addison Wesley Publishing Company"
      ]
     },
     "execution_count": 5,
     "metadata": {},
     "output_type": "execute_result"
    }
   ],
   "source": [
    "query = '''SELECT * FROM publishers LIMIT 5'''\n",
    "pd.io.sql.read_sql(sql=text(query), con = con)"
   ]
  },
  {
   "cell_type": "markdown",
   "metadata": {},
   "source": [
    "## Cколько книг вышло после 1 января 2000 года"
   ]
  },
  {
   "cell_type": "code",
   "execution_count": 6,
   "metadata": {},
   "outputs": [
    {
     "data": {
      "text/html": [
       "<div>\n",
       "<style scoped>\n",
       "    .dataframe tbody tr th:only-of-type {\n",
       "        vertical-align: middle;\n",
       "    }\n",
       "\n",
       "    .dataframe tbody tr th {\n",
       "        vertical-align: top;\n",
       "    }\n",
       "\n",
       "    .dataframe thead th {\n",
       "        text-align: right;\n",
       "    }\n",
       "</style>\n",
       "<table border=\"1\" class=\"dataframe\">\n",
       "  <thead>\n",
       "    <tr style=\"text-align: right;\">\n",
       "      <th></th>\n",
       "      <th>count</th>\n",
       "    </tr>\n",
       "  </thead>\n",
       "  <tbody>\n",
       "    <tr>\n",
       "      <th>0</th>\n",
       "      <td>819</td>\n",
       "    </tr>\n",
       "  </tbody>\n",
       "</table>\n",
       "</div>"
      ],
      "text/plain": [
       "   count\n",
       "0    819"
      ]
     },
     "execution_count": 6,
     "metadata": {},
     "output_type": "execute_result"
    }
   ],
   "source": [
    "query = '''SELECT DISTINCT COUNT(book_id) FROM books WHERE publication_date>'2000-01-01';'''\n",
    "pd.io.sql.read_sql(sql=text(query), con = con)"
   ]
  },
  {
   "cell_type": "markdown",
   "metadata": {},
   "source": [
    "Всего в данных 1000 книг, из ни, те которые были опубликованы после 1 января 2000 года - 819 книг."
   ]
  },
  {
   "cell_type": "markdown",
   "metadata": {},
   "source": [
    "## Посчитаем количество обзоров и среднюю оценку для каждой книги"
   ]
  },
  {
   "cell_type": "code",
   "execution_count": 7,
   "metadata": {},
   "outputs": [
    {
     "data": {
      "text/html": [
       "<div>\n",
       "<style scoped>\n",
       "    .dataframe tbody tr th:only-of-type {\n",
       "        vertical-align: middle;\n",
       "    }\n",
       "\n",
       "    .dataframe tbody tr th {\n",
       "        vertical-align: top;\n",
       "    }\n",
       "\n",
       "    .dataframe thead th {\n",
       "        text-align: right;\n",
       "    }\n",
       "</style>\n",
       "<table border=\"1\" class=\"dataframe\">\n",
       "  <thead>\n",
       "    <tr style=\"text-align: right;\">\n",
       "      <th></th>\n",
       "      <th>title</th>\n",
       "      <th>author</th>\n",
       "      <th>avg_rating</th>\n",
       "      <th>count_review</th>\n",
       "    </tr>\n",
       "  </thead>\n",
       "  <tbody>\n",
       "    <tr>\n",
       "      <th>0</th>\n",
       "      <td>Twilight (Twilight  #1)</td>\n",
       "      <td>Stephenie Meyer</td>\n",
       "      <td>3.662500</td>\n",
       "      <td>7</td>\n",
       "    </tr>\n",
       "    <tr>\n",
       "      <th>1</th>\n",
       "      <td>The Road</td>\n",
       "      <td>Cormac McCarthy</td>\n",
       "      <td>3.772727</td>\n",
       "      <td>6</td>\n",
       "    </tr>\n",
       "    <tr>\n",
       "      <th>2</th>\n",
       "      <td>The Book Thief</td>\n",
       "      <td>Markus Zusak/Cao Xuân Việt Khương</td>\n",
       "      <td>4.264151</td>\n",
       "      <td>6</td>\n",
       "    </tr>\n",
       "    <tr>\n",
       "      <th>3</th>\n",
       "      <td>The Glass Castle</td>\n",
       "      <td>Jeannette Walls</td>\n",
       "      <td>4.206897</td>\n",
       "      <td>6</td>\n",
       "    </tr>\n",
       "    <tr>\n",
       "      <th>4</th>\n",
       "      <td>Water for Elephants</td>\n",
       "      <td>Sara Gruen</td>\n",
       "      <td>3.977273</td>\n",
       "      <td>6</td>\n",
       "    </tr>\n",
       "    <tr>\n",
       "      <th>...</th>\n",
       "      <td>...</td>\n",
       "      <td>...</td>\n",
       "      <td>...</td>\n",
       "      <td>...</td>\n",
       "    </tr>\n",
       "    <tr>\n",
       "      <th>989</th>\n",
       "      <td>Naked Empire (Sword of Truth  #8)</td>\n",
       "      <td>Terry Goodkind</td>\n",
       "      <td>3.500000</td>\n",
       "      <td>1</td>\n",
       "    </tr>\n",
       "    <tr>\n",
       "      <th>990</th>\n",
       "      <td>Moo  Baa  La La La!</td>\n",
       "      <td>Sandra Boynton</td>\n",
       "      <td>3.000000</td>\n",
       "      <td>1</td>\n",
       "    </tr>\n",
       "    <tr>\n",
       "      <th>991</th>\n",
       "      <td>Merrick (The Vampire Chronicles #7)</td>\n",
       "      <td>Anne Rice</td>\n",
       "      <td>4.000000</td>\n",
       "      <td>1</td>\n",
       "    </tr>\n",
       "    <tr>\n",
       "      <th>992</th>\n",
       "      <td>Babyville</td>\n",
       "      <td>Jane Green</td>\n",
       "      <td>3.500000</td>\n",
       "      <td>1</td>\n",
       "    </tr>\n",
       "    <tr>\n",
       "      <th>993</th>\n",
       "      <td>Lysistrata</td>\n",
       "      <td>Aristophanes/Sarah Ruden</td>\n",
       "      <td>4.000000</td>\n",
       "      <td>1</td>\n",
       "    </tr>\n",
       "  </tbody>\n",
       "</table>\n",
       "<p>994 rows × 4 columns</p>\n",
       "</div>"
      ],
      "text/plain": [
       "                                   title                             author  \\\n",
       "0                Twilight (Twilight  #1)                    Stephenie Meyer   \n",
       "1                               The Road                    Cormac McCarthy   \n",
       "2                         The Book Thief  Markus Zusak/Cao Xuân Việt Khương   \n",
       "3                       The Glass Castle                    Jeannette Walls   \n",
       "4                    Water for Elephants                         Sara Gruen   \n",
       "..                                   ...                                ...   \n",
       "989    Naked Empire (Sword of Truth  #8)                     Terry Goodkind   \n",
       "990                  Moo  Baa  La La La!                     Sandra Boynton   \n",
       "991  Merrick (The Vampire Chronicles #7)                          Anne Rice   \n",
       "992                            Babyville                         Jane Green   \n",
       "993                           Lysistrata           Aristophanes/Sarah Ruden   \n",
       "\n",
       "     avg_rating  count_review  \n",
       "0      3.662500             7  \n",
       "1      3.772727             6  \n",
       "2      4.264151             6  \n",
       "3      4.206897             6  \n",
       "4      3.977273             6  \n",
       "..          ...           ...  \n",
       "989    3.500000             1  \n",
       "990    3.000000             1  \n",
       "991    4.000000             1  \n",
       "992    3.500000             1  \n",
       "993    4.000000             1  \n",
       "\n",
       "[994 rows x 4 columns]"
      ]
     },
     "execution_count": 7,
     "metadata": {},
     "output_type": "execute_result"
    }
   ],
   "source": [
    "query = '''\n",
    "SELECT title,\n",
    "       author,\n",
    "       AVG(rating) AS avg_rating,\n",
    "       COUNT(DISTINCT review_id) AS count_review\n",
    "FROM books AS b \n",
    "INNER JOIN author AS a ON b.author_id=a.author_id\n",
    "INNER JOIN ratings AS r ON b.book_id=r.book_id\n",
    "INNER JOIN reviews AS rv ON b.book_id=rv.book_id\n",
    "GROUP BY b.book_id, a.author\n",
    "ORDER BY count_review DESC;\n",
    "'''\n",
    "pd.io.sql.read_sql(sql=text(query), con = con)"
   ]
  },
  {
   "cell_type": "markdown",
   "metadata": {},
   "source": [
    "Самое большое количество обзоров у книги Stephenie Meyer Twilight (Twilight #1) - 7 обзоров."
   ]
  },
  {
   "cell_type": "markdown",
   "metadata": {},
   "source": [
    "## Определим издательство, которое выпустило наибольшее число книг толще 50 страниц(для исключения брошюр)"
   ]
  },
  {
   "cell_type": "code",
   "execution_count": 8,
   "metadata": {},
   "outputs": [
    {
     "data": {
      "text/html": [
       "<div>\n",
       "<style scoped>\n",
       "    .dataframe tbody tr th:only-of-type {\n",
       "        vertical-align: middle;\n",
       "    }\n",
       "\n",
       "    .dataframe tbody tr th {\n",
       "        vertical-align: top;\n",
       "    }\n",
       "\n",
       "    .dataframe thead th {\n",
       "        text-align: right;\n",
       "    }\n",
       "</style>\n",
       "<table border=\"1\" class=\"dataframe\">\n",
       "  <thead>\n",
       "    <tr style=\"text-align: right;\">\n",
       "      <th></th>\n",
       "      <th>publisher</th>\n",
       "      <th>cnt_book</th>\n",
       "    </tr>\n",
       "  </thead>\n",
       "  <tbody>\n",
       "    <tr>\n",
       "      <th>0</th>\n",
       "      <td>Penguin Books</td>\n",
       "      <td>42</td>\n",
       "    </tr>\n",
       "  </tbody>\n",
       "</table>\n",
       "</div>"
      ],
      "text/plain": [
       "       publisher  cnt_book\n",
       "0  Penguin Books        42"
      ]
     },
     "execution_count": 8,
     "metadata": {},
     "output_type": "execute_result"
    }
   ],
   "source": [
    "query = '''\n",
    "SELECT publisher,\n",
    "       COUNT(book_id) AS cnt_book\n",
    "FROM publishers AS p \n",
    "LEFT JOIN books AS b ON p.publisher_id=b.publisher_id\n",
    "WHERE num_pages>50\n",
    "GROUP BY publisher\n",
    "ORDER BY cnt_book DESC\n",
    "LIMIT 1;\n",
    "'''\n",
    "pd.io.sql.read_sql(sql=text(query), con = con)"
   ]
  },
  {
   "cell_type": "markdown",
   "metadata": {},
   "source": [
    "Больше всего книг выпустило издательство Penguin Books - 42 штуки."
   ]
  },
  {
   "cell_type": "markdown",
   "metadata": {},
   "source": [
    "## Определим автора с самой высокой средней оценкой книг — учтем только книги с 50 и более оценками"
   ]
  },
  {
   "cell_type": "code",
   "execution_count": 9,
   "metadata": {},
   "outputs": [
    {
     "data": {
      "text/html": [
       "<div>\n",
       "<style scoped>\n",
       "    .dataframe tbody tr th:only-of-type {\n",
       "        vertical-align: middle;\n",
       "    }\n",
       "\n",
       "    .dataframe tbody tr th {\n",
       "        vertical-align: top;\n",
       "    }\n",
       "\n",
       "    .dataframe thead th {\n",
       "        text-align: right;\n",
       "    }\n",
       "</style>\n",
       "<table border=\"1\" class=\"dataframe\">\n",
       "  <thead>\n",
       "    <tr style=\"text-align: right;\">\n",
       "      <th></th>\n",
       "      <th>author</th>\n",
       "      <th>avg</th>\n",
       "    </tr>\n",
       "  </thead>\n",
       "  <tbody>\n",
       "    <tr>\n",
       "      <th>0</th>\n",
       "      <td>J.K. Rowling/Mary GrandPré</td>\n",
       "      <td>4.283844</td>\n",
       "    </tr>\n",
       "  </tbody>\n",
       "</table>\n",
       "</div>"
      ],
      "text/plain": [
       "                       author       avg\n",
       "0  J.K. Rowling/Mary GrandPré  4.283844"
      ]
     },
     "execution_count": 9,
     "metadata": {},
     "output_type": "execute_result"
    }
   ],
   "source": [
    "query = '''\n",
    "SELECT best_rating.author,\n",
    "       AVG(best_rating.avg_rating)\n",
    "FROM (SELECT AVG(rating) AS avg_rating,\n",
    "       a.author\n",
    "FROM books as b\n",
    "INNER JOIN authors AS a ON b.author_id=a.author_id\n",
    "INNER JOIN ratings AS r ON b.book_id=r.book_id\n",
    "GROUP BY b.book_id, a.author\n",
    "HAVING COUNT(rating_id)>=50\n",
    "ORDER BY avg_rating DESC) AS best_rating\n",
    "GROUP BY best_rating.author\n",
    "LIMIT 1;\n",
    "'''\n",
    "pd.io.sql.read_sql(sql=text(query), con = con)"
   ]
  },
  {
   "cell_type": "markdown",
   "metadata": {},
   "source": [
    "Самая высокая средняя оценка книг с 50 или более оценками у J.K. Rowling/Mary GrandPré - 4,28."
   ]
  },
  {
   "cell_type": "markdown",
   "metadata": {},
   "source": [
    "## Посчитайте среднее количество обзоров от пользователей, которые поставили больше 48 оценок"
   ]
  },
  {
   "cell_type": "code",
   "execution_count": 10,
   "metadata": {},
   "outputs": [
    {
     "data": {
      "text/html": [
       "<div>\n",
       "<style scoped>\n",
       "    .dataframe tbody tr th:only-of-type {\n",
       "        vertical-align: middle;\n",
       "    }\n",
       "\n",
       "    .dataframe tbody tr th {\n",
       "        vertical-align: top;\n",
       "    }\n",
       "\n",
       "    .dataframe thead th {\n",
       "        text-align: right;\n",
       "    }\n",
       "</style>\n",
       "<table border=\"1\" class=\"dataframe\">\n",
       "  <thead>\n",
       "    <tr style=\"text-align: right;\">\n",
       "      <th></th>\n",
       "      <th>avg</th>\n",
       "    </tr>\n",
       "  </thead>\n",
       "  <tbody>\n",
       "    <tr>\n",
       "      <th>0</th>\n",
       "      <td>24.0</td>\n",
       "    </tr>\n",
       "  </tbody>\n",
       "</table>\n",
       "</div>"
      ],
      "text/plain": [
       "    avg\n",
       "0  24.0"
      ]
     },
     "execution_count": 10,
     "metadata": {},
     "output_type": "execute_result"
    }
   ],
   "source": [
    "query = '''\n",
    "SELECT AVG(cnt_rev.cnt_reviews)\n",
    "FROM (SELECT username,\n",
    "             COUNT(DISTINCT review_id) AS cnt_reviews\n",
    "FROM reviews\n",
    "WHERE username IN (SELECT username\n",
    "                      FROM ratings\n",
    "                      GROUP BY username\n",
    "                      HAVING COUNT(rating_id)>48\n",
    "                      ORDER BY username)\n",
    "GROUP BY username) AS cnt_rev;\n",
    "'''\n",
    "pd.io.sql.read_sql(sql=text(query), con = con)"
   ]
  },
  {
   "cell_type": "markdown",
   "metadata": {},
   "source": [
    "Среднее количество обзоров от пользователей, которые поставили больше 48 оценок составляет 24 обзора."
   ]
  },
  {
   "cell_type": "markdown",
   "metadata": {},
   "source": [
    "## Вывод\n",
    "Проделав небольшой анализ баз данных приложения для чтения книг можно сказать:\n",
    "\n",
    "* В приложении находится база из 1000 книг, включая информацию о самих книгах, авторах, издательствах. Есть информация о рейтингах книг, отзывах и тех, кто их составил, и даже текст самого обзора. Удобно, что помимо самих книг, есть много интересной информации о них и пользователям думают будет интересно с ней ознакомиться, так же это очень помогает в выборе;\n",
    "* Так же в ходе исследования баз данных определили издательство которое выпустило больше всего книг, исключая брошюры - это издательство Penguin Books;\n",
    "* Узнали кто из авторов имеет самую высокой среднюю оценку книг - это J.K. Rowling/Mary GrandPré с рейтингом 4,28\n",
    "* Так же узнали, что среднее количество обзоров у которых больше 48 оценок - 24. "
   ]
  }
 ],
 "metadata": {
  "ExecuteTimeLog": [
   {
    "duration": 8622,
    "start_time": "2024-02-08T13:20:48.938Z"
   },
   {
    "duration": 3,
    "start_time": "2024-02-08T13:26:36.466Z"
   },
   {
    "duration": 2,
    "start_time": "2024-02-08T13:27:24.035Z"
   },
   {
    "duration": 10,
    "start_time": "2024-02-08T13:28:52.588Z"
   },
   {
    "duration": 10,
    "start_time": "2024-02-08T13:29:27.349Z"
   },
   {
    "duration": 11,
    "start_time": "2024-02-08T13:30:09.387Z"
   },
   {
    "duration": 3,
    "start_time": "2024-02-08T13:30:26.303Z"
   },
   {
    "duration": 9,
    "start_time": "2024-02-08T13:30:32.247Z"
   },
   {
    "duration": 30,
    "start_time": "2024-02-08T13:30:51.487Z"
   },
   {
    "duration": 11,
    "start_time": "2024-02-08T13:30:58.727Z"
   },
   {
    "duration": 11,
    "start_time": "2024-02-08T13:31:03.397Z"
   },
   {
    "duration": 10,
    "start_time": "2024-02-08T13:33:25.173Z"
   },
   {
    "duration": 8,
    "start_time": "2024-02-08T13:33:35.850Z"
   },
   {
    "duration": 9,
    "start_time": "2024-02-08T13:33:46.209Z"
   },
   {
    "duration": 80,
    "start_time": "2024-02-08T13:34:37.532Z"
   },
   {
    "duration": 19,
    "start_time": "2024-02-08T13:34:53.849Z"
   },
   {
    "duration": 10,
    "start_time": "2024-02-08T13:36:34.958Z"
   },
   {
    "duration": 7,
    "start_time": "2024-02-08T13:36:45.263Z"
   },
   {
    "duration": 20,
    "start_time": "2024-02-08T13:50:26.283Z"
   },
   {
    "duration": 20,
    "start_time": "2024-02-08T13:51:07.550Z"
   },
   {
    "duration": 19,
    "start_time": "2024-02-08T13:51:32.437Z"
   },
   {
    "duration": 48,
    "start_time": "2024-02-08T13:51:38.978Z"
   },
   {
    "duration": 48,
    "start_time": "2024-02-08T13:51:58.822Z"
   },
   {
    "duration": 45,
    "start_time": "2024-02-08T13:52:07.703Z"
   },
   {
    "duration": 89,
    "start_time": "2024-02-08T13:52:18.070Z"
   },
   {
    "duration": 44,
    "start_time": "2024-02-08T13:52:23.630Z"
   },
   {
    "duration": 228,
    "start_time": "2024-02-08T13:53:56.059Z"
   },
   {
    "duration": 20,
    "start_time": "2024-02-08T13:56:11.327Z"
   },
   {
    "duration": 77,
    "start_time": "2024-02-08T13:56:19.162Z"
   },
   {
    "duration": 40,
    "start_time": "2024-02-08T13:56:29.415Z"
   },
   {
    "duration": 77,
    "start_time": "2024-02-08T13:56:40.509Z"
   },
   {
    "duration": 19,
    "start_time": "2024-02-08T13:56:49.029Z"
   },
   {
    "duration": 84,
    "start_time": "2024-02-08T13:57:01.157Z"
   },
   {
    "duration": 225,
    "start_time": "2024-02-08T13:57:10.514Z"
   },
   {
    "duration": 260,
    "start_time": "2024-02-08T13:57:20.331Z"
   },
   {
    "duration": 239,
    "start_time": "2024-02-08T13:57:31.607Z"
   },
   {
    "duration": 222,
    "start_time": "2024-02-08T13:59:29.547Z"
   },
   {
    "duration": 20,
    "start_time": "2024-02-08T14:01:01.744Z"
   },
   {
    "duration": 90,
    "start_time": "2024-02-08T14:01:33.427Z"
   },
   {
    "duration": 21,
    "start_time": "2024-02-08T14:01:57.504Z"
   },
   {
    "duration": 20,
    "start_time": "2024-02-08T14:02:01.647Z"
   },
   {
    "duration": 20,
    "start_time": "2024-02-08T14:03:03.169Z"
   },
   {
    "duration": 29,
    "start_time": "2024-02-08T14:03:15.775Z"
   },
   {
    "duration": 30,
    "start_time": "2024-02-08T14:04:41.949Z"
   },
   {
    "duration": 19,
    "start_time": "2024-02-08T14:06:03.507Z"
   },
   {
    "duration": 19,
    "start_time": "2024-02-08T14:06:18.066Z"
   },
   {
    "duration": 30,
    "start_time": "2024-02-08T14:06:25.376Z"
   },
   {
    "duration": 29,
    "start_time": "2024-02-08T14:08:03.477Z"
   },
   {
    "duration": 30,
    "start_time": "2024-02-08T14:08:28.457Z"
   },
   {
    "duration": 29,
    "start_time": "2024-02-08T14:08:36.249Z"
   },
   {
    "duration": 32,
    "start_time": "2024-02-08T14:12:53.612Z"
   },
   {
    "duration": 8301,
    "start_time": "2024-02-08T14:17:14.101Z"
   },
   {
    "duration": 9,
    "start_time": "2024-02-08T14:17:22.404Z"
   },
   {
    "duration": 11,
    "start_time": "2024-02-08T14:17:22.414Z"
   },
   {
    "duration": 24,
    "start_time": "2024-02-08T14:17:22.427Z"
   },
   {
    "duration": 18,
    "start_time": "2024-02-08T14:17:22.452Z"
   },
   {
    "duration": 13,
    "start_time": "2024-02-08T14:17:22.472Z"
   },
   {
    "duration": 53,
    "start_time": "2024-02-08T14:17:22.486Z"
   },
   {
    "duration": 28,
    "start_time": "2024-02-08T14:17:49.606Z"
   },
   {
    "duration": 29,
    "start_time": "2024-02-08T14:18:51.672Z"
   },
   {
    "duration": 28,
    "start_time": "2024-02-08T14:19:12.852Z"
   },
   {
    "duration": 32,
    "start_time": "2024-02-08T14:20:16.126Z"
   },
   {
    "duration": 78,
    "start_time": "2024-02-08T14:20:53.790Z"
   },
   {
    "duration": 30,
    "start_time": "2024-02-08T14:21:10.542Z"
   },
   {
    "duration": 20,
    "start_time": "2024-02-08T14:21:43.826Z"
   },
   {
    "duration": 243,
    "start_time": "2024-02-08T14:21:53.089Z"
   },
   {
    "duration": 18,
    "start_time": "2024-02-08T14:22:19.782Z"
   },
   {
    "duration": 19,
    "start_time": "2024-02-08T14:22:24.908Z"
   },
   {
    "duration": 19,
    "start_time": "2024-02-08T14:26:53.189Z"
   },
   {
    "duration": 18,
    "start_time": "2024-02-08T14:27:06.228Z"
   },
   {
    "duration": 19,
    "start_time": "2024-02-08T14:27:19.882Z"
   },
   {
    "duration": 18,
    "start_time": "2024-02-08T14:27:28.392Z"
   },
   {
    "duration": 20,
    "start_time": "2024-02-08T14:28:24.404Z"
   },
   {
    "duration": 20,
    "start_time": "2024-02-08T14:28:51.087Z"
   },
   {
    "duration": 30,
    "start_time": "2024-02-08T14:29:07.205Z"
   },
   {
    "duration": 29,
    "start_time": "2024-02-08T14:29:21.628Z"
   },
   {
    "duration": 29,
    "start_time": "2024-02-08T14:29:27.987Z"
   },
   {
    "duration": 6,
    "start_time": "2024-02-08T14:30:53.199Z"
   },
   {
    "duration": 20,
    "start_time": "2024-02-08T14:32:16.727Z"
   },
   {
    "duration": 19,
    "start_time": "2024-02-08T14:32:29.821Z"
   },
   {
    "duration": 30,
    "start_time": "2024-02-08T14:32:45.564Z"
   },
   {
    "duration": 30,
    "start_time": "2024-02-08T14:34:03.162Z"
   },
   {
    "duration": 28,
    "start_time": "2024-02-08T14:34:17.256Z"
   },
   {
    "duration": 31,
    "start_time": "2024-02-08T14:34:23.887Z"
   },
   {
    "duration": 31,
    "start_time": "2024-02-08T14:35:17.139Z"
   },
   {
    "duration": 28,
    "start_time": "2024-02-08T14:35:27.584Z"
   },
   {
    "duration": 12,
    "start_time": "2024-02-08T14:35:45.413Z"
   },
   {
    "duration": 44,
    "start_time": "2024-02-08T14:35:53.644Z"
   },
   {
    "duration": 25,
    "start_time": "2024-02-08T14:36:02.674Z"
   },
   {
    "duration": 20,
    "start_time": "2024-02-08T14:36:08.282Z"
   },
   {
    "duration": 12,
    "start_time": "2024-02-08T14:36:16.488Z"
   },
   {
    "duration": 21,
    "start_time": "2024-02-08T14:37:00.677Z"
   },
   {
    "duration": 239,
    "start_time": "2024-02-08T14:37:17.595Z"
   },
   {
    "duration": 19,
    "start_time": "2024-02-08T14:38:25.020Z"
   },
   {
    "duration": 248,
    "start_time": "2024-02-08T14:38:47.857Z"
   },
   {
    "duration": 20,
    "start_time": "2024-02-08T14:39:10.032Z"
   },
   {
    "duration": 241,
    "start_time": "2024-02-08T14:39:52.305Z"
   },
   {
    "duration": 217,
    "start_time": "2024-02-08T14:40:00.912Z"
   },
   {
    "duration": 21,
    "start_time": "2024-02-08T14:40:36.012Z"
   },
   {
    "duration": 20,
    "start_time": "2024-02-08T14:42:32.750Z"
   },
   {
    "duration": 19,
    "start_time": "2024-02-08T14:42:42.870Z"
   },
   {
    "duration": 20,
    "start_time": "2024-02-08T14:42:54.164Z"
   },
   {
    "duration": 29,
    "start_time": "2024-02-08T14:48:06.966Z"
   },
   {
    "duration": 19,
    "start_time": "2024-02-08T14:50:54.874Z"
   },
   {
    "duration": 21,
    "start_time": "2024-02-08T14:51:25.213Z"
   },
   {
    "duration": 19,
    "start_time": "2024-02-08T14:51:45.804Z"
   },
   {
    "duration": 20,
    "start_time": "2024-02-08T14:53:10.634Z"
   },
   {
    "duration": 18,
    "start_time": "2024-02-08T14:53:44.391Z"
   },
   {
    "duration": 19,
    "start_time": "2024-02-08T14:54:03.691Z"
   },
   {
    "duration": 30,
    "start_time": "2024-02-08T14:54:14.762Z"
   },
   {
    "duration": 8,
    "start_time": "2024-02-08T14:59:25.491Z"
   },
   {
    "duration": 21,
    "start_time": "2024-02-08T14:59:30.907Z"
   },
   {
    "duration": 20,
    "start_time": "2024-02-08T15:01:19.023Z"
   },
   {
    "duration": 9,
    "start_time": "2024-02-08T15:03:06.547Z"
   },
   {
    "duration": 19,
    "start_time": "2024-02-08T15:03:14.359Z"
   },
   {
    "duration": 23,
    "start_time": "2024-02-08T15:04:26.896Z"
   },
   {
    "duration": 12,
    "start_time": "2024-02-08T15:06:23.573Z"
   },
   {
    "duration": 13,
    "start_time": "2024-02-08T15:06:50.192Z"
   },
   {
    "duration": 12,
    "start_time": "2024-02-08T15:06:58.487Z"
   },
   {
    "duration": 10,
    "start_time": "2024-02-08T15:07:21.037Z"
   },
   {
    "duration": 19,
    "start_time": "2024-02-08T15:09:46.419Z"
   },
   {
    "duration": 18,
    "start_time": "2024-02-08T15:09:50.926Z"
   },
   {
    "duration": 30,
    "start_time": "2024-02-08T15:09:54.170Z"
   },
   {
    "duration": 30,
    "start_time": "2024-02-08T15:10:10.024Z"
   },
   {
    "duration": 19,
    "start_time": "2024-02-08T15:15:32.864Z"
   },
   {
    "duration": 19,
    "start_time": "2024-02-08T15:17:55.497Z"
   },
   {
    "duration": 21,
    "start_time": "2024-02-08T15:18:20.197Z"
   },
   {
    "duration": 30,
    "start_time": "2024-02-08T15:18:37.428Z"
   },
   {
    "duration": 28,
    "start_time": "2024-02-08T15:19:09.808Z"
   },
   {
    "duration": 19,
    "start_time": "2024-02-08T15:19:15.289Z"
   },
   {
    "duration": 28,
    "start_time": "2024-02-08T15:19:20.679Z"
   },
   {
    "duration": 28,
    "start_time": "2024-02-08T15:19:31.676Z"
   },
   {
    "duration": 19,
    "start_time": "2024-02-08T15:19:47.075Z"
   },
   {
    "duration": 20,
    "start_time": "2024-02-08T15:22:25.655Z"
   },
   {
    "duration": 19,
    "start_time": "2024-02-08T15:22:51.923Z"
   },
   {
    "duration": 19,
    "start_time": "2024-02-08T15:23:25.182Z"
   },
   {
    "duration": 21,
    "start_time": "2024-02-08T15:23:45.485Z"
   },
   {
    "duration": 19,
    "start_time": "2024-02-08T15:23:55.243Z"
   },
   {
    "duration": 27,
    "start_time": "2024-02-08T15:24:01.578Z"
   },
   {
    "duration": 26,
    "start_time": "2024-02-08T15:24:42.692Z"
   },
   {
    "duration": 27,
    "start_time": "2024-02-08T15:25:24.711Z"
   },
   {
    "duration": 18,
    "start_time": "2024-02-08T15:26:36.660Z"
   },
   {
    "duration": 19,
    "start_time": "2024-02-08T15:26:47.941Z"
   },
   {
    "duration": 20,
    "start_time": "2024-02-08T15:27:08.298Z"
   },
   {
    "duration": 18,
    "start_time": "2024-02-08T15:27:19.123Z"
   },
   {
    "duration": 38,
    "start_time": "2024-02-08T15:27:35.799Z"
   },
   {
    "duration": 38,
    "start_time": "2024-02-08T15:28:07.706Z"
   },
   {
    "duration": 38,
    "start_time": "2024-02-08T15:28:13.002Z"
   },
   {
    "duration": 37,
    "start_time": "2024-02-08T15:28:35.541Z"
   },
   {
    "duration": 37,
    "start_time": "2024-02-08T15:29:26.242Z"
   },
   {
    "duration": 19,
    "start_time": "2024-02-08T15:29:48.828Z"
   },
   {
    "duration": 37,
    "start_time": "2024-02-08T15:29:58.499Z"
   },
   {
    "duration": 36,
    "start_time": "2024-02-08T15:30:55.746Z"
   },
   {
    "duration": 20,
    "start_time": "2024-02-08T15:55:41.779Z"
   },
   {
    "duration": 88,
    "start_time": "2024-02-08T15:55:52.340Z"
   },
   {
    "duration": 20,
    "start_time": "2024-02-08T15:56:36.397Z"
   },
   {
    "duration": 19,
    "start_time": "2024-02-08T15:57:17.802Z"
   },
   {
    "duration": 54,
    "start_time": "2024-02-08T16:00:03.222Z"
   },
   {
    "duration": 15,
    "start_time": "2024-02-08T16:00:56.943Z"
   },
   {
    "duration": 18,
    "start_time": "2024-02-08T16:01:12.322Z"
   },
   {
    "duration": 19,
    "start_time": "2024-02-08T16:02:00.350Z"
   },
   {
    "duration": 18,
    "start_time": "2024-02-08T16:02:17.931Z"
   },
   {
    "duration": 20,
    "start_time": "2024-02-08T16:02:49.496Z"
   },
   {
    "duration": 16,
    "start_time": "2024-02-08T16:03:25.181Z"
   },
   {
    "duration": 15,
    "start_time": "2024-02-08T16:04:13.169Z"
   },
   {
    "duration": 15,
    "start_time": "2024-02-08T16:04:21.397Z"
   },
   {
    "duration": 20,
    "start_time": "2024-02-08T16:09:46.813Z"
   },
   {
    "duration": 17,
    "start_time": "2024-02-08T16:10:31.532Z"
   },
   {
    "duration": 17,
    "start_time": "2024-02-08T16:11:24.113Z"
   },
   {
    "duration": 19,
    "start_time": "2024-02-08T16:30:53.888Z"
   },
   {
    "duration": 20,
    "start_time": "2024-02-08T16:31:10.031Z"
   },
   {
    "duration": 152,
    "start_time": "2024-02-08T16:32:19.972Z"
   },
   {
    "duration": 22,
    "start_time": "2024-02-08T16:34:25.482Z"
   },
   {
    "duration": 19,
    "start_time": "2024-02-08T16:34:40.015Z"
   },
   {
    "duration": 18,
    "start_time": "2024-02-08T16:35:10.254Z"
   },
   {
    "duration": 19,
    "start_time": "2024-02-08T16:36:10.832Z"
   },
   {
    "duration": 18,
    "start_time": "2024-02-08T16:36:18.088Z"
   },
   {
    "duration": 17,
    "start_time": "2024-02-08T16:37:44.104Z"
   },
   {
    "duration": 17,
    "start_time": "2024-02-08T16:40:33.895Z"
   },
   {
    "duration": 19,
    "start_time": "2024-02-08T16:40:54.958Z"
   },
   {
    "duration": 18,
    "start_time": "2024-02-08T16:41:00.308Z"
   },
   {
    "duration": 2,
    "start_time": "2024-02-08T16:41:41.552Z"
   },
   {
    "duration": 19,
    "start_time": "2024-02-08T16:41:54.255Z"
   },
   {
    "duration": 29,
    "start_time": "2024-02-08T16:43:42.557Z"
   },
   {
    "duration": 27,
    "start_time": "2024-02-08T16:43:56.139Z"
   },
   {
    "duration": 20,
    "start_time": "2024-02-08T16:52:42.531Z"
   },
   {
    "duration": 19,
    "start_time": "2024-02-08T16:53:11.140Z"
   },
   {
    "duration": 19,
    "start_time": "2024-02-08T16:53:19.344Z"
   },
   {
    "duration": 19,
    "start_time": "2024-02-08T16:53:26.232Z"
   },
   {
    "duration": 20,
    "start_time": "2024-02-08T16:54:14.827Z"
   },
   {
    "duration": 19,
    "start_time": "2024-02-08T16:54:24.489Z"
   },
   {
    "duration": 4555,
    "start_time": "2024-02-08T16:54:34.456Z"
   },
   {
    "duration": 4527,
    "start_time": "2024-02-08T16:55:52.534Z"
   },
   {
    "duration": 17,
    "start_time": "2024-02-08T16:56:25.579Z"
   },
   {
    "duration": 21,
    "start_time": "2024-02-08T16:56:46.121Z"
   },
   {
    "duration": 16,
    "start_time": "2024-02-08T16:57:03.002Z"
   },
   {
    "duration": 19,
    "start_time": "2024-02-08T16:57:14.357Z"
   },
   {
    "duration": 24,
    "start_time": "2024-02-08T16:57:26.214Z"
   },
   {
    "duration": 23,
    "start_time": "2024-02-08T16:57:39.978Z"
   },
   {
    "duration": 19,
    "start_time": "2024-02-08T16:57:45.952Z"
   },
   {
    "duration": 17,
    "start_time": "2024-02-08T16:58:03.009Z"
   },
   {
    "duration": 17,
    "start_time": "2024-02-08T16:58:55.802Z"
   },
   {
    "duration": 20,
    "start_time": "2024-02-08T17:02:48.095Z"
   },
   {
    "duration": 8568,
    "start_time": "2024-02-08T17:03:10.623Z"
   },
   {
    "duration": 19,
    "start_time": "2024-02-08T17:03:32.979Z"
   },
   {
    "duration": 8537,
    "start_time": "2024-02-08T17:03:42.651Z"
   },
   {
    "duration": 37,
    "start_time": "2024-02-08T17:04:34.766Z"
   },
   {
    "duration": 32,
    "start_time": "2024-02-08T17:05:28.712Z"
   },
   {
    "duration": 36,
    "start_time": "2024-02-08T17:06:10.425Z"
   },
   {
    "duration": 38,
    "start_time": "2024-02-08T17:06:31.715Z"
   },
   {
    "duration": 37,
    "start_time": "2024-02-08T17:06:45.221Z"
   },
   {
    "duration": 13258,
    "start_time": "2024-02-08T17:06:52.855Z"
   },
   {
    "duration": 19,
    "start_time": "2024-02-08T17:27:32.490Z"
   },
   {
    "duration": 18,
    "start_time": "2024-02-08T17:27:43.530Z"
   },
   {
    "duration": 19,
    "start_time": "2024-02-08T17:34:34.275Z"
   },
   {
    "duration": 18,
    "start_time": "2024-02-08T17:35:05.063Z"
   },
   {
    "duration": 19,
    "start_time": "2024-02-08T17:35:19.622Z"
   },
   {
    "duration": 19,
    "start_time": "2024-02-08T17:35:24.837Z"
   },
   {
    "duration": 18,
    "start_time": "2024-02-08T17:35:28.205Z"
   },
   {
    "duration": 20,
    "start_time": "2024-02-08T17:35:34.420Z"
   },
   {
    "duration": 19,
    "start_time": "2024-02-08T17:35:53.914Z"
   },
   {
    "duration": 20,
    "start_time": "2024-02-08T17:36:09.866Z"
   },
   {
    "duration": 19,
    "start_time": "2024-02-08T17:36:53.796Z"
   },
   {
    "duration": 19,
    "start_time": "2024-02-08T17:37:00.314Z"
   },
   {
    "duration": 18,
    "start_time": "2024-02-08T17:37:39.093Z"
   },
   {
    "duration": 13,
    "start_time": "2024-02-08T17:37:46.276Z"
   },
   {
    "duration": 29,
    "start_time": "2024-02-08T17:38:18.836Z"
   },
   {
    "duration": 12,
    "start_time": "2024-02-08T17:39:23.841Z"
   },
   {
    "duration": 18,
    "start_time": "2024-02-08T17:43:08.211Z"
   },
   {
    "duration": 20,
    "start_time": "2024-02-08T17:43:35.784Z"
   },
   {
    "duration": 17,
    "start_time": "2024-02-08T17:44:04.608Z"
   },
   {
    "duration": 18,
    "start_time": "2024-02-08T17:46:38.325Z"
   },
   {
    "duration": 22,
    "start_time": "2024-02-08T17:47:13.241Z"
   },
   {
    "duration": 20,
    "start_time": "2024-02-08T17:47:17.312Z"
   },
   {
    "duration": 19,
    "start_time": "2024-02-08T17:47:21.439Z"
   },
   {
    "duration": 19,
    "start_time": "2024-02-08T17:47:28.677Z"
   },
   {
    "duration": 18,
    "start_time": "2024-02-08T17:47:41.067Z"
   },
   {
    "duration": 18,
    "start_time": "2024-02-08T17:49:12.862Z"
   },
   {
    "duration": 11,
    "start_time": "2024-02-08T17:49:17.952Z"
   },
   {
    "duration": 17,
    "start_time": "2024-02-08T18:01:53.892Z"
   },
   {
    "duration": 16,
    "start_time": "2024-02-08T18:02:06.329Z"
   },
   {
    "duration": 25,
    "start_time": "2024-02-08T18:02:47.484Z"
   },
   {
    "duration": 25,
    "start_time": "2024-02-08T18:03:07.681Z"
   },
   {
    "duration": 17,
    "start_time": "2024-02-08T18:03:14.479Z"
   },
   {
    "duration": 20,
    "start_time": "2024-02-08T18:08:21.483Z"
   },
   {
    "duration": 20,
    "start_time": "2024-02-08T18:08:40.040Z"
   },
   {
    "duration": 13,
    "start_time": "2024-02-08T18:09:03.339Z"
   },
   {
    "duration": 12,
    "start_time": "2024-02-08T18:09:16.618Z"
   },
   {
    "duration": 12,
    "start_time": "2024-02-08T18:09:42.862Z"
   },
   {
    "duration": 19,
    "start_time": "2024-02-08T18:17:02.879Z"
   },
   {
    "duration": 20,
    "start_time": "2024-02-08T18:17:17.092Z"
   },
   {
    "duration": 35,
    "start_time": "2024-02-08T18:17:36.461Z"
   },
   {
    "duration": 8307,
    "start_time": "2024-02-08T18:36:02.047Z"
   },
   {
    "duration": 9,
    "start_time": "2024-02-08T18:36:10.356Z"
   },
   {
    "duration": 9,
    "start_time": "2024-02-08T18:36:10.366Z"
   },
   {
    "duration": 10,
    "start_time": "2024-02-08T18:36:10.377Z"
   },
   {
    "duration": 9,
    "start_time": "2024-02-08T18:36:10.388Z"
   },
   {
    "duration": 9,
    "start_time": "2024-02-08T18:36:10.399Z"
   },
   {
    "duration": 41,
    "start_time": "2024-02-08T18:36:10.410Z"
   },
   {
    "duration": 12,
    "start_time": "2024-02-08T18:36:10.453Z"
   },
   {
    "duration": 15,
    "start_time": "2024-02-08T18:36:10.470Z"
   },
   {
    "duration": 71,
    "start_time": "2024-02-08T18:36:10.488Z"
   },
   {
    "duration": 0,
    "start_time": "2024-02-08T18:36:10.561Z"
   },
   {
    "duration": 8877,
    "start_time": "2024-02-08T21:18:01.876Z"
   },
   {
    "duration": 31,
    "start_time": "2024-02-08T21:18:10.755Z"
   },
   {
    "duration": 32,
    "start_time": "2024-02-08T21:18:10.788Z"
   },
   {
    "duration": 43,
    "start_time": "2024-02-08T21:18:10.822Z"
   },
   {
    "duration": 32,
    "start_time": "2024-02-08T21:18:10.868Z"
   },
   {
    "duration": 31,
    "start_time": "2024-02-08T21:18:10.902Z"
   },
   {
    "duration": 90,
    "start_time": "2024-02-08T21:18:10.935Z"
   },
   {
    "duration": 32,
    "start_time": "2024-02-08T21:18:11.027Z"
   },
   {
    "duration": 35,
    "start_time": "2024-02-08T21:18:11.061Z"
   },
   {
    "duration": 33,
    "start_time": "2024-02-08T21:18:11.098Z"
   }
  ],
  "kernelspec": {
   "display_name": "Python 3 (ipykernel)",
   "language": "python",
   "name": "python3"
  },
  "language_info": {
   "codemirror_mode": {
    "name": "ipython",
    "version": 3
   },
   "file_extension": ".py",
   "mimetype": "text/x-python",
   "name": "python",
   "nbconvert_exporter": "python",
   "pygments_lexer": "ipython3",
   "version": "3.11.5"
  },
  "toc": {
   "base_numbering": 1,
   "nav_menu": {},
   "number_sections": true,
   "sideBar": true,
   "skip_h1_title": true,
   "title_cell": "Table of Contents",
   "title_sidebar": "Contents",
   "toc_cell": false,
   "toc_position": {},
   "toc_section_display": true,
   "toc_window_display": true
  }
 },
 "nbformat": 4,
 "nbformat_minor": 2
}
