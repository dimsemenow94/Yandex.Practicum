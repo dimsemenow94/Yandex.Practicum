{
 "cells": [
  {
   "cell_type": "markdown",
   "id": "acbbe25a",
   "metadata": {},
   "source": [
    "##  Шаг 1. Загрузка и предобработка данных"
   ]
  },
  {
   "cell_type": "code",
   "execution_count": 1,
   "id": "72576667",
   "metadata": {},
   "outputs": [],
   "source": [
    "import pandas as pd\n",
    "from matplotlib import pyplot as plt\n",
    "import numpy as np\n",
    "import scipy.stats as st"
   ]
  },
  {
   "cell_type": "code",
   "execution_count": 2,
   "id": "eff9f206",
   "metadata": {
    "scrolled": true
   },
   "outputs": [],
   "source": [
    "users = pd.read_csv('C:/Users/dima/Downloads/users_go.csv')"
   ]
  },
  {
   "cell_type": "code",
   "execution_count": 3,
   "id": "f9d3674d",
   "metadata": {},
   "outputs": [],
   "source": [
    "pd.set_option('display.max_columns', None)"
   ]
  },
  {
   "cell_type": "code",
   "execution_count": 4,
   "id": "c98f6569",
   "metadata": {},
   "outputs": [
    {
     "data": {
      "text/html": [
       "<div>\n",
       "<style scoped>\n",
       "    .dataframe tbody tr th:only-of-type {\n",
       "        vertical-align: middle;\n",
       "    }\n",
       "\n",
       "    .dataframe tbody tr th {\n",
       "        vertical-align: top;\n",
       "    }\n",
       "\n",
       "    .dataframe thead th {\n",
       "        text-align: right;\n",
       "    }\n",
       "</style>\n",
       "<table border=\"1\" class=\"dataframe\">\n",
       "  <thead>\n",
       "    <tr style=\"text-align: right;\">\n",
       "      <th></th>\n",
       "      <th>user_id</th>\n",
       "      <th>name</th>\n",
       "      <th>age</th>\n",
       "      <th>city</th>\n",
       "      <th>subscription_type</th>\n",
       "    </tr>\n",
       "  </thead>\n",
       "  <tbody>\n",
       "    <tr>\n",
       "      <th>0</th>\n",
       "      <td>1</td>\n",
       "      <td>Кира</td>\n",
       "      <td>22</td>\n",
       "      <td>Тюмень</td>\n",
       "      <td>ultra</td>\n",
       "    </tr>\n",
       "    <tr>\n",
       "      <th>1</th>\n",
       "      <td>2</td>\n",
       "      <td>Станислав</td>\n",
       "      <td>31</td>\n",
       "      <td>Омск</td>\n",
       "      <td>ultra</td>\n",
       "    </tr>\n",
       "    <tr>\n",
       "      <th>2</th>\n",
       "      <td>3</td>\n",
       "      <td>Алексей</td>\n",
       "      <td>20</td>\n",
       "      <td>Москва</td>\n",
       "      <td>ultra</td>\n",
       "    </tr>\n",
       "    <tr>\n",
       "      <th>3</th>\n",
       "      <td>4</td>\n",
       "      <td>Константин</td>\n",
       "      <td>26</td>\n",
       "      <td>Ростов-на-Дону</td>\n",
       "      <td>ultra</td>\n",
       "    </tr>\n",
       "    <tr>\n",
       "      <th>4</th>\n",
       "      <td>5</td>\n",
       "      <td>Адель</td>\n",
       "      <td>28</td>\n",
       "      <td>Омск</td>\n",
       "      <td>ultra</td>\n",
       "    </tr>\n",
       "    <tr>\n",
       "      <th>5</th>\n",
       "      <td>6</td>\n",
       "      <td>Регина</td>\n",
       "      <td>25</td>\n",
       "      <td>Краснодар</td>\n",
       "      <td>ultra</td>\n",
       "    </tr>\n",
       "    <tr>\n",
       "      <th>6</th>\n",
       "      <td>7</td>\n",
       "      <td>Игорь</td>\n",
       "      <td>23</td>\n",
       "      <td>Омск</td>\n",
       "      <td>ultra</td>\n",
       "    </tr>\n",
       "    <tr>\n",
       "      <th>7</th>\n",
       "      <td>8</td>\n",
       "      <td>Юрий</td>\n",
       "      <td>23</td>\n",
       "      <td>Краснодар</td>\n",
       "      <td>ultra</td>\n",
       "    </tr>\n",
       "    <tr>\n",
       "      <th>8</th>\n",
       "      <td>9</td>\n",
       "      <td>Ян</td>\n",
       "      <td>21</td>\n",
       "      <td>Пятигорск</td>\n",
       "      <td>ultra</td>\n",
       "    </tr>\n",
       "    <tr>\n",
       "      <th>9</th>\n",
       "      <td>10</td>\n",
       "      <td>Валерий</td>\n",
       "      <td>18</td>\n",
       "      <td>Екатеринбург</td>\n",
       "      <td>ultra</td>\n",
       "    </tr>\n",
       "    <tr>\n",
       "      <th>10</th>\n",
       "      <td>11</td>\n",
       "      <td>Агата</td>\n",
       "      <td>31</td>\n",
       "      <td>Краснодар</td>\n",
       "      <td>ultra</td>\n",
       "    </tr>\n",
       "    <tr>\n",
       "      <th>11</th>\n",
       "      <td>12</td>\n",
       "      <td>Марк</td>\n",
       "      <td>27</td>\n",
       "      <td>Тюмень</td>\n",
       "      <td>ultra</td>\n",
       "    </tr>\n",
       "    <tr>\n",
       "      <th>12</th>\n",
       "      <td>13</td>\n",
       "      <td>Ева</td>\n",
       "      <td>24</td>\n",
       "      <td>Краснодар</td>\n",
       "      <td>ultra</td>\n",
       "    </tr>\n",
       "    <tr>\n",
       "      <th>13</th>\n",
       "      <td>14</td>\n",
       "      <td>Антонина</td>\n",
       "      <td>18</td>\n",
       "      <td>Пятигорск</td>\n",
       "      <td>ultra</td>\n",
       "    </tr>\n",
       "    <tr>\n",
       "      <th>14</th>\n",
       "      <td>15</td>\n",
       "      <td>Валерия</td>\n",
       "      <td>24</td>\n",
       "      <td>Тюмень</td>\n",
       "      <td>ultra</td>\n",
       "    </tr>\n",
       "    <tr>\n",
       "      <th>15</th>\n",
       "      <td>16</td>\n",
       "      <td>Амалия</td>\n",
       "      <td>27</td>\n",
       "      <td>Краснодар</td>\n",
       "      <td>ultra</td>\n",
       "    </tr>\n",
       "    <tr>\n",
       "      <th>16</th>\n",
       "      <td>17</td>\n",
       "      <td>Даниил</td>\n",
       "      <td>29</td>\n",
       "      <td>Москва</td>\n",
       "      <td>ultra</td>\n",
       "    </tr>\n",
       "    <tr>\n",
       "      <th>17</th>\n",
       "      <td>18</td>\n",
       "      <td>Аделина</td>\n",
       "      <td>24</td>\n",
       "      <td>Сочи</td>\n",
       "      <td>ultra</td>\n",
       "    </tr>\n",
       "    <tr>\n",
       "      <th>18</th>\n",
       "      <td>19</td>\n",
       "      <td>Регина</td>\n",
       "      <td>32</td>\n",
       "      <td>Тюмень</td>\n",
       "      <td>ultra</td>\n",
       "    </tr>\n",
       "    <tr>\n",
       "      <th>19</th>\n",
       "      <td>20</td>\n",
       "      <td>Игорь</td>\n",
       "      <td>23</td>\n",
       "      <td>Омск</td>\n",
       "      <td>ultra</td>\n",
       "    </tr>\n",
       "  </tbody>\n",
       "</table>\n",
       "</div>"
      ],
      "text/plain": [
       "    user_id        name  age            city subscription_type\n",
       "0         1        Кира   22          Тюмень             ultra\n",
       "1         2   Станислав   31            Омск             ultra\n",
       "2         3     Алексей   20          Москва             ultra\n",
       "3         4  Константин   26  Ростов-на-Дону             ultra\n",
       "4         5       Адель   28            Омск             ultra\n",
       "5         6      Регина   25       Краснодар             ultra\n",
       "6         7       Игорь   23            Омск             ultra\n",
       "7         8        Юрий   23       Краснодар             ultra\n",
       "8         9          Ян   21       Пятигорск             ultra\n",
       "9        10     Валерий   18    Екатеринбург             ultra\n",
       "10       11       Агата   31       Краснодар             ultra\n",
       "11       12        Марк   27          Тюмень             ultra\n",
       "12       13         Ева   24       Краснодар             ultra\n",
       "13       14    Антонина   18       Пятигорск             ultra\n",
       "14       15     Валерия   24          Тюмень             ultra\n",
       "15       16      Амалия   27       Краснодар             ultra\n",
       "16       17      Даниил   29          Москва             ultra\n",
       "17       18     Аделина   24            Сочи             ultra\n",
       "18       19      Регина   32          Тюмень             ultra\n",
       "19       20       Игорь   23            Омск             ultra"
      ]
     },
     "execution_count": 4,
     "metadata": {},
     "output_type": "execute_result"
    }
   ],
   "source": [
    "users.head(20)"
   ]
  },
  {
   "cell_type": "code",
   "execution_count": 5,
   "id": "fe693578",
   "metadata": {},
   "outputs": [
    {
     "name": "stdout",
     "output_type": "stream",
     "text": [
      "<class 'pandas.core.frame.DataFrame'>\n",
      "RangeIndex: 1565 entries, 0 to 1564\n",
      "Data columns (total 5 columns):\n",
      " #   Column             Non-Null Count  Dtype \n",
      "---  ------             --------------  ----- \n",
      " 0   user_id            1565 non-null   int64 \n",
      " 1   name               1565 non-null   object\n",
      " 2   age                1565 non-null   int64 \n",
      " 3   city               1565 non-null   object\n",
      " 4   subscription_type  1565 non-null   object\n",
      "dtypes: int64(2), object(3)\n",
      "memory usage: 61.3+ KB\n"
     ]
    }
   ],
   "source": [
    "users.info()"
   ]
  },
  {
   "cell_type": "code",
   "execution_count": 6,
   "id": "c7580400",
   "metadata": {
    "scrolled": true
   },
   "outputs": [],
   "source": [
    "rides = pd.read_csv('C:/Users/dima/Downloads/rides_go.csv')"
   ]
  },
  {
   "cell_type": "code",
   "execution_count": 7,
   "id": "13d8a266",
   "metadata": {},
   "outputs": [
    {
     "data": {
      "text/html": [
       "<div>\n",
       "<style scoped>\n",
       "    .dataframe tbody tr th:only-of-type {\n",
       "        vertical-align: middle;\n",
       "    }\n",
       "\n",
       "    .dataframe tbody tr th {\n",
       "        vertical-align: top;\n",
       "    }\n",
       "\n",
       "    .dataframe thead th {\n",
       "        text-align: right;\n",
       "    }\n",
       "</style>\n",
       "<table border=\"1\" class=\"dataframe\">\n",
       "  <thead>\n",
       "    <tr style=\"text-align: right;\">\n",
       "      <th></th>\n",
       "      <th>user_id</th>\n",
       "      <th>distance</th>\n",
       "      <th>duration</th>\n",
       "      <th>date</th>\n",
       "    </tr>\n",
       "  </thead>\n",
       "  <tbody>\n",
       "    <tr>\n",
       "      <th>0</th>\n",
       "      <td>1</td>\n",
       "      <td>4409.919140</td>\n",
       "      <td>25.599769</td>\n",
       "      <td>2021-01-01</td>\n",
       "    </tr>\n",
       "    <tr>\n",
       "      <th>1</th>\n",
       "      <td>1</td>\n",
       "      <td>2617.592153</td>\n",
       "      <td>15.816871</td>\n",
       "      <td>2021-01-18</td>\n",
       "    </tr>\n",
       "    <tr>\n",
       "      <th>2</th>\n",
       "      <td>1</td>\n",
       "      <td>754.159807</td>\n",
       "      <td>6.232113</td>\n",
       "      <td>2021-04-20</td>\n",
       "    </tr>\n",
       "    <tr>\n",
       "      <th>3</th>\n",
       "      <td>1</td>\n",
       "      <td>2694.783254</td>\n",
       "      <td>18.511000</td>\n",
       "      <td>2021-08-11</td>\n",
       "    </tr>\n",
       "    <tr>\n",
       "      <th>4</th>\n",
       "      <td>1</td>\n",
       "      <td>4028.687306</td>\n",
       "      <td>26.265803</td>\n",
       "      <td>2021-08-28</td>\n",
       "    </tr>\n",
       "    <tr>\n",
       "      <th>5</th>\n",
       "      <td>1</td>\n",
       "      <td>2770.890808</td>\n",
       "      <td>16.650138</td>\n",
       "      <td>2021-10-09</td>\n",
       "    </tr>\n",
       "    <tr>\n",
       "      <th>6</th>\n",
       "      <td>1</td>\n",
       "      <td>3039.020292</td>\n",
       "      <td>14.927879</td>\n",
       "      <td>2021-10-19</td>\n",
       "    </tr>\n",
       "    <tr>\n",
       "      <th>7</th>\n",
       "      <td>1</td>\n",
       "      <td>2842.118050</td>\n",
       "      <td>23.117468</td>\n",
       "      <td>2021-11-06</td>\n",
       "    </tr>\n",
       "    <tr>\n",
       "      <th>8</th>\n",
       "      <td>1</td>\n",
       "      <td>3412.690668</td>\n",
       "      <td>15.238072</td>\n",
       "      <td>2021-11-14</td>\n",
       "    </tr>\n",
       "    <tr>\n",
       "      <th>9</th>\n",
       "      <td>1</td>\n",
       "      <td>748.690645</td>\n",
       "      <td>15.041884</td>\n",
       "      <td>2021-11-22</td>\n",
       "    </tr>\n",
       "    <tr>\n",
       "      <th>10</th>\n",
       "      <td>1</td>\n",
       "      <td>4031.020195</td>\n",
       "      <td>17.674448</td>\n",
       "      <td>2021-12-14</td>\n",
       "    </tr>\n",
       "    <tr>\n",
       "      <th>11</th>\n",
       "      <td>1</td>\n",
       "      <td>2720.609748</td>\n",
       "      <td>9.529463</td>\n",
       "      <td>2021-12-22</td>\n",
       "    </tr>\n",
       "    <tr>\n",
       "      <th>12</th>\n",
       "      <td>2</td>\n",
       "      <td>3105.086678</td>\n",
       "      <td>24.307514</td>\n",
       "      <td>2021-03-15</td>\n",
       "    </tr>\n",
       "    <tr>\n",
       "      <th>13</th>\n",
       "      <td>2</td>\n",
       "      <td>3053.519401</td>\n",
       "      <td>11.543256</td>\n",
       "      <td>2021-03-18</td>\n",
       "    </tr>\n",
       "    <tr>\n",
       "      <th>14</th>\n",
       "      <td>2</td>\n",
       "      <td>4029.116927</td>\n",
       "      <td>25.109188</td>\n",
       "      <td>2021-03-23</td>\n",
       "    </tr>\n",
       "    <tr>\n",
       "      <th>15</th>\n",
       "      <td>2</td>\n",
       "      <td>2805.786329</td>\n",
       "      <td>20.652145</td>\n",
       "      <td>2021-04-08</td>\n",
       "    </tr>\n",
       "    <tr>\n",
       "      <th>16</th>\n",
       "      <td>2</td>\n",
       "      <td>3358.595495</td>\n",
       "      <td>18.396489</td>\n",
       "      <td>2021-04-13</td>\n",
       "    </tr>\n",
       "    <tr>\n",
       "      <th>17</th>\n",
       "      <td>2</td>\n",
       "      <td>3255.338202</td>\n",
       "      <td>13.851127</td>\n",
       "      <td>2021-06-20</td>\n",
       "    </tr>\n",
       "    <tr>\n",
       "      <th>18</th>\n",
       "      <td>2</td>\n",
       "      <td>3942.817648</td>\n",
       "      <td>20.142725</td>\n",
       "      <td>2021-07-02</td>\n",
       "    </tr>\n",
       "    <tr>\n",
       "      <th>19</th>\n",
       "      <td>2</td>\n",
       "      <td>2837.905316</td>\n",
       "      <td>26.027432</td>\n",
       "      <td>2021-07-18</td>\n",
       "    </tr>\n",
       "  </tbody>\n",
       "</table>\n",
       "</div>"
      ],
      "text/plain": [
       "    user_id     distance   duration        date\n",
       "0         1  4409.919140  25.599769  2021-01-01\n",
       "1         1  2617.592153  15.816871  2021-01-18\n",
       "2         1   754.159807   6.232113  2021-04-20\n",
       "3         1  2694.783254  18.511000  2021-08-11\n",
       "4         1  4028.687306  26.265803  2021-08-28\n",
       "5         1  2770.890808  16.650138  2021-10-09\n",
       "6         1  3039.020292  14.927879  2021-10-19\n",
       "7         1  2842.118050  23.117468  2021-11-06\n",
       "8         1  3412.690668  15.238072  2021-11-14\n",
       "9         1   748.690645  15.041884  2021-11-22\n",
       "10        1  4031.020195  17.674448  2021-12-14\n",
       "11        1  2720.609748   9.529463  2021-12-22\n",
       "12        2  3105.086678  24.307514  2021-03-15\n",
       "13        2  3053.519401  11.543256  2021-03-18\n",
       "14        2  4029.116927  25.109188  2021-03-23\n",
       "15        2  2805.786329  20.652145  2021-04-08\n",
       "16        2  3358.595495  18.396489  2021-04-13\n",
       "17        2  3255.338202  13.851127  2021-06-20\n",
       "18        2  3942.817648  20.142725  2021-07-02\n",
       "19        2  2837.905316  26.027432  2021-07-18"
      ]
     },
     "execution_count": 7,
     "metadata": {},
     "output_type": "execute_result"
    }
   ],
   "source": [
    "rides.head(20)"
   ]
  },
  {
   "cell_type": "code",
   "execution_count": 8,
   "id": "767c63e1",
   "metadata": {},
   "outputs": [
    {
     "name": "stdout",
     "output_type": "stream",
     "text": [
      "<class 'pandas.core.frame.DataFrame'>\n",
      "RangeIndex: 18068 entries, 0 to 18067\n",
      "Data columns (total 4 columns):\n",
      " #   Column    Non-Null Count  Dtype  \n",
      "---  ------    --------------  -----  \n",
      " 0   user_id   18068 non-null  int64  \n",
      " 1   distance  18068 non-null  float64\n",
      " 2   duration  18068 non-null  float64\n",
      " 3   date      18068 non-null  object \n",
      "dtypes: float64(2), int64(1), object(1)\n",
      "memory usage: 564.8+ KB\n"
     ]
    }
   ],
   "source": [
    "rides.info()"
   ]
  },
  {
   "cell_type": "code",
   "execution_count": 9,
   "id": "4d117ce0",
   "metadata": {},
   "outputs": [],
   "source": [
    "subscriptions = pd.read_csv('C:/Users/dima/Downloads/subscriptions_go.csv')"
   ]
  },
  {
   "cell_type": "code",
   "execution_count": 10,
   "id": "b8a65834",
   "metadata": {},
   "outputs": [
    {
     "data": {
      "text/html": [
       "<div>\n",
       "<style scoped>\n",
       "    .dataframe tbody tr th:only-of-type {\n",
       "        vertical-align: middle;\n",
       "    }\n",
       "\n",
       "    .dataframe tbody tr th {\n",
       "        vertical-align: top;\n",
       "    }\n",
       "\n",
       "    .dataframe thead th {\n",
       "        text-align: right;\n",
       "    }\n",
       "</style>\n",
       "<table border=\"1\" class=\"dataframe\">\n",
       "  <thead>\n",
       "    <tr style=\"text-align: right;\">\n",
       "      <th></th>\n",
       "      <th>subscription_type</th>\n",
       "      <th>minute_price</th>\n",
       "      <th>start_ride_price</th>\n",
       "      <th>subscription_fee</th>\n",
       "    </tr>\n",
       "  </thead>\n",
       "  <tbody>\n",
       "    <tr>\n",
       "      <th>0</th>\n",
       "      <td>free</td>\n",
       "      <td>8</td>\n",
       "      <td>50</td>\n",
       "      <td>0</td>\n",
       "    </tr>\n",
       "    <tr>\n",
       "      <th>1</th>\n",
       "      <td>ultra</td>\n",
       "      <td>6</td>\n",
       "      <td>0</td>\n",
       "      <td>199</td>\n",
       "    </tr>\n",
       "  </tbody>\n",
       "</table>\n",
       "</div>"
      ],
      "text/plain": [
       "  subscription_type  minute_price  start_ride_price  subscription_fee\n",
       "0              free             8                50                 0\n",
       "1             ultra             6                 0               199"
      ]
     },
     "execution_count": 10,
     "metadata": {},
     "output_type": "execute_result"
    }
   ],
   "source": [
    "subscriptions.head(20)"
   ]
  },
  {
   "cell_type": "code",
   "execution_count": 11,
   "id": "abcc7f63",
   "metadata": {},
   "outputs": [
    {
     "name": "stdout",
     "output_type": "stream",
     "text": [
      "<class 'pandas.core.frame.DataFrame'>\n",
      "RangeIndex: 2 entries, 0 to 1\n",
      "Data columns (total 4 columns):\n",
      " #   Column             Non-Null Count  Dtype \n",
      "---  ------             --------------  ----- \n",
      " 0   subscription_type  2 non-null      object\n",
      " 1   minute_price       2 non-null      int64 \n",
      " 2   start_ride_price   2 non-null      int64 \n",
      " 3   subscription_fee   2 non-null      int64 \n",
      "dtypes: int64(3), object(1)\n",
      "memory usage: 196.0+ bytes\n"
     ]
    }
   ],
   "source": [
    "subscriptions.info()"
   ]
  },
  {
   "cell_type": "markdown",
   "id": "861cad0d",
   "metadata": {},
   "source": [
    "В данном задании у нас есть три датафрема с информацией о пользователях и подписках. \n",
    "В первом датафрейме представлены данные общие данные о пользователях, такие как имя, возраст, город, тип подписки.\n",
    "Во втором датафрейме представлены данные о расстоянии, продолжительности и дате поездки.\n",
    "В третьем датафрейме информация о подписках: цена минуты, стартовая цена, и стоимость месячной подписки.\n",
    "Вызвав метод инфо, можно обратить внимание, что пропущенных значений в данных нет, во втором датафрейме нужно поменять тип данных в столбце data на datatime. Нужно будет просмотреть информацию по дубликатам, аномальным значениям."
   ]
  },
  {
   "cell_type": "markdown",
   "id": "4530c34d",
   "metadata": {},
   "source": [
    "## Приводим значение к типу datetime"
   ]
  },
  {
   "cell_type": "code",
   "execution_count": 12,
   "id": "af6d202c",
   "metadata": {},
   "outputs": [],
   "source": [
    "rides['date'] = pd.to_datetime(rides['date'], format='%Y-%m-%d')"
   ]
  },
  {
   "cell_type": "code",
   "execution_count": 13,
   "id": "3a53f82a",
   "metadata": {},
   "outputs": [
    {
     "name": "stdout",
     "output_type": "stream",
     "text": [
      "<class 'pandas.core.frame.DataFrame'>\n",
      "RangeIndex: 18068 entries, 0 to 18067\n",
      "Data columns (total 4 columns):\n",
      " #   Column    Non-Null Count  Dtype         \n",
      "---  ------    --------------  -----         \n",
      " 0   user_id   18068 non-null  int64         \n",
      " 1   distance  18068 non-null  float64       \n",
      " 2   duration  18068 non-null  float64       \n",
      " 3   date      18068 non-null  datetime64[ns]\n",
      "dtypes: datetime64[ns](1), float64(2), int64(1)\n",
      "memory usage: 564.8 KB\n"
     ]
    }
   ],
   "source": [
    "rides.info()"
   ]
  },
  {
   "cell_type": "code",
   "execution_count": 14,
   "id": "0575021b",
   "metadata": {},
   "outputs": [],
   "source": [
    "rides['number_month'] = rides['date'].dt.month"
   ]
  },
  {
   "cell_type": "code",
   "execution_count": 15,
   "id": "73b42163",
   "metadata": {},
   "outputs": [
    {
     "data": {
      "text/html": [
       "<div>\n",
       "<style scoped>\n",
       "    .dataframe tbody tr th:only-of-type {\n",
       "        vertical-align: middle;\n",
       "    }\n",
       "\n",
       "    .dataframe tbody tr th {\n",
       "        vertical-align: top;\n",
       "    }\n",
       "\n",
       "    .dataframe thead th {\n",
       "        text-align: right;\n",
       "    }\n",
       "</style>\n",
       "<table border=\"1\" class=\"dataframe\">\n",
       "  <thead>\n",
       "    <tr style=\"text-align: right;\">\n",
       "      <th></th>\n",
       "      <th>user_id</th>\n",
       "      <th>distance</th>\n",
       "      <th>duration</th>\n",
       "      <th>date</th>\n",
       "      <th>number_month</th>\n",
       "    </tr>\n",
       "  </thead>\n",
       "  <tbody>\n",
       "    <tr>\n",
       "      <th>0</th>\n",
       "      <td>1</td>\n",
       "      <td>4409.919140</td>\n",
       "      <td>25.599769</td>\n",
       "      <td>2021-01-01</td>\n",
       "      <td>1</td>\n",
       "    </tr>\n",
       "    <tr>\n",
       "      <th>1</th>\n",
       "      <td>1</td>\n",
       "      <td>2617.592153</td>\n",
       "      <td>15.816871</td>\n",
       "      <td>2021-01-18</td>\n",
       "      <td>1</td>\n",
       "    </tr>\n",
       "    <tr>\n",
       "      <th>2</th>\n",
       "      <td>1</td>\n",
       "      <td>754.159807</td>\n",
       "      <td>6.232113</td>\n",
       "      <td>2021-04-20</td>\n",
       "      <td>4</td>\n",
       "    </tr>\n",
       "    <tr>\n",
       "      <th>3</th>\n",
       "      <td>1</td>\n",
       "      <td>2694.783254</td>\n",
       "      <td>18.511000</td>\n",
       "      <td>2021-08-11</td>\n",
       "      <td>8</td>\n",
       "    </tr>\n",
       "    <tr>\n",
       "      <th>4</th>\n",
       "      <td>1</td>\n",
       "      <td>4028.687306</td>\n",
       "      <td>26.265803</td>\n",
       "      <td>2021-08-28</td>\n",
       "      <td>8</td>\n",
       "    </tr>\n",
       "  </tbody>\n",
       "</table>\n",
       "</div>"
      ],
      "text/plain": [
       "   user_id     distance   duration       date  number_month\n",
       "0        1  4409.919140  25.599769 2021-01-01             1\n",
       "1        1  2617.592153  15.816871 2021-01-18             1\n",
       "2        1   754.159807   6.232113 2021-04-20             4\n",
       "3        1  2694.783254  18.511000 2021-08-11             8\n",
       "4        1  4028.687306  26.265803 2021-08-28             8"
      ]
     },
     "execution_count": 15,
     "metadata": {},
     "output_type": "execute_result"
    }
   ],
   "source": [
    "rides.head(5)"
   ]
  },
  {
   "cell_type": "markdown",
   "id": "507e17e6",
   "metadata": {},
   "source": [
    "## Проверим наличие пропущенных значений и дубликатов"
   ]
  },
  {
   "cell_type": "markdown",
   "id": "d9bb89a8",
   "metadata": {},
   "source": [
    "### Поиск пропущенных значений"
   ]
  },
  {
   "cell_type": "code",
   "execution_count": 16,
   "id": "5f04f28d",
   "metadata": {},
   "outputs": [
    {
     "data": {
      "text/plain": [
       "user_id              0\n",
       "name                 0\n",
       "age                  0\n",
       "city                 0\n",
       "subscription_type    0\n",
       "dtype: int64"
      ]
     },
     "execution_count": 16,
     "metadata": {},
     "output_type": "execute_result"
    }
   ],
   "source": [
    "users.isna().sum() #пропущенные значения в датафрейме users отсутствуют"
   ]
  },
  {
   "cell_type": "code",
   "execution_count": 17,
   "id": "0f3f37e1",
   "metadata": {},
   "outputs": [
    {
     "data": {
      "text/plain": [
       "user_id         0\n",
       "distance        0\n",
       "duration        0\n",
       "date            0\n",
       "number_month    0\n",
       "dtype: int64"
      ]
     },
     "execution_count": 17,
     "metadata": {},
     "output_type": "execute_result"
    }
   ],
   "source": [
    "rides.isna().sum() #пропущенные значения в датафрейме rides отсутствуют"
   ]
  },
  {
   "cell_type": "code",
   "execution_count": 18,
   "id": "47a96bb0",
   "metadata": {},
   "outputs": [
    {
     "data": {
      "text/plain": [
       "subscription_type    0\n",
       "minute_price         0\n",
       "start_ride_price     0\n",
       "subscription_fee     0\n",
       "dtype: int64"
      ]
     },
     "execution_count": 18,
     "metadata": {},
     "output_type": "execute_result"
    }
   ],
   "source": [
    "subscriptions.isna().sum() #пропущенные значения в датафрейме subscriptions отсутствуют"
   ]
  },
  {
   "cell_type": "markdown",
   "id": "eb6479f8",
   "metadata": {},
   "source": [
    "### Поиск дубликатов"
   ]
  },
  {
   "cell_type": "code",
   "execution_count": 19,
   "id": "2c7d62f3",
   "metadata": {},
   "outputs": [
    {
     "data": {
      "text/plain": [
       "31"
      ]
     },
     "execution_count": 19,
     "metadata": {},
     "output_type": "execute_result"
    }
   ],
   "source": [
    "users.duplicated().sum() #в датафрейме users нашлось 31 строк-дубликатов, удалим их\n"
   ]
  },
  {
   "cell_type": "code",
   "execution_count": 20,
   "id": "1ca8ac20",
   "metadata": {},
   "outputs": [],
   "source": [
    "users = users.drop_duplicates().reset_index(drop = True)"
   ]
  },
  {
   "cell_type": "code",
   "execution_count": 21,
   "id": "7cc7519a",
   "metadata": {},
   "outputs": [
    {
     "data": {
      "text/plain": [
       "0"
      ]
     },
     "execution_count": 21,
     "metadata": {},
     "output_type": "execute_result"
    }
   ],
   "source": [
    "users.duplicated().sum() "
   ]
  },
  {
   "cell_type": "code",
   "execution_count": 22,
   "id": "98f982fc",
   "metadata": {},
   "outputs": [
    {
     "data": {
      "text/plain": [
       "array(['Агата', 'Аделина', 'Адель', 'Айдар', 'Александр', 'Александра',\n",
       "       'Алексей', 'Алина', 'Алиса', 'Алия', 'Алла', 'Альберт', 'Альбина',\n",
       "       'Алёна', 'Амалия', 'Амина', 'Амир', 'Анастасия', 'Анатолий',\n",
       "       'Ангелина', 'Андрей', 'Анжелика', 'Анна', 'Антон', 'Антонина',\n",
       "       'Ариана', 'Арина', 'Арсен', 'Арсений', 'Артемий', 'Артур', 'Артём',\n",
       "       'Богдан', 'Борис', 'Вадим', 'Валентина', 'Валерий', 'Валерия',\n",
       "       'Варвара', 'Василий', 'Василина', 'Василиса', 'Вера', 'Вероника',\n",
       "       'Виктор', 'Виктория', 'Виолетта', 'Виталий', 'Виталина', 'Влад',\n",
       "       'Влада', 'Владимир', 'Владислав', 'Владислава', 'Всеволод',\n",
       "       'Вячеслав', 'Галина', 'Георгий', 'Герман', 'Глеб', 'Гордей',\n",
       "       'Григорий', 'Давид', 'Дамир', 'Даниил', 'Данил', 'Данила',\n",
       "       'Даниэль', 'Дарина', 'Дарья', 'Демид', 'Денис', 'Диана', 'Дмитрий',\n",
       "       'Ева', 'Евгений', 'Евгения', 'Егор', 'Екатерина', 'Елена',\n",
       "       'Елизавета', 'Елисей', 'Есения', 'Жанна', 'Зарина', 'Захар',\n",
       "       'Злата', 'Иван', 'Игнат', 'Игорь', 'Ильдар', 'Илья', 'Инна',\n",
       "       'Ирина', 'Камилла', 'Карина', 'Каролина', 'Кира', 'Кирилл',\n",
       "       'Константин', 'Кристина', 'Ксения', 'Лариса', 'Лев', 'Леонид',\n",
       "       'Лиана', 'Лидия', 'Лилия', 'Любовь', 'Людмила', 'Мадина', 'Майя',\n",
       "       'Макар', 'Максим', 'Марат', 'Маргарита', 'Марина', 'Мария', 'Марк',\n",
       "       'Марсель', 'Матвей', 'Мелания', 'Милана', 'Милена', 'Мирон',\n",
       "       'Мирослав', 'Мирослава', 'Михаил', 'Назар', 'Наталия', 'Наталья',\n",
       "       'Наташа', 'Нелли', 'Ника', 'Никита', 'Николай', 'Нина', 'Одиссей',\n",
       "       'Оксана', 'Олег', 'Олеся', 'Ольга', 'Павел', 'Петр', 'Платон',\n",
       "       'Полина', 'Радмир', 'Рамиль', 'Регина', 'Роберт', 'Родион',\n",
       "       'Роман', 'Ростислав', 'Руслан', 'Рустам', 'Савелий', 'Самир',\n",
       "       'Самира', 'Светлана', 'Святогор', 'Святослав', 'Семен', 'Сергей',\n",
       "       'Снежана', 'София', 'Софья', 'Станислав', 'Степан', 'Стефания',\n",
       "       'Таисия', 'Тамара', 'Тамерлан', 'Татьяна', 'Тимофей', 'Тимур',\n",
       "       'Тихон', 'Ульяна', 'Федор', 'Эвелина', 'Эдуард', 'Элина',\n",
       "       'Эльвира', 'Эльмира', 'Эмилия', 'Эмиль', 'Юлиана', 'Юлия', 'Юрий',\n",
       "       'Ян', 'Яна', 'Яромир', 'Ярослав', 'Ярослава', 'Ясмина'],\n",
       "      dtype=object)"
      ]
     },
     "execution_count": 22,
     "metadata": {},
     "output_type": "execute_result"
    }
   ],
   "source": [
    "users['name'].sort_values(ascending = True).unique() #проверим столбцы а наличие неявных дубликатов"
   ]
  },
  {
   "cell_type": "code",
   "execution_count": 23,
   "id": "cdf18fa0",
   "metadata": {},
   "outputs": [
    {
     "data": {
      "text/plain": [
       "array(['Екатеринбург', 'Краснодар', 'Москва', 'Омск', 'Пятигорск',\n",
       "       'Ростов-на-Дону', 'Сочи', 'Тюмень'], dtype=object)"
      ]
     },
     "execution_count": 23,
     "metadata": {},
     "output_type": "execute_result"
    }
   ],
   "source": [
    "users['city'].sort_values(ascending = True).unique()"
   ]
  },
  {
   "cell_type": "code",
   "execution_count": 24,
   "id": "f0dd57f2",
   "metadata": {},
   "outputs": [
    {
     "data": {
      "text/plain": [
       "array([22, 31, 20, 26, 28, 25, 23, 21, 18, 27, 24, 29, 32, 14, 19, 30, 17,\n",
       "       12, 35, 33, 13, 15, 37, 16, 34, 38, 36, 39, 43], dtype=int64)"
      ]
     },
     "execution_count": 24,
     "metadata": {},
     "output_type": "execute_result"
    }
   ],
   "source": [
    "users['age'].unique()"
   ]
  },
  {
   "cell_type": "code",
   "execution_count": 25,
   "id": "e4c9427a",
   "metadata": {},
   "outputs": [
    {
     "data": {
      "text/plain": [
       "array(['ultra', 'free'], dtype=object)"
      ]
     },
     "execution_count": 25,
     "metadata": {},
     "output_type": "execute_result"
    }
   ],
   "source": [
    "users['subscription_type'].unique() #в датафрейме users явные дубликаты не выявлены"
   ]
  },
  {
   "cell_type": "code",
   "execution_count": 26,
   "id": "5dac6333",
   "metadata": {},
   "outputs": [
    {
     "data": {
      "text/plain": [
       "0"
      ]
     },
     "execution_count": 26,
     "metadata": {},
     "output_type": "execute_result"
    }
   ],
   "source": [
    "rides.duplicated().sum() #в датафрейме rides отсутствуют строки-дубликаты"
   ]
  },
  {
   "cell_type": "code",
   "execution_count": 27,
   "id": "afd7f114",
   "metadata": {},
   "outputs": [
    {
     "data": {
      "text/plain": [
       "0"
      ]
     },
     "execution_count": 27,
     "metadata": {},
     "output_type": "execute_result"
    }
   ],
   "source": [
    "subscriptions.duplicated().sum() #в датафрейме subscriptions отсутствуют строки-дубликаты"
   ]
  },
  {
   "cell_type": "markdown",
   "id": "a473a1ed",
   "metadata": {},
   "source": [
    "В данном разделе изменили тип данных в столбце data датафрейма rides на datatime. Добавили по заданию новый столбец, который будет выводить номер месяца каждой поездки. Убедились в том, что у нас в датафреймах нет пропущенных значений. Следующим шагом произведем поиск дубликатов. В users нашли 31 дубликат, удалим их и перезапишем датафрейм. В остальных датафреймах нет строк-дубликатов. Так же посмотрим уникальные значения в столбцах, чтобы выявить аномалии, которых в последующем не обнаружили. "
   ]
  },
  {
   "cell_type": "markdown",
   "id": "212593c7",
   "metadata": {},
   "source": [
    "## Шаг 2. Исследовательский анализ данных"
   ]
  },
  {
   "cell_type": "markdown",
   "id": "6a694b64",
   "metadata": {},
   "source": [
    "### Частота встречаемости городов"
   ]
  },
  {
   "cell_type": "code",
   "execution_count": 28,
   "id": "e3a4274c",
   "metadata": {},
   "outputs": [
    {
     "data": {
      "text/plain": [
       "count          1534\n",
       "unique            8\n",
       "top       Пятигорск\n",
       "freq            219\n",
       "Name: city, dtype: object"
      ]
     },
     "execution_count": 28,
     "metadata": {},
     "output_type": "execute_result"
    }
   ],
   "source": [
    "users['city'].describe()"
   ]
  },
  {
   "cell_type": "code",
   "execution_count": 29,
   "id": "62c4e6c8",
   "metadata": {},
   "outputs": [
    {
     "data": {
      "text/plain": [
       "city\n",
       "Москва            168\n",
       "Тюмень            180\n",
       "Омск              183\n",
       "Сочи              189\n",
       "Краснодар         193\n",
       "Ростов-на-Дону    198\n",
       "Екатеринбург      204\n",
       "Пятигорск         219\n",
       "Name: city, dtype: int64"
      ]
     },
     "metadata": {},
     "output_type": "display_data"
    }
   ],
   "source": [
    "users_city = users.groupby('city')['city'].count().sort_values(ascending = True)\n",
    "display(users_city)"
   ]
  },
  {
   "cell_type": "code",
   "execution_count": 30,
   "id": "8b221e23",
   "metadata": {},
   "outputs": [
    {
     "data": {
      "image/png": "[encoded data removed]",
      "text/plain": [
       "<Figure size 1000x600 with 1 Axes>"
      ]
     },
     "metadata": {},
     "output_type": "display_data"
    }
   ],
   "source": [
    "users_city.plot(x='city', kind='bar', figsize=(10, 6), grid=True, title ='Частота встречаемости городов')\n",
    "plt.xlabel('Город')\n",
    "plt.ylabel('Частота упоминаний');"
   ]
  },
  {
   "cell_type": "markdown",
   "id": "070e13ab",
   "metadata": {},
   "source": [
    "Графику видно, что самый часто встречаемый город - Пятигорск(219 записей). После него идет Екатеринбург. Меньше всего записей приходится на Москву(168)."
   ]
  },
  {
   "cell_type": "markdown",
   "id": "06939d8a",
   "metadata": {},
   "source": [
    "### Соотношение пользователей с подпиской и без подписки"
   ]
  },
  {
   "cell_type": "code",
   "execution_count": 31,
   "id": "3cc0c9a1",
   "metadata": {},
   "outputs": [
    {
     "data": {
      "text/html": [
       "<div>\n",
       "<style scoped>\n",
       "    .dataframe tbody tr th:only-of-type {\n",
       "        vertical-align: middle;\n",
       "    }\n",
       "\n",
       "    .dataframe tbody tr th {\n",
       "        vertical-align: top;\n",
       "    }\n",
       "\n",
       "    .dataframe thead th {\n",
       "        text-align: right;\n",
       "    }\n",
       "</style>\n",
       "<table border=\"1\" class=\"dataframe\">\n",
       "  <thead>\n",
       "    <tr style=\"text-align: right;\">\n",
       "      <th></th>\n",
       "      <th>Количество пользователей</th>\n",
       "      <th>Всего пользователей</th>\n",
       "      <th>Доля пользователей от общего</th>\n",
       "    </tr>\n",
       "    <tr>\n",
       "      <th>subscription_type</th>\n",
       "      <th></th>\n",
       "      <th></th>\n",
       "      <th></th>\n",
       "    </tr>\n",
       "  </thead>\n",
       "  <tbody>\n",
       "    <tr>\n",
       "      <th>free</th>\n",
       "      <td>835</td>\n",
       "      <td>1534</td>\n",
       "      <td>54.4</td>\n",
       "    </tr>\n",
       "    <tr>\n",
       "      <th>ultra</th>\n",
       "      <td>699</td>\n",
       "      <td>1534</td>\n",
       "      <td>45.6</td>\n",
       "    </tr>\n",
       "  </tbody>\n",
       "</table>\n",
       "</div>"
      ],
      "text/plain": [
       "                   Количество пользователей  Всего пользователей  \\\n",
       "subscription_type                                                  \n",
       "free                                    835                 1534   \n",
       "ultra                                   699                 1534   \n",
       "\n",
       "                   Доля пользователей от общего  \n",
       "subscription_type                                \n",
       "free                                       54.4  \n",
       "ultra                                      45.6  "
      ]
     },
     "metadata": {},
     "output_type": "display_data"
    }
   ],
   "source": [
    "ratio_users = users.copy()\n",
    "\n",
    "ratio = ratio_users.pivot_table(index='subscription_type', values='user_id', aggfunc=['count'])\n",
    "ratio.columns = ['count_users_sub']\n",
    "ratio['sum_users_sub']= ratio['count_users_sub'].sum()\n",
    "ratio['shape'] = round((ratio['count_users_sub']/ratio['sum_users_sub'])*100, 1)\n",
    "ratio.columns =['Количество пользователей', 'Всего пользователей', 'Доля пользователей от общего']\n",
    "display(ratio)"
   ]
  },
  {
   "cell_type": "code",
   "execution_count": 32,
   "id": "3e06d58e",
   "metadata": {},
   "outputs": [
    {
     "data": {
      "image/png": "[encoded data removed]",
      "text/plain": [
       "<Figure size 640x480 with 1 Axes>"
      ]
     },
     "metadata": {},
     "output_type": "display_data"
    }
   ],
   "source": [
    "ratio.plot(kind='pie', y='Доля пользователей от общего', autopct='%1.0f%%', colors = ['lightgreen','grey'], \n",
    "           title='Соотношение пользователей с подпиской и без подписки');\n",
    "plt.legend(['Без подписки', 'С подпиской ultra'])\n",
    "plt.ylabel('');\n"
   ]
  },
  {
   "cell_type": "markdown",
   "id": "f7415e9f",
   "metadata": {},
   "source": [
    "По диаграмме видно, что разница между пользователями с подпиской и без не так значительна. 54% без подписки и с подпиской 46%, но все равно, больще пользователей, которые не пользуются подпиской."
   ]
  },
  {
   "cell_type": "markdown",
   "id": "9fca1bd2",
   "metadata": {},
   "source": [
    "### Возраст пользователей"
   ]
  },
  {
   "cell_type": "code",
   "execution_count": 33,
   "id": "2e57677a",
   "metadata": {},
   "outputs": [
    {
     "data": {
      "text/plain": [
       "count    1534.000000\n",
       "mean       24.903520\n",
       "std         4.572367\n",
       "min        12.000000\n",
       "25%        22.000000\n",
       "50%        25.000000\n",
       "75%        28.000000\n",
       "max        43.000000\n",
       "Name: age, dtype: float64"
      ]
     },
     "execution_count": 33,
     "metadata": {},
     "output_type": "execute_result"
    }
   ],
   "source": [
    "users['age'].describe()"
   ]
  },
  {
   "cell_type": "code",
   "execution_count": 34,
   "id": "9afd52f8",
   "metadata": {},
   "outputs": [
    {
     "data": {
      "text/html": [
       "<div>\n",
       "<style scoped>\n",
       "    .dataframe tbody tr th:only-of-type {\n",
       "        vertical-align: middle;\n",
       "    }\n",
       "\n",
       "    .dataframe tbody tr th {\n",
       "        vertical-align: top;\n",
       "    }\n",
       "\n",
       "    .dataframe thead th {\n",
       "        text-align: right;\n",
       "    }\n",
       "</style>\n",
       "<table border=\"1\" class=\"dataframe\">\n",
       "  <thead>\n",
       "    <tr style=\"text-align: right;\">\n",
       "      <th></th>\n",
       "      <th>Возраст пользователей</th>\n",
       "      <th>Количество пользователей</th>\n",
       "    </tr>\n",
       "  </thead>\n",
       "  <tbody>\n",
       "    <tr>\n",
       "      <th>0</th>\n",
       "      <td>12</td>\n",
       "      <td>4</td>\n",
       "    </tr>\n",
       "    <tr>\n",
       "      <th>1</th>\n",
       "      <td>13</td>\n",
       "      <td>8</td>\n",
       "    </tr>\n",
       "    <tr>\n",
       "      <th>2</th>\n",
       "      <td>14</td>\n",
       "      <td>9</td>\n",
       "    </tr>\n",
       "    <tr>\n",
       "      <th>3</th>\n",
       "      <td>15</td>\n",
       "      <td>13</td>\n",
       "    </tr>\n",
       "    <tr>\n",
       "      <th>4</th>\n",
       "      <td>16</td>\n",
       "      <td>19</td>\n",
       "    </tr>\n",
       "    <tr>\n",
       "      <th>5</th>\n",
       "      <td>17</td>\n",
       "      <td>26</td>\n",
       "    </tr>\n",
       "    <tr>\n",
       "      <th>6</th>\n",
       "      <td>18</td>\n",
       "      <td>46</td>\n",
       "    </tr>\n",
       "    <tr>\n",
       "      <th>7</th>\n",
       "      <td>19</td>\n",
       "      <td>47</td>\n",
       "    </tr>\n",
       "    <tr>\n",
       "      <th>8</th>\n",
       "      <td>20</td>\n",
       "      <td>71</td>\n",
       "    </tr>\n",
       "    <tr>\n",
       "      <th>9</th>\n",
       "      <td>21</td>\n",
       "      <td>93</td>\n",
       "    </tr>\n",
       "    <tr>\n",
       "      <th>10</th>\n",
       "      <td>22</td>\n",
       "      <td>119</td>\n",
       "    </tr>\n",
       "    <tr>\n",
       "      <th>11</th>\n",
       "      <td>23</td>\n",
       "      <td>129</td>\n",
       "    </tr>\n",
       "    <tr>\n",
       "      <th>12</th>\n",
       "      <td>24</td>\n",
       "      <td>132</td>\n",
       "    </tr>\n",
       "    <tr>\n",
       "      <th>13</th>\n",
       "      <td>25</td>\n",
       "      <td>145</td>\n",
       "    </tr>\n",
       "    <tr>\n",
       "      <th>14</th>\n",
       "      <td>26</td>\n",
       "      <td>131</td>\n",
       "    </tr>\n",
       "    <tr>\n",
       "      <th>15</th>\n",
       "      <td>27</td>\n",
       "      <td>119</td>\n",
       "    </tr>\n",
       "    <tr>\n",
       "      <th>16</th>\n",
       "      <td>28</td>\n",
       "      <td>112</td>\n",
       "    </tr>\n",
       "    <tr>\n",
       "      <th>17</th>\n",
       "      <td>29</td>\n",
       "      <td>68</td>\n",
       "    </tr>\n",
       "    <tr>\n",
       "      <th>18</th>\n",
       "      <td>30</td>\n",
       "      <td>68</td>\n",
       "    </tr>\n",
       "    <tr>\n",
       "      <th>19</th>\n",
       "      <td>31</td>\n",
       "      <td>48</td>\n",
       "    </tr>\n",
       "    <tr>\n",
       "      <th>20</th>\n",
       "      <td>32</td>\n",
       "      <td>41</td>\n",
       "    </tr>\n",
       "    <tr>\n",
       "      <th>21</th>\n",
       "      <td>33</td>\n",
       "      <td>39</td>\n",
       "    </tr>\n",
       "    <tr>\n",
       "      <th>22</th>\n",
       "      <td>34</td>\n",
       "      <td>19</td>\n",
       "    </tr>\n",
       "    <tr>\n",
       "      <th>23</th>\n",
       "      <td>35</td>\n",
       "      <td>15</td>\n",
       "    </tr>\n",
       "    <tr>\n",
       "      <th>24</th>\n",
       "      <td>36</td>\n",
       "      <td>6</td>\n",
       "    </tr>\n",
       "    <tr>\n",
       "      <th>25</th>\n",
       "      <td>37</td>\n",
       "      <td>2</td>\n",
       "    </tr>\n",
       "    <tr>\n",
       "      <th>26</th>\n",
       "      <td>38</td>\n",
       "      <td>3</td>\n",
       "    </tr>\n",
       "    <tr>\n",
       "      <th>27</th>\n",
       "      <td>39</td>\n",
       "      <td>1</td>\n",
       "    </tr>\n",
       "    <tr>\n",
       "      <th>28</th>\n",
       "      <td>43</td>\n",
       "      <td>1</td>\n",
       "    </tr>\n",
       "  </tbody>\n",
       "</table>\n",
       "</div>"
      ],
      "text/plain": [
       "    Возраст пользователей  Количество пользователей\n",
       "0                      12                         4\n",
       "1                      13                         8\n",
       "2                      14                         9\n",
       "3                      15                        13\n",
       "4                      16                        19\n",
       "5                      17                        26\n",
       "6                      18                        46\n",
       "7                      19                        47\n",
       "8                      20                        71\n",
       "9                      21                        93\n",
       "10                     22                       119\n",
       "11                     23                       129\n",
       "12                     24                       132\n",
       "13                     25                       145\n",
       "14                     26                       131\n",
       "15                     27                       119\n",
       "16                     28                       112\n",
       "17                     29                        68\n",
       "18                     30                        68\n",
       "19                     31                        48\n",
       "20                     32                        41\n",
       "21                     33                        39\n",
       "22                     34                        19\n",
       "23                     35                        15\n",
       "24                     36                         6\n",
       "25                     37                         2\n",
       "26                     38                         3\n",
       "27                     39                         1\n",
       "28                     43                         1"
      ]
     },
     "metadata": {},
     "output_type": "display_data"
    }
   ],
   "source": [
    "users_age = users.pivot_table(index= 'age', values='user_id', aggfunc= 'count')\n",
    "users_age = users_age.reset_index()\n",
    "users_age.columns =['Возраст пользователей', 'Количество пользователей']\n",
    "display(users_age)"
   ]
  },
  {
   "cell_type": "code",
   "execution_count": 35,
   "id": "092e111b",
   "metadata": {},
   "outputs": [
    {
     "data": {
      "image/png": "[encoded data removed]",
      "text/plain": [
       "<Figure size 1000x600 with 1 Axes>"
      ]
     },
     "metadata": {},
     "output_type": "display_data"
    }
   ],
   "source": [
    "users_age.plot(x='Возраст пользователей', y='Количество пользователей', kind='bar', figsize=(10, 6), grid=True, title ='Возраст пользователей')\n",
    "plt.xlabel('Возраст')\n",
    "plt.ylabel('Количество пользователей');"
   ]
  },
  {
   "cell_type": "markdown",
   "id": "e4a1ce97",
   "metadata": {},
   "source": [
    "Большинство пользователей приходится на возврастную группу от 22 до 28 лет. Так же это видно и по среднему, оно составяет около 25 лет. Самым молодым пользователям - 12 лет, а самым взрослым - 43 года."
   ]
  },
  {
   "cell_type": "markdown",
   "id": "7eb0a80f",
   "metadata": {},
   "source": [
    "###  Расстояние, которое пользователь преодолел за одну поездку"
   ]
  },
  {
   "cell_type": "code",
   "execution_count": 36,
   "id": "ce45df82",
   "metadata": {},
   "outputs": [
    {
     "data": {
      "text/html": [
       "<div>\n",
       "<style scoped>\n",
       "    .dataframe tbody tr th:only-of-type {\n",
       "        vertical-align: middle;\n",
       "    }\n",
       "\n",
       "    .dataframe tbody tr th {\n",
       "        vertical-align: top;\n",
       "    }\n",
       "\n",
       "    .dataframe thead th {\n",
       "        text-align: right;\n",
       "    }\n",
       "</style>\n",
       "<table border=\"1\" class=\"dataframe\">\n",
       "  <thead>\n",
       "    <tr style=\"text-align: right;\">\n",
       "      <th></th>\n",
       "      <th>user_id</th>\n",
       "      <th>distance</th>\n",
       "      <th>duration</th>\n",
       "      <th>date</th>\n",
       "      <th>number_month</th>\n",
       "    </tr>\n",
       "  </thead>\n",
       "  <tbody>\n",
       "    <tr>\n",
       "      <th>0</th>\n",
       "      <td>1</td>\n",
       "      <td>4409.9</td>\n",
       "      <td>25.599769</td>\n",
       "      <td>2021-01-01</td>\n",
       "      <td>1</td>\n",
       "    </tr>\n",
       "    <tr>\n",
       "      <th>1</th>\n",
       "      <td>1</td>\n",
       "      <td>2617.6</td>\n",
       "      <td>15.816871</td>\n",
       "      <td>2021-01-18</td>\n",
       "      <td>1</td>\n",
       "    </tr>\n",
       "    <tr>\n",
       "      <th>2</th>\n",
       "      <td>1</td>\n",
       "      <td>754.2</td>\n",
       "      <td>6.232113</td>\n",
       "      <td>2021-04-20</td>\n",
       "      <td>4</td>\n",
       "    </tr>\n",
       "    <tr>\n",
       "      <th>3</th>\n",
       "      <td>1</td>\n",
       "      <td>2694.8</td>\n",
       "      <td>18.511000</td>\n",
       "      <td>2021-08-11</td>\n",
       "      <td>8</td>\n",
       "    </tr>\n",
       "    <tr>\n",
       "      <th>4</th>\n",
       "      <td>1</td>\n",
       "      <td>4028.7</td>\n",
       "      <td>26.265803</td>\n",
       "      <td>2021-08-28</td>\n",
       "      <td>8</td>\n",
       "    </tr>\n",
       "    <tr>\n",
       "      <th>5</th>\n",
       "      <td>1</td>\n",
       "      <td>2770.9</td>\n",
       "      <td>16.650138</td>\n",
       "      <td>2021-10-09</td>\n",
       "      <td>10</td>\n",
       "    </tr>\n",
       "    <tr>\n",
       "      <th>6</th>\n",
       "      <td>1</td>\n",
       "      <td>3039.0</td>\n",
       "      <td>14.927879</td>\n",
       "      <td>2021-10-19</td>\n",
       "      <td>10</td>\n",
       "    </tr>\n",
       "    <tr>\n",
       "      <th>7</th>\n",
       "      <td>1</td>\n",
       "      <td>2842.1</td>\n",
       "      <td>23.117468</td>\n",
       "      <td>2021-11-06</td>\n",
       "      <td>11</td>\n",
       "    </tr>\n",
       "    <tr>\n",
       "      <th>8</th>\n",
       "      <td>1</td>\n",
       "      <td>3412.7</td>\n",
       "      <td>15.238072</td>\n",
       "      <td>2021-11-14</td>\n",
       "      <td>11</td>\n",
       "    </tr>\n",
       "    <tr>\n",
       "      <th>9</th>\n",
       "      <td>1</td>\n",
       "      <td>748.7</td>\n",
       "      <td>15.041884</td>\n",
       "      <td>2021-11-22</td>\n",
       "      <td>11</td>\n",
       "    </tr>\n",
       "  </tbody>\n",
       "</table>\n",
       "</div>"
      ],
      "text/plain": [
       "   user_id  distance   duration       date  number_month\n",
       "0        1    4409.9  25.599769 2021-01-01             1\n",
       "1        1    2617.6  15.816871 2021-01-18             1\n",
       "2        1     754.2   6.232113 2021-04-20             4\n",
       "3        1    2694.8  18.511000 2021-08-11             8\n",
       "4        1    4028.7  26.265803 2021-08-28             8\n",
       "5        1    2770.9  16.650138 2021-10-09            10\n",
       "6        1    3039.0  14.927879 2021-10-19            10\n",
       "7        1    2842.1  23.117468 2021-11-06            11\n",
       "8        1    3412.7  15.238072 2021-11-14            11\n",
       "9        1     748.7  15.041884 2021-11-22            11"
      ]
     },
     "metadata": {},
     "output_type": "display_data"
    }
   ],
   "source": [
    "rides['distance'] = round(rides['distance'], 1) #округлим значение в солбце distance до 1 знака после запятой\n",
    "display(rides.head(10))"
   ]
  },
  {
   "cell_type": "code",
   "execution_count": 37,
   "id": "0f07b146",
   "metadata": {},
   "outputs": [
    {
     "data": {
      "text/plain": [
       "count    18068.000000\n",
       "mean      3070.659841\n",
       "std       1116.831106\n",
       "min          0.900000\n",
       "25%       2543.200000\n",
       "50%       3133.600000\n",
       "75%       3776.225000\n",
       "max       7211.000000\n",
       "Name: distance, dtype: float64"
      ]
     },
     "execution_count": 37,
     "metadata": {},
     "output_type": "execute_result"
    }
   ],
   "source": [
    "rides['distance'].describe()"
   ]
  },
  {
   "cell_type": "code",
   "execution_count": 38,
   "id": "b36b6b31",
   "metadata": {},
   "outputs": [
    {
     "data": {
      "image/png": "[encoded data removed]",
      "text/plain": [
       "<Figure size 1000x600 with 1 Axes>"
      ]
     },
     "metadata": {},
     "output_type": "display_data"
    }
   ],
   "source": [
    "rides['distance'].hist(bins= 30, figsize=(10, 6), range=(0, 7300), grid=True)\n",
    "plt.xlabel('Дистанция')\n",
    "plt.ylabel('Количество пользователей')\n",
    "plt.title('Расстояние, которое пользователь преодолел за одну поездку');"
   ]
  },
  {
   "cell_type": "markdown",
   "id": "5849d263",
   "metadata": {},
   "source": [
    "Большенство значений лежит в промежутке от 2500 до 3500 метров. Более 6000 метров встречается очень редко. Из чего можно сделать вывод, что очень редко самокаты используют на большие расстояния."
   ]
  },
  {
   "cell_type": "markdown",
   "id": "095b9527",
   "metadata": {},
   "source": [
    "### Продолжительность поездки"
   ]
  },
  {
   "cell_type": "code",
   "execution_count": 39,
   "id": "28258ad0",
   "metadata": {},
   "outputs": [
    {
     "data": {
      "text/html": [
       "<div>\n",
       "<style scoped>\n",
       "    .dataframe tbody tr th:only-of-type {\n",
       "        vertical-align: middle;\n",
       "    }\n",
       "\n",
       "    .dataframe tbody tr th {\n",
       "        vertical-align: top;\n",
       "    }\n",
       "\n",
       "    .dataframe thead th {\n",
       "        text-align: right;\n",
       "    }\n",
       "</style>\n",
       "<table border=\"1\" class=\"dataframe\">\n",
       "  <thead>\n",
       "    <tr style=\"text-align: right;\">\n",
       "      <th></th>\n",
       "      <th>user_id</th>\n",
       "      <th>distance</th>\n",
       "      <th>duration</th>\n",
       "      <th>date</th>\n",
       "      <th>number_month</th>\n",
       "    </tr>\n",
       "  </thead>\n",
       "  <tbody>\n",
       "    <tr>\n",
       "      <th>0</th>\n",
       "      <td>1</td>\n",
       "      <td>4409.9</td>\n",
       "      <td>26.0</td>\n",
       "      <td>2021-01-01</td>\n",
       "      <td>1</td>\n",
       "    </tr>\n",
       "    <tr>\n",
       "      <th>1</th>\n",
       "      <td>1</td>\n",
       "      <td>2617.6</td>\n",
       "      <td>16.0</td>\n",
       "      <td>2021-01-18</td>\n",
       "      <td>1</td>\n",
       "    </tr>\n",
       "    <tr>\n",
       "      <th>2</th>\n",
       "      <td>1</td>\n",
       "      <td>754.2</td>\n",
       "      <td>7.0</td>\n",
       "      <td>2021-04-20</td>\n",
       "      <td>4</td>\n",
       "    </tr>\n",
       "    <tr>\n",
       "      <th>3</th>\n",
       "      <td>1</td>\n",
       "      <td>2694.8</td>\n",
       "      <td>19.0</td>\n",
       "      <td>2021-08-11</td>\n",
       "      <td>8</td>\n",
       "    </tr>\n",
       "    <tr>\n",
       "      <th>4</th>\n",
       "      <td>1</td>\n",
       "      <td>4028.7</td>\n",
       "      <td>27.0</td>\n",
       "      <td>2021-08-28</td>\n",
       "      <td>8</td>\n",
       "    </tr>\n",
       "    <tr>\n",
       "      <th>5</th>\n",
       "      <td>1</td>\n",
       "      <td>2770.9</td>\n",
       "      <td>17.0</td>\n",
       "      <td>2021-10-09</td>\n",
       "      <td>10</td>\n",
       "    </tr>\n",
       "    <tr>\n",
       "      <th>6</th>\n",
       "      <td>1</td>\n",
       "      <td>3039.0</td>\n",
       "      <td>15.0</td>\n",
       "      <td>2021-10-19</td>\n",
       "      <td>10</td>\n",
       "    </tr>\n",
       "    <tr>\n",
       "      <th>7</th>\n",
       "      <td>1</td>\n",
       "      <td>2842.1</td>\n",
       "      <td>24.0</td>\n",
       "      <td>2021-11-06</td>\n",
       "      <td>11</td>\n",
       "    </tr>\n",
       "    <tr>\n",
       "      <th>8</th>\n",
       "      <td>1</td>\n",
       "      <td>3412.7</td>\n",
       "      <td>16.0</td>\n",
       "      <td>2021-11-14</td>\n",
       "      <td>11</td>\n",
       "    </tr>\n",
       "    <tr>\n",
       "      <th>9</th>\n",
       "      <td>1</td>\n",
       "      <td>748.7</td>\n",
       "      <td>16.0</td>\n",
       "      <td>2021-11-22</td>\n",
       "      <td>11</td>\n",
       "    </tr>\n",
       "  </tbody>\n",
       "</table>\n",
       "</div>"
      ],
      "text/plain": [
       "   user_id  distance  duration       date  number_month\n",
       "0        1    4409.9      26.0 2021-01-01             1\n",
       "1        1    2617.6      16.0 2021-01-18             1\n",
       "2        1     754.2       7.0 2021-04-20             4\n",
       "3        1    2694.8      19.0 2021-08-11             8\n",
       "4        1    4028.7      27.0 2021-08-28             8\n",
       "5        1    2770.9      17.0 2021-10-09            10\n",
       "6        1    3039.0      15.0 2021-10-19            10\n",
       "7        1    2842.1      24.0 2021-11-06            11\n",
       "8        1    3412.7      16.0 2021-11-14            11\n",
       "9        1     748.7      16.0 2021-11-22            11"
      ]
     },
     "metadata": {},
     "output_type": "display_data"
    }
   ],
   "source": [
    "rides['duration'] = np.ceil(rides['duration']) #округлим значение в столбце distance\n",
    "display(rides.head(10))"
   ]
  },
  {
   "cell_type": "code",
   "execution_count": 40,
   "id": "0d2f96c8",
   "metadata": {},
   "outputs": [
    {
     "data": {
      "text/plain": [
       "count    18068.000000\n",
       "mean        18.303520\n",
       "std          6.094928\n",
       "min          1.000000\n",
       "25%         14.000000\n",
       "50%         18.000000\n",
       "75%         22.000000\n",
       "max         41.000000\n",
       "Name: duration, dtype: float64"
      ]
     },
     "execution_count": 40,
     "metadata": {},
     "output_type": "execute_result"
    }
   ],
   "source": [
    "rides['duration'].describe()"
   ]
  },
  {
   "cell_type": "code",
   "execution_count": 41,
   "id": "84ce22d3",
   "metadata": {
    "scrolled": false
   },
   "outputs": [
    {
     "data": {
      "image/png": "[encoded data removed]",
      "text/plain": [
       "<Figure size 1000x600 with 1 Axes>"
      ]
     },
     "metadata": {},
     "output_type": "display_data"
    }
   ],
   "source": [
    "rides['duration'].hist(bins= 20, figsize=(10, 6), range=(0, 50), grid=True)\n",
    "plt.xlabel('Продолжительность поездки')\n",
    "plt.ylabel('Количество поездок')\n",
    "plt.title('Продолжительность поездки');"
   ]
  },
  {
   "cell_type": "markdown",
   "id": "3a888641",
   "metadata": {},
   "source": [
    "В столбце duration в промежутке от 15 до 20 минут находится самое большое количество значений. Поездки продолжительностью больше 40 минут встречаются очень редко."
   ]
  },
  {
   "cell_type": "markdown",
   "id": "feafe602",
   "metadata": {},
   "source": [
    "Вывод: Построили график частоты встречаемости городов, график с возрастом пользователей. Постороили круговую диаграмму для пользователей с подпиской и без. Как мы увидели из предыдущих гистограмм, большинство значений имеют нормальное распределение, что для нас является хорошим знаком. "
   ]
  },
  {
   "cell_type": "markdown",
   "id": "4ef51331",
   "metadata": {},
   "source": [
    "## Объединение данных"
   ]
  },
  {
   "cell_type": "markdown",
   "id": "bc0a3c4d",
   "metadata": {},
   "source": [
    "### Объединим данные о пользователях, поездках и подписках в один датафрейм. "
   ]
  },
  {
   "cell_type": "code",
   "execution_count": 42,
   "id": "6bf288b5",
   "metadata": {},
   "outputs": [
    {
     "data": {
      "text/html": [
       "<div>\n",
       "<style scoped>\n",
       "    .dataframe tbody tr th:only-of-type {\n",
       "        vertical-align: middle;\n",
       "    }\n",
       "\n",
       "    .dataframe tbody tr th {\n",
       "        vertical-align: top;\n",
       "    }\n",
       "\n",
       "    .dataframe thead th {\n",
       "        text-align: right;\n",
       "    }\n",
       "</style>\n",
       "<table border=\"1\" class=\"dataframe\">\n",
       "  <thead>\n",
       "    <tr style=\"text-align: right;\">\n",
       "      <th></th>\n",
       "      <th>user_id</th>\n",
       "      <th>name</th>\n",
       "      <th>age</th>\n",
       "      <th>city</th>\n",
       "      <th>subscription_type</th>\n",
       "      <th>distance</th>\n",
       "      <th>duration</th>\n",
       "      <th>date</th>\n",
       "      <th>number_month</th>\n",
       "      <th>minute_price</th>\n",
       "      <th>start_ride_price</th>\n",
       "      <th>subscription_fee</th>\n",
       "    </tr>\n",
       "  </thead>\n",
       "  <tbody>\n",
       "    <tr>\n",
       "      <th>0</th>\n",
       "      <td>700</td>\n",
       "      <td>Айдар</td>\n",
       "      <td>22</td>\n",
       "      <td>Омск</td>\n",
       "      <td>free</td>\n",
       "      <td>2515.7</td>\n",
       "      <td>15.0</td>\n",
       "      <td>2021-01-02</td>\n",
       "      <td>1</td>\n",
       "      <td>8</td>\n",
       "      <td>50</td>\n",
       "      <td>0</td>\n",
       "    </tr>\n",
       "    <tr>\n",
       "      <th>1</th>\n",
       "      <td>700</td>\n",
       "      <td>Айдар</td>\n",
       "      <td>22</td>\n",
       "      <td>Омск</td>\n",
       "      <td>free</td>\n",
       "      <td>846.9</td>\n",
       "      <td>17.0</td>\n",
       "      <td>2021-02-01</td>\n",
       "      <td>2</td>\n",
       "      <td>8</td>\n",
       "      <td>50</td>\n",
       "      <td>0</td>\n",
       "    </tr>\n",
       "    <tr>\n",
       "      <th>2</th>\n",
       "      <td>700</td>\n",
       "      <td>Айдар</td>\n",
       "      <td>22</td>\n",
       "      <td>Омск</td>\n",
       "      <td>free</td>\n",
       "      <td>4004.4</td>\n",
       "      <td>21.0</td>\n",
       "      <td>2021-02-04</td>\n",
       "      <td>2</td>\n",
       "      <td>8</td>\n",
       "      <td>50</td>\n",
       "      <td>0</td>\n",
       "    </tr>\n",
       "    <tr>\n",
       "      <th>3</th>\n",
       "      <td>700</td>\n",
       "      <td>Айдар</td>\n",
       "      <td>22</td>\n",
       "      <td>Омск</td>\n",
       "      <td>free</td>\n",
       "      <td>1205.9</td>\n",
       "      <td>10.0</td>\n",
       "      <td>2021-02-10</td>\n",
       "      <td>2</td>\n",
       "      <td>8</td>\n",
       "      <td>50</td>\n",
       "      <td>0</td>\n",
       "    </tr>\n",
       "    <tr>\n",
       "      <th>4</th>\n",
       "      <td>700</td>\n",
       "      <td>Айдар</td>\n",
       "      <td>22</td>\n",
       "      <td>Омск</td>\n",
       "      <td>free</td>\n",
       "      <td>3047.4</td>\n",
       "      <td>18.0</td>\n",
       "      <td>2021-02-14</td>\n",
       "      <td>2</td>\n",
       "      <td>8</td>\n",
       "      <td>50</td>\n",
       "      <td>0</td>\n",
       "    </tr>\n",
       "    <tr>\n",
       "      <th>5</th>\n",
       "      <td>700</td>\n",
       "      <td>Айдар</td>\n",
       "      <td>22</td>\n",
       "      <td>Омск</td>\n",
       "      <td>free</td>\n",
       "      <td>4342.0</td>\n",
       "      <td>23.0</td>\n",
       "      <td>2021-02-23</td>\n",
       "      <td>2</td>\n",
       "      <td>8</td>\n",
       "      <td>50</td>\n",
       "      <td>0</td>\n",
       "    </tr>\n",
       "    <tr>\n",
       "      <th>6</th>\n",
       "      <td>700</td>\n",
       "      <td>Айдар</td>\n",
       "      <td>22</td>\n",
       "      <td>Омск</td>\n",
       "      <td>free</td>\n",
       "      <td>3798.3</td>\n",
       "      <td>19.0</td>\n",
       "      <td>2021-03-03</td>\n",
       "      <td>3</td>\n",
       "      <td>8</td>\n",
       "      <td>50</td>\n",
       "      <td>0</td>\n",
       "    </tr>\n",
       "    <tr>\n",
       "      <th>7</th>\n",
       "      <td>700</td>\n",
       "      <td>Айдар</td>\n",
       "      <td>22</td>\n",
       "      <td>Омск</td>\n",
       "      <td>free</td>\n",
       "      <td>2984.6</td>\n",
       "      <td>16.0</td>\n",
       "      <td>2021-04-09</td>\n",
       "      <td>4</td>\n",
       "      <td>8</td>\n",
       "      <td>50</td>\n",
       "      <td>0</td>\n",
       "    </tr>\n",
       "    <tr>\n",
       "      <th>8</th>\n",
       "      <td>700</td>\n",
       "      <td>Айдар</td>\n",
       "      <td>22</td>\n",
       "      <td>Омск</td>\n",
       "      <td>free</td>\n",
       "      <td>3360.1</td>\n",
       "      <td>17.0</td>\n",
       "      <td>2021-06-12</td>\n",
       "      <td>6</td>\n",
       "      <td>8</td>\n",
       "      <td>50</td>\n",
       "      <td>0</td>\n",
       "    </tr>\n",
       "    <tr>\n",
       "      <th>9</th>\n",
       "      <td>700</td>\n",
       "      <td>Айдар</td>\n",
       "      <td>22</td>\n",
       "      <td>Омск</td>\n",
       "      <td>free</td>\n",
       "      <td>2567.5</td>\n",
       "      <td>12.0</td>\n",
       "      <td>2021-06-23</td>\n",
       "      <td>6</td>\n",
       "      <td>8</td>\n",
       "      <td>50</td>\n",
       "      <td>0</td>\n",
       "    </tr>\n",
       "    <tr>\n",
       "      <th>10</th>\n",
       "      <td>700</td>\n",
       "      <td>Айдар</td>\n",
       "      <td>22</td>\n",
       "      <td>Омск</td>\n",
       "      <td>free</td>\n",
       "      <td>4110.2</td>\n",
       "      <td>16.0</td>\n",
       "      <td>2021-07-08</td>\n",
       "      <td>7</td>\n",
       "      <td>8</td>\n",
       "      <td>50</td>\n",
       "      <td>0</td>\n",
       "    </tr>\n",
       "    <tr>\n",
       "      <th>11</th>\n",
       "      <td>700</td>\n",
       "      <td>Айдар</td>\n",
       "      <td>22</td>\n",
       "      <td>Омск</td>\n",
       "      <td>free</td>\n",
       "      <td>289.0</td>\n",
       "      <td>5.0</td>\n",
       "      <td>2021-07-18</td>\n",
       "      <td>7</td>\n",
       "      <td>8</td>\n",
       "      <td>50</td>\n",
       "      <td>0</td>\n",
       "    </tr>\n",
       "    <tr>\n",
       "      <th>12</th>\n",
       "      <td>700</td>\n",
       "      <td>Айдар</td>\n",
       "      <td>22</td>\n",
       "      <td>Омск</td>\n",
       "      <td>free</td>\n",
       "      <td>4071.7</td>\n",
       "      <td>17.0</td>\n",
       "      <td>2021-08-17</td>\n",
       "      <td>8</td>\n",
       "      <td>8</td>\n",
       "      <td>50</td>\n",
       "      <td>0</td>\n",
       "    </tr>\n",
       "    <tr>\n",
       "      <th>13</th>\n",
       "      <td>700</td>\n",
       "      <td>Айдар</td>\n",
       "      <td>22</td>\n",
       "      <td>Омск</td>\n",
       "      <td>free</td>\n",
       "      <td>1920.2</td>\n",
       "      <td>10.0</td>\n",
       "      <td>2021-10-08</td>\n",
       "      <td>10</td>\n",
       "      <td>8</td>\n",
       "      <td>50</td>\n",
       "      <td>0</td>\n",
       "    </tr>\n",
       "    <tr>\n",
       "      <th>14</th>\n",
       "      <td>700</td>\n",
       "      <td>Айдар</td>\n",
       "      <td>22</td>\n",
       "      <td>Омск</td>\n",
       "      <td>free</td>\n",
       "      <td>4402.4</td>\n",
       "      <td>34.0</td>\n",
       "      <td>2021-10-15</td>\n",
       "      <td>10</td>\n",
       "      <td>8</td>\n",
       "      <td>50</td>\n",
       "      <td>0</td>\n",
       "    </tr>\n",
       "    <tr>\n",
       "      <th>15</th>\n",
       "      <td>700</td>\n",
       "      <td>Айдар</td>\n",
       "      <td>22</td>\n",
       "      <td>Омск</td>\n",
       "      <td>free</td>\n",
       "      <td>2409.6</td>\n",
       "      <td>9.0</td>\n",
       "      <td>2021-11-03</td>\n",
       "      <td>11</td>\n",
       "      <td>8</td>\n",
       "      <td>50</td>\n",
       "      <td>0</td>\n",
       "    </tr>\n",
       "    <tr>\n",
       "      <th>16</th>\n",
       "      <td>700</td>\n",
       "      <td>Айдар</td>\n",
       "      <td>22</td>\n",
       "      <td>Омск</td>\n",
       "      <td>free</td>\n",
       "      <td>2639.8</td>\n",
       "      <td>9.0</td>\n",
       "      <td>2021-11-14</td>\n",
       "      <td>11</td>\n",
       "      <td>8</td>\n",
       "      <td>50</td>\n",
       "      <td>0</td>\n",
       "    </tr>\n",
       "    <tr>\n",
       "      <th>17</th>\n",
       "      <td>700</td>\n",
       "      <td>Айдар</td>\n",
       "      <td>22</td>\n",
       "      <td>Омск</td>\n",
       "      <td>free</td>\n",
       "      <td>3686.4</td>\n",
       "      <td>14.0</td>\n",
       "      <td>2021-11-21</td>\n",
       "      <td>11</td>\n",
       "      <td>8</td>\n",
       "      <td>50</td>\n",
       "      <td>0</td>\n",
       "    </tr>\n",
       "    <tr>\n",
       "      <th>18</th>\n",
       "      <td>701</td>\n",
       "      <td>Иван</td>\n",
       "      <td>31</td>\n",
       "      <td>Екатеринбург</td>\n",
       "      <td>free</td>\n",
       "      <td>2676.5</td>\n",
       "      <td>18.0</td>\n",
       "      <td>2021-01-23</td>\n",
       "      <td>1</td>\n",
       "      <td>8</td>\n",
       "      <td>50</td>\n",
       "      <td>0</td>\n",
       "    </tr>\n",
       "    <tr>\n",
       "      <th>19</th>\n",
       "      <td>701</td>\n",
       "      <td>Иван</td>\n",
       "      <td>31</td>\n",
       "      <td>Екатеринбург</td>\n",
       "      <td>free</td>\n",
       "      <td>2743.7</td>\n",
       "      <td>15.0</td>\n",
       "      <td>2021-02-13</td>\n",
       "      <td>2</td>\n",
       "      <td>8</td>\n",
       "      <td>50</td>\n",
       "      <td>0</td>\n",
       "    </tr>\n",
       "  </tbody>\n",
       "</table>\n",
       "</div>"
      ],
      "text/plain": [
       "    user_id   name  age          city subscription_type  distance  duration  \\\n",
       "0       700  Айдар   22          Омск              free    2515.7      15.0   \n",
       "1       700  Айдар   22          Омск              free     846.9      17.0   \n",
       "2       700  Айдар   22          Омск              free    4004.4      21.0   \n",
       "3       700  Айдар   22          Омск              free    1205.9      10.0   \n",
       "4       700  Айдар   22          Омск              free    3047.4      18.0   \n",
       "5       700  Айдар   22          Омск              free    4342.0      23.0   \n",
       "6       700  Айдар   22          Омск              free    3798.3      19.0   \n",
       "7       700  Айдар   22          Омск              free    2984.6      16.0   \n",
       "8       700  Айдар   22          Омск              free    3360.1      17.0   \n",
       "9       700  Айдар   22          Омск              free    2567.5      12.0   \n",
       "10      700  Айдар   22          Омск              free    4110.2      16.0   \n",
       "11      700  Айдар   22          Омск              free     289.0       5.0   \n",
       "12      700  Айдар   22          Омск              free    4071.7      17.0   \n",
       "13      700  Айдар   22          Омск              free    1920.2      10.0   \n",
       "14      700  Айдар   22          Омск              free    4402.4      34.0   \n",
       "15      700  Айдар   22          Омск              free    2409.6       9.0   \n",
       "16      700  Айдар   22          Омск              free    2639.8       9.0   \n",
       "17      700  Айдар   22          Омск              free    3686.4      14.0   \n",
       "18      701   Иван   31  Екатеринбург              free    2676.5      18.0   \n",
       "19      701   Иван   31  Екатеринбург              free    2743.7      15.0   \n",
       "\n",
       "         date  number_month  minute_price  start_ride_price  subscription_fee  \n",
       "0  2021-01-02             1             8                50                 0  \n",
       "1  2021-02-01             2             8                50                 0  \n",
       "2  2021-02-04             2             8                50                 0  \n",
       "3  2021-02-10             2             8                50                 0  \n",
       "4  2021-02-14             2             8                50                 0  \n",
       "5  2021-02-23             2             8                50                 0  \n",
       "6  2021-03-03             3             8                50                 0  \n",
       "7  2021-04-09             4             8                50                 0  \n",
       "8  2021-06-12             6             8                50                 0  \n",
       "9  2021-06-23             6             8                50                 0  \n",
       "10 2021-07-08             7             8                50                 0  \n",
       "11 2021-07-18             7             8                50                 0  \n",
       "12 2021-08-17             8             8                50                 0  \n",
       "13 2021-10-08            10             8                50                 0  \n",
       "14 2021-10-15            10             8                50                 0  \n",
       "15 2021-11-03            11             8                50                 0  \n",
       "16 2021-11-14            11             8                50                 0  \n",
       "17 2021-11-21            11             8                50                 0  \n",
       "18 2021-01-23             1             8                50                 0  \n",
       "19 2021-02-13             2             8                50                 0  "
      ]
     },
     "metadata": {},
     "output_type": "display_data"
    }
   ],
   "source": [
    "\n",
    "users_rides = users.merge(rides, on='user_id', how='outer') #объединим сначала датафреймы users и rides по столбцу user_id и сохраним в переменную users_rides\n",
    "\n",
    "total_data = users_rides.merge(subscriptions, on='subscription_type', how='right') #после чего, полученный датафрейм users_rides с датафреймом subscriptions по столбцу subscription_type \n",
    "display(total_data.head(20))\n"
   ]
  },
  {
   "cell_type": "markdown",
   "id": "03bd04da",
   "metadata": {},
   "source": [
    "### Создание датафрейма c данными о пользователях без подписки"
   ]
  },
  {
   "cell_type": "code",
   "execution_count": 43,
   "id": "c7341b62",
   "metadata": {},
   "outputs": [
    {
     "data": {
      "text/html": [
       "<div>\n",
       "<style scoped>\n",
       "    .dataframe tbody tr th:only-of-type {\n",
       "        vertical-align: middle;\n",
       "    }\n",
       "\n",
       "    .dataframe tbody tr th {\n",
       "        vertical-align: top;\n",
       "    }\n",
       "\n",
       "    .dataframe thead th {\n",
       "        text-align: right;\n",
       "    }\n",
       "</style>\n",
       "<table border=\"1\" class=\"dataframe\">\n",
       "  <thead>\n",
       "    <tr style=\"text-align: right;\">\n",
       "      <th></th>\n",
       "      <th>user_id</th>\n",
       "      <th>name</th>\n",
       "      <th>age</th>\n",
       "      <th>city</th>\n",
       "      <th>subscription_type</th>\n",
       "      <th>distance</th>\n",
       "      <th>duration</th>\n",
       "      <th>date</th>\n",
       "      <th>number_month</th>\n",
       "      <th>minute_price</th>\n",
       "      <th>start_ride_price</th>\n",
       "      <th>subscription_fee</th>\n",
       "    </tr>\n",
       "  </thead>\n",
       "  <tbody>\n",
       "    <tr>\n",
       "      <th>0</th>\n",
       "      <td>700</td>\n",
       "      <td>Айдар</td>\n",
       "      <td>22</td>\n",
       "      <td>Омск</td>\n",
       "      <td>free</td>\n",
       "      <td>2515.7</td>\n",
       "      <td>15.0</td>\n",
       "      <td>2021-01-02</td>\n",
       "      <td>1</td>\n",
       "      <td>8</td>\n",
       "      <td>50</td>\n",
       "      <td>0</td>\n",
       "    </tr>\n",
       "    <tr>\n",
       "      <th>1</th>\n",
       "      <td>700</td>\n",
       "      <td>Айдар</td>\n",
       "      <td>22</td>\n",
       "      <td>Омск</td>\n",
       "      <td>free</td>\n",
       "      <td>846.9</td>\n",
       "      <td>17.0</td>\n",
       "      <td>2021-02-01</td>\n",
       "      <td>2</td>\n",
       "      <td>8</td>\n",
       "      <td>50</td>\n",
       "      <td>0</td>\n",
       "    </tr>\n",
       "    <tr>\n",
       "      <th>2</th>\n",
       "      <td>700</td>\n",
       "      <td>Айдар</td>\n",
       "      <td>22</td>\n",
       "      <td>Омск</td>\n",
       "      <td>free</td>\n",
       "      <td>4004.4</td>\n",
       "      <td>21.0</td>\n",
       "      <td>2021-02-04</td>\n",
       "      <td>2</td>\n",
       "      <td>8</td>\n",
       "      <td>50</td>\n",
       "      <td>0</td>\n",
       "    </tr>\n",
       "    <tr>\n",
       "      <th>3</th>\n",
       "      <td>700</td>\n",
       "      <td>Айдар</td>\n",
       "      <td>22</td>\n",
       "      <td>Омск</td>\n",
       "      <td>free</td>\n",
       "      <td>1205.9</td>\n",
       "      <td>10.0</td>\n",
       "      <td>2021-02-10</td>\n",
       "      <td>2</td>\n",
       "      <td>8</td>\n",
       "      <td>50</td>\n",
       "      <td>0</td>\n",
       "    </tr>\n",
       "    <tr>\n",
       "      <th>4</th>\n",
       "      <td>700</td>\n",
       "      <td>Айдар</td>\n",
       "      <td>22</td>\n",
       "      <td>Омск</td>\n",
       "      <td>free</td>\n",
       "      <td>3047.4</td>\n",
       "      <td>18.0</td>\n",
       "      <td>2021-02-14</td>\n",
       "      <td>2</td>\n",
       "      <td>8</td>\n",
       "      <td>50</td>\n",
       "      <td>0</td>\n",
       "    </tr>\n",
       "    <tr>\n",
       "      <th>5</th>\n",
       "      <td>700</td>\n",
       "      <td>Айдар</td>\n",
       "      <td>22</td>\n",
       "      <td>Омск</td>\n",
       "      <td>free</td>\n",
       "      <td>4342.0</td>\n",
       "      <td>23.0</td>\n",
       "      <td>2021-02-23</td>\n",
       "      <td>2</td>\n",
       "      <td>8</td>\n",
       "      <td>50</td>\n",
       "      <td>0</td>\n",
       "    </tr>\n",
       "    <tr>\n",
       "      <th>6</th>\n",
       "      <td>700</td>\n",
       "      <td>Айдар</td>\n",
       "      <td>22</td>\n",
       "      <td>Омск</td>\n",
       "      <td>free</td>\n",
       "      <td>3798.3</td>\n",
       "      <td>19.0</td>\n",
       "      <td>2021-03-03</td>\n",
       "      <td>3</td>\n",
       "      <td>8</td>\n",
       "      <td>50</td>\n",
       "      <td>0</td>\n",
       "    </tr>\n",
       "    <tr>\n",
       "      <th>7</th>\n",
       "      <td>700</td>\n",
       "      <td>Айдар</td>\n",
       "      <td>22</td>\n",
       "      <td>Омск</td>\n",
       "      <td>free</td>\n",
       "      <td>2984.6</td>\n",
       "      <td>16.0</td>\n",
       "      <td>2021-04-09</td>\n",
       "      <td>4</td>\n",
       "      <td>8</td>\n",
       "      <td>50</td>\n",
       "      <td>0</td>\n",
       "    </tr>\n",
       "    <tr>\n",
       "      <th>8</th>\n",
       "      <td>700</td>\n",
       "      <td>Айдар</td>\n",
       "      <td>22</td>\n",
       "      <td>Омск</td>\n",
       "      <td>free</td>\n",
       "      <td>3360.1</td>\n",
       "      <td>17.0</td>\n",
       "      <td>2021-06-12</td>\n",
       "      <td>6</td>\n",
       "      <td>8</td>\n",
       "      <td>50</td>\n",
       "      <td>0</td>\n",
       "    </tr>\n",
       "    <tr>\n",
       "      <th>9</th>\n",
       "      <td>700</td>\n",
       "      <td>Айдар</td>\n",
       "      <td>22</td>\n",
       "      <td>Омск</td>\n",
       "      <td>free</td>\n",
       "      <td>2567.5</td>\n",
       "      <td>12.0</td>\n",
       "      <td>2021-06-23</td>\n",
       "      <td>6</td>\n",
       "      <td>8</td>\n",
       "      <td>50</td>\n",
       "      <td>0</td>\n",
       "    </tr>\n",
       "  </tbody>\n",
       "</table>\n",
       "</div>"
      ],
      "text/plain": [
       "   user_id   name  age  city subscription_type  distance  duration       date  \\\n",
       "0      700  Айдар   22  Омск              free    2515.7      15.0 2021-01-02   \n",
       "1      700  Айдар   22  Омск              free     846.9      17.0 2021-02-01   \n",
       "2      700  Айдар   22  Омск              free    4004.4      21.0 2021-02-04   \n",
       "3      700  Айдар   22  Омск              free    1205.9      10.0 2021-02-10   \n",
       "4      700  Айдар   22  Омск              free    3047.4      18.0 2021-02-14   \n",
       "5      700  Айдар   22  Омск              free    4342.0      23.0 2021-02-23   \n",
       "6      700  Айдар   22  Омск              free    3798.3      19.0 2021-03-03   \n",
       "7      700  Айдар   22  Омск              free    2984.6      16.0 2021-04-09   \n",
       "8      700  Айдар   22  Омск              free    3360.1      17.0 2021-06-12   \n",
       "9      700  Айдар   22  Омск              free    2567.5      12.0 2021-06-23   \n",
       "\n",
       "   number_month  minute_price  start_ride_price  subscription_fee  \n",
       "0             1             8                50                 0  \n",
       "1             2             8                50                 0  \n",
       "2             2             8                50                 0  \n",
       "3             2             8                50                 0  \n",
       "4             2             8                50                 0  \n",
       "5             2             8                50                 0  \n",
       "6             3             8                50                 0  \n",
       "7             4             8                50                 0  \n",
       "8             6             8                50                 0  \n",
       "9             6             8                50                 0  "
      ]
     },
     "metadata": {},
     "output_type": "display_data"
    }
   ],
   "source": [
    "free = total_data.query('subscription_type == \"free\"') #c помощью метода query выберем по столбцу subscription_type строки со значением free и сохраним в новый датафрейм\n",
    "display(free.head(10))"
   ]
  },
  {
   "cell_type": "markdown",
   "id": "045a4113",
   "metadata": {},
   "source": [
    "### Создание датафрейма c данными о пользователях с подпиской ultra"
   ]
  },
  {
   "cell_type": "code",
   "execution_count": 44,
   "id": "05b02167",
   "metadata": {},
   "outputs": [
    {
     "data": {
      "text/html": [
       "<div>\n",
       "<style scoped>\n",
       "    .dataframe tbody tr th:only-of-type {\n",
       "        vertical-align: middle;\n",
       "    }\n",
       "\n",
       "    .dataframe tbody tr th {\n",
       "        vertical-align: top;\n",
       "    }\n",
       "\n",
       "    .dataframe thead th {\n",
       "        text-align: right;\n",
       "    }\n",
       "</style>\n",
       "<table border=\"1\" class=\"dataframe\">\n",
       "  <thead>\n",
       "    <tr style=\"text-align: right;\">\n",
       "      <th></th>\n",
       "      <th>user_id</th>\n",
       "      <th>name</th>\n",
       "      <th>age</th>\n",
       "      <th>city</th>\n",
       "      <th>subscription_type</th>\n",
       "      <th>distance</th>\n",
       "      <th>duration</th>\n",
       "      <th>date</th>\n",
       "      <th>number_month</th>\n",
       "      <th>minute_price</th>\n",
       "      <th>start_ride_price</th>\n",
       "      <th>subscription_fee</th>\n",
       "    </tr>\n",
       "  </thead>\n",
       "  <tbody>\n",
       "    <tr>\n",
       "      <th>11568</th>\n",
       "      <td>1</td>\n",
       "      <td>Кира</td>\n",
       "      <td>22</td>\n",
       "      <td>Тюмень</td>\n",
       "      <td>ultra</td>\n",
       "      <td>4409.9</td>\n",
       "      <td>26.0</td>\n",
       "      <td>2021-01-01</td>\n",
       "      <td>1</td>\n",
       "      <td>6</td>\n",
       "      <td>0</td>\n",
       "      <td>199</td>\n",
       "    </tr>\n",
       "    <tr>\n",
       "      <th>11569</th>\n",
       "      <td>1</td>\n",
       "      <td>Кира</td>\n",
       "      <td>22</td>\n",
       "      <td>Тюмень</td>\n",
       "      <td>ultra</td>\n",
       "      <td>2617.6</td>\n",
       "      <td>16.0</td>\n",
       "      <td>2021-01-18</td>\n",
       "      <td>1</td>\n",
       "      <td>6</td>\n",
       "      <td>0</td>\n",
       "      <td>199</td>\n",
       "    </tr>\n",
       "    <tr>\n",
       "      <th>11570</th>\n",
       "      <td>1</td>\n",
       "      <td>Кира</td>\n",
       "      <td>22</td>\n",
       "      <td>Тюмень</td>\n",
       "      <td>ultra</td>\n",
       "      <td>754.2</td>\n",
       "      <td>7.0</td>\n",
       "      <td>2021-04-20</td>\n",
       "      <td>4</td>\n",
       "      <td>6</td>\n",
       "      <td>0</td>\n",
       "      <td>199</td>\n",
       "    </tr>\n",
       "    <tr>\n",
       "      <th>11571</th>\n",
       "      <td>1</td>\n",
       "      <td>Кира</td>\n",
       "      <td>22</td>\n",
       "      <td>Тюмень</td>\n",
       "      <td>ultra</td>\n",
       "      <td>2694.8</td>\n",
       "      <td>19.0</td>\n",
       "      <td>2021-08-11</td>\n",
       "      <td>8</td>\n",
       "      <td>6</td>\n",
       "      <td>0</td>\n",
       "      <td>199</td>\n",
       "    </tr>\n",
       "    <tr>\n",
       "      <th>11572</th>\n",
       "      <td>1</td>\n",
       "      <td>Кира</td>\n",
       "      <td>22</td>\n",
       "      <td>Тюмень</td>\n",
       "      <td>ultra</td>\n",
       "      <td>4028.7</td>\n",
       "      <td>27.0</td>\n",
       "      <td>2021-08-28</td>\n",
       "      <td>8</td>\n",
       "      <td>6</td>\n",
       "      <td>0</td>\n",
       "      <td>199</td>\n",
       "    </tr>\n",
       "  </tbody>\n",
       "</table>\n",
       "</div>"
      ],
      "text/plain": [
       "       user_id  name  age    city subscription_type  distance  duration  \\\n",
       "11568        1  Кира   22  Тюмень             ultra    4409.9      26.0   \n",
       "11569        1  Кира   22  Тюмень             ultra    2617.6      16.0   \n",
       "11570        1  Кира   22  Тюмень             ultra     754.2       7.0   \n",
       "11571        1  Кира   22  Тюмень             ultra    2694.8      19.0   \n",
       "11572        1  Кира   22  Тюмень             ultra    4028.7      27.0   \n",
       "\n",
       "            date  number_month  minute_price  start_ride_price  \\\n",
       "11568 2021-01-01             1             6                 0   \n",
       "11569 2021-01-18             1             6                 0   \n",
       "11570 2021-04-20             4             6                 0   \n",
       "11571 2021-08-11             8             6                 0   \n",
       "11572 2021-08-28             8             6                 0   \n",
       "\n",
       "       subscription_fee  \n",
       "11568               199  \n",
       "11569               199  \n",
       "11570               199  \n",
       "11571               199  \n",
       "11572               199  "
      ]
     },
     "metadata": {},
     "output_type": "display_data"
    },
    {
     "name": "stdout",
     "output_type": "stream",
     "text": [
      "<class 'pandas.core.frame.DataFrame'>\n",
      "Index: 6500 entries, 11568 to 18067\n",
      "Data columns (total 12 columns):\n",
      " #   Column             Non-Null Count  Dtype         \n",
      "---  ------             --------------  -----         \n",
      " 0   user_id            6500 non-null   int64         \n",
      " 1   name               6500 non-null   object        \n",
      " 2   age                6500 non-null   int64         \n",
      " 3   city               6500 non-null   object        \n",
      " 4   subscription_type  6500 non-null   object        \n",
      " 5   distance           6500 non-null   float64       \n",
      " 6   duration           6500 non-null   float64       \n",
      " 7   date               6500 non-null   datetime64[ns]\n",
      " 8   number_month       6500 non-null   int32         \n",
      " 9   minute_price       6500 non-null   int64         \n",
      " 10  start_ride_price   6500 non-null   int64         \n",
      " 11  subscription_fee   6500 non-null   int64         \n",
      "dtypes: datetime64[ns](1), float64(2), int32(1), int64(5), object(3)\n",
      "memory usage: 634.8+ KB\n"
     ]
    }
   ],
   "source": [
    "ultra = total_data.query('subscription_type == \"ultra\"') #c помощью метода query выберем по столбцу subscription_type строки со значением ultra и сохраним в новый датафрейм\n",
    "display(ultra.head())\n",
    "ultra.info()"
   ]
  },
  {
   "cell_type": "markdown",
   "id": "9a35e306",
   "metadata": {},
   "source": [
    "Выполнили объединение данных в датафреймах при помощи метода merge, по общим столбцам, для выполнения дальнейшего анализа."
   ]
  },
  {
   "cell_type": "markdown",
   "id": "a5b2c7c3",
   "metadata": {},
   "source": [
    "## Шаг 3. Визуализируем информацию о расстоянии и времени поездок для пользователей обеих категорий"
   ]
  },
  {
   "cell_type": "markdown",
   "id": "7c73b9a7",
   "metadata": {},
   "source": [
    "### Расстояние поездок для пользователей без подписки"
   ]
  },
  {
   "cell_type": "code",
   "execution_count": 45,
   "id": "b33a269c",
   "metadata": {},
   "outputs": [
    {
     "data": {
      "text/plain": [
       "count    11568.000000\n",
       "mean      3045.495297\n",
       "std       1246.173747\n",
       "min          0.900000\n",
       "25%       2366.600000\n",
       "50%       3114.650000\n",
       "75%       3905.700000\n",
       "max       7211.000000\n",
       "Name: distance, dtype: float64"
      ]
     },
     "execution_count": 45,
     "metadata": {},
     "output_type": "execute_result"
    }
   ],
   "source": [
    "free['distance'].describe()"
   ]
  },
  {
   "cell_type": "code",
   "execution_count": 46,
   "id": "e165beba",
   "metadata": {},
   "outputs": [
    {
     "data": {
      "image/png": "[encoded data removed]",
      "text/plain": [
       "<Figure size 1000x600 with 1 Axes>"
      ]
     },
     "metadata": {},
     "output_type": "display_data"
    }
   ],
   "source": [
    "free['distance'].hist(bins= 30, figsize=(10, 6), range=(0, 7200), grid=True)\n",
    "plt.xlabel('Расстояние')\n",
    "plt.ylabel('Количество поездок')\n",
    "plt.title('Расстояние поездки пользователей без подписки');"
   ]
  },
  {
   "cell_type": "markdown",
   "id": "e19a37ef",
   "metadata": {},
   "source": [
    "Большенство значений лежит в промежутке от 2500 до 4000 метров. Более 6000 метров встречается очень редко."
   ]
  },
  {
   "cell_type": "markdown",
   "id": "147d8e89",
   "metadata": {},
   "source": [
    "### Время поездок для пользователей без подписки"
   ]
  },
  {
   "cell_type": "code",
   "execution_count": 47,
   "id": "3256846f",
   "metadata": {},
   "outputs": [
    {
     "data": {
      "text/plain": [
       "count    11568.000000\n",
       "mean        17.890992\n",
       "std          6.330250\n",
       "min          1.000000\n",
       "25%         13.000000\n",
       "50%         18.000000\n",
       "75%         22.000000\n",
       "max         35.000000\n",
       "Name: duration, dtype: float64"
      ]
     },
     "execution_count": 47,
     "metadata": {},
     "output_type": "execute_result"
    }
   ],
   "source": [
    "free['duration'].describe()"
   ]
  },
  {
   "cell_type": "code",
   "execution_count": 48,
   "id": "63ca4192",
   "metadata": {
    "scrolled": false
   },
   "outputs": [
    {
     "data": {
      "image/png": "[encoded data removed]",
      "text/plain": [
       "<Figure size 1000x600 with 1 Axes>"
      ]
     },
     "metadata": {},
     "output_type": "display_data"
    }
   ],
   "source": [
    "free['duration'].hist(bins= 20, figsize=(10, 6), range=(0, 40), grid=True)\n",
    "plt.xlabel('Продолжительность поездки')\n",
    "plt.ylabel('Количество поездок')\n",
    "plt.title('Продолжительность поездок пользователей без подписки');"
   ]
  },
  {
   "cell_type": "markdown",
   "id": "26b339d9",
   "metadata": {},
   "source": [
    "Больше всего значений лежит в промежутке от 12 до 24 минут. Значения после 35 минут отсутствуют."
   ]
  },
  {
   "cell_type": "markdown",
   "id": "a33fe016",
   "metadata": {},
   "source": [
    "### Расстояние поездок для пользователей с подпиской ultra"
   ]
  },
  {
   "cell_type": "code",
   "execution_count": 49,
   "id": "2ec17a4e",
   "metadata": {},
   "outputs": [
    {
     "data": {
      "text/plain": [
       "count    6500.000000\n",
       "mean     3115.444985\n",
       "std       836.895127\n",
       "min       244.200000\n",
       "25%      2785.400000\n",
       "50%      3148.600000\n",
       "75%      3560.600000\n",
       "max      5699.800000\n",
       "Name: distance, dtype: float64"
      ]
     },
     "execution_count": 49,
     "metadata": {},
     "output_type": "execute_result"
    }
   ],
   "source": [
    "ultra['distance'].describe()"
   ]
  },
  {
   "cell_type": "code",
   "execution_count": 50,
   "id": "0fb69a8d",
   "metadata": {
    "scrolled": false
   },
   "outputs": [
    {
     "data": {
      "image/png": "[encoded data removed]",
      "text/plain": [
       "<Figure size 1000x600 with 1 Axes>"
      ]
     },
     "metadata": {},
     "output_type": "display_data"
    }
   ],
   "source": [
    "ultra['distance'].hist(bins= 30, figsize=(10, 6), range=(0, 6000), grid=True)\n",
    "plt.xlabel('Расстояние')\n",
    "plt.ylabel('Количество поездок')\n",
    "plt.title('Расстояние поездки пользователей с подпиской');"
   ]
  },
  {
   "cell_type": "markdown",
   "id": "b2da7fdd",
   "metadata": {},
   "source": [
    "В основном все данные распределены от 2000 до 5000 метров. Большенство значений лежит в промежутке от 2800 до 3400 метров. Но есть небольшой всплеск значений на промеутке от 600 до 1200 метров."
   ]
  },
  {
   "cell_type": "markdown",
   "id": "ffb56726",
   "metadata": {},
   "source": [
    "### Время поездок для пользователей с подпиской ultra"
   ]
  },
  {
   "cell_type": "code",
   "execution_count": 51,
   "id": "dfc2f8ad",
   "metadata": {},
   "outputs": [
    {
     "data": {
      "text/plain": [
       "count    6500.000000\n",
       "mean       19.037692\n",
       "std         5.577439\n",
       "min         4.000000\n",
       "25%        15.000000\n",
       "50%        19.000000\n",
       "75%        22.000000\n",
       "max        41.000000\n",
       "Name: duration, dtype: float64"
      ]
     },
     "execution_count": 51,
     "metadata": {},
     "output_type": "execute_result"
    }
   ],
   "source": [
    "ultra['duration'].describe()"
   ]
  },
  {
   "cell_type": "code",
   "execution_count": 52,
   "id": "a10ba483",
   "metadata": {},
   "outputs": [
    {
     "data": {
      "image/png": "[encoded data removed]",
      "text/plain": [
       "<Figure size 1000x600 with 1 Axes>"
      ]
     },
     "metadata": {},
     "output_type": "display_data"
    }
   ],
   "source": [
    "ultra['duration'].hist(bins= 15, figsize=(10, 6), range=(0, 45), grid=True)\n",
    "plt.xlabel('Продолжительность поездки')\n",
    "plt.ylabel('Количество поездок')\n",
    "plt.title('Продолжительность поездки пользователей с подпиской');"
   ]
  },
  {
   "cell_type": "markdown",
   "id": "515446bd",
   "metadata": {},
   "source": [
    "Данные распределены нормально. Большенство значений в промежутке от 15 до 23 минут. До 7 минут и после 40 минту данные практически отсутсвуют. В этом есть небольшое отличие от продолжительности поездки пользователей без подписки."
   ]
  },
  {
   "cell_type": "markdown",
   "id": "2d6e442b",
   "metadata": {},
   "source": [
    "Вывод: Объединили данные о пользователях, поездках и подписках с помощью метода merge в один датафрейм по общим столбцам. Создали на основании нового датафрейма два новых: датафрейм c данными о пользователях без подписки, датафрейм c данными о пользователях подпиской ultra. Визуализировали при помощи гистограмминформацию о расстоянии и времени поездок для пользователей обеих категорий."
   ]
  },
  {
   "cell_type": "markdown",
   "id": "402d620f",
   "metadata": {},
   "source": [
    "## Шаг 4. Подсчёт выручки"
   ]
  },
  {
   "cell_type": "markdown",
   "id": "13e9191f",
   "metadata": {},
   "source": [
    "### Найдем суммарное расстояние, количество поездок и суммарное время для каждого пользователя за каждый месяц"
   ]
  },
  {
   "cell_type": "code",
   "execution_count": 53,
   "id": "3edab4ca",
   "metadata": {},
   "outputs": [
    {
     "data": {
      "text/html": [
       "<div>\n",
       "<style scoped>\n",
       "    .dataframe tbody tr th:only-of-type {\n",
       "        vertical-align: middle;\n",
       "    }\n",
       "\n",
       "    .dataframe tbody tr th {\n",
       "        vertical-align: top;\n",
       "    }\n",
       "\n",
       "    .dataframe thead th {\n",
       "        text-align: right;\n",
       "    }\n",
       "</style>\n",
       "<table border=\"1\" class=\"dataframe\">\n",
       "  <thead>\n",
       "    <tr style=\"text-align: right;\">\n",
       "      <th></th>\n",
       "      <th></th>\n",
       "      <th>distance_sum</th>\n",
       "      <th>duration_sum</th>\n",
       "      <th>rides_month</th>\n",
       "      <th>subscription_type</th>\n",
       "      <th>minute_price</th>\n",
       "      <th>start_ride_price</th>\n",
       "      <th>subscription_fee</th>\n",
       "    </tr>\n",
       "    <tr>\n",
       "      <th>user_id</th>\n",
       "      <th>number_month</th>\n",
       "      <th></th>\n",
       "      <th></th>\n",
       "      <th></th>\n",
       "      <th></th>\n",
       "      <th></th>\n",
       "      <th></th>\n",
       "      <th></th>\n",
       "    </tr>\n",
       "  </thead>\n",
       "  <tbody>\n",
       "    <tr>\n",
       "      <th rowspan=\"5\" valign=\"top\">1</th>\n",
       "      <th>1</th>\n",
       "      <td>7027.5</td>\n",
       "      <td>42.0</td>\n",
       "      <td>2</td>\n",
       "      <td>ultra</td>\n",
       "      <td>6</td>\n",
       "      <td>0</td>\n",
       "      <td>199</td>\n",
       "    </tr>\n",
       "    <tr>\n",
       "      <th>4</th>\n",
       "      <td>754.2</td>\n",
       "      <td>7.0</td>\n",
       "      <td>1</td>\n",
       "      <td>ultra</td>\n",
       "      <td>6</td>\n",
       "      <td>0</td>\n",
       "      <td>199</td>\n",
       "    </tr>\n",
       "    <tr>\n",
       "      <th>8</th>\n",
       "      <td>6723.5</td>\n",
       "      <td>46.0</td>\n",
       "      <td>2</td>\n",
       "      <td>ultra</td>\n",
       "      <td>6</td>\n",
       "      <td>0</td>\n",
       "      <td>199</td>\n",
       "    </tr>\n",
       "    <tr>\n",
       "      <th>10</th>\n",
       "      <td>5809.9</td>\n",
       "      <td>32.0</td>\n",
       "      <td>2</td>\n",
       "      <td>ultra</td>\n",
       "      <td>6</td>\n",
       "      <td>0</td>\n",
       "      <td>199</td>\n",
       "    </tr>\n",
       "    <tr>\n",
       "      <th>11</th>\n",
       "      <td>7003.5</td>\n",
       "      <td>56.0</td>\n",
       "      <td>3</td>\n",
       "      <td>ultra</td>\n",
       "      <td>6</td>\n",
       "      <td>0</td>\n",
       "      <td>199</td>\n",
       "    </tr>\n",
       "    <tr>\n",
       "      <th>...</th>\n",
       "      <th>...</th>\n",
       "      <td>...</td>\n",
       "      <td>...</td>\n",
       "      <td>...</td>\n",
       "      <td>...</td>\n",
       "      <td>...</td>\n",
       "      <td>...</td>\n",
       "      <td>...</td>\n",
       "    </tr>\n",
       "    <tr>\n",
       "      <th rowspan=\"5\" valign=\"top\">1534</th>\n",
       "      <th>6</th>\n",
       "      <td>3409.4</td>\n",
       "      <td>26.0</td>\n",
       "      <td>2</td>\n",
       "      <td>free</td>\n",
       "      <td>8</td>\n",
       "      <td>50</td>\n",
       "      <td>0</td>\n",
       "    </tr>\n",
       "    <tr>\n",
       "      <th>8</th>\n",
       "      <td>7622.4</td>\n",
       "      <td>48.0</td>\n",
       "      <td>2</td>\n",
       "      <td>free</td>\n",
       "      <td>8</td>\n",
       "      <td>50</td>\n",
       "      <td>0</td>\n",
       "    </tr>\n",
       "    <tr>\n",
       "      <th>9</th>\n",
       "      <td>4928.2</td>\n",
       "      <td>23.0</td>\n",
       "      <td>1</td>\n",
       "      <td>free</td>\n",
       "      <td>8</td>\n",
       "      <td>50</td>\n",
       "      <td>0</td>\n",
       "    </tr>\n",
       "    <tr>\n",
       "      <th>11</th>\n",
       "      <td>13350.0</td>\n",
       "      <td>78.0</td>\n",
       "      <td>4</td>\n",
       "      <td>free</td>\n",
       "      <td>8</td>\n",
       "      <td>50</td>\n",
       "      <td>0</td>\n",
       "    </tr>\n",
       "    <tr>\n",
       "      <th>12</th>\n",
       "      <td>2371.7</td>\n",
       "      <td>16.0</td>\n",
       "      <td>1</td>\n",
       "      <td>free</td>\n",
       "      <td>8</td>\n",
       "      <td>50</td>\n",
       "      <td>0</td>\n",
       "    </tr>\n",
       "  </tbody>\n",
       "</table>\n",
       "<p>11331 rows × 7 columns</p>\n",
       "</div>"
      ],
      "text/plain": [
       "                      distance_sum  duration_sum  rides_month  \\\n",
       "user_id number_month                                            \n",
       "1       1                   7027.5          42.0            2   \n",
       "        4                    754.2           7.0            1   \n",
       "        8                   6723.5          46.0            2   \n",
       "        10                  5809.9          32.0            2   \n",
       "        11                  7003.5          56.0            3   \n",
       "...                            ...           ...          ...   \n",
       "1534    6                   3409.4          26.0            2   \n",
       "        8                   7622.4          48.0            2   \n",
       "        9                   4928.2          23.0            1   \n",
       "        11                 13350.0          78.0            4   \n",
       "        12                  2371.7          16.0            1   \n",
       "\n",
       "                     subscription_type  minute_price  start_ride_price  \\\n",
       "user_id number_month                                                     \n",
       "1       1                        ultra             6                 0   \n",
       "        4                        ultra             6                 0   \n",
       "        8                        ultra             6                 0   \n",
       "        10                       ultra             6                 0   \n",
       "        11                       ultra             6                 0   \n",
       "...                                ...           ...               ...   \n",
       "1534    6                         free             8                50   \n",
       "        8                         free             8                50   \n",
       "        9                         free             8                50   \n",
       "        11                        free             8                50   \n",
       "        12                        free             8                50   \n",
       "\n",
       "                      subscription_fee  \n",
       "user_id number_month                    \n",
       "1       1                          199  \n",
       "        4                          199  \n",
       "        8                          199  \n",
       "        10                         199  \n",
       "        11                         199  \n",
       "...                                ...  \n",
       "1534    6                            0  \n",
       "        8                            0  \n",
       "        9                            0  \n",
       "        11                           0  \n",
       "        12                           0  \n",
       "\n",
       "[11331 rows x 7 columns]"
      ]
     },
     "metadata": {},
     "output_type": "display_data"
    }
   ],
   "source": [
    "data_user_month = total_data.groupby(['user_id', 'number_month']).agg({'distance': 'sum', 'duration': 'sum', 'user_id': 'count', 'subscription_type': 'first', 'minute_price': 'first', 'start_ride_price': 'first', 'subscription_fee': 'first'})\n",
    "data_user_month.columns =['distance_sum', 'duration_sum', 'rides_month', 'subscription_type', 'minute_price', 'start_ride_price', 'subscription_fee']\n",
    "display(data_user_month)"
   ]
  },
  {
   "cell_type": "markdown",
   "id": "8dfb9833",
   "metadata": {},
   "source": [
    "### Расчет помесячной выручки"
   ]
  },
  {
   "cell_type": "markdown",
   "id": "de214aa0",
   "metadata": {},
   "source": [
    "Помесячная выручка считается по формуле: стоимость старта поездки ×  количество поездок + стоимость одной минуты поездки × общая продолжительность всех поездок в минутах + стоимость подписки."
   ]
  },
  {
   "cell_type": "code",
   "execution_count": 54,
   "id": "4f1ae087",
   "metadata": {},
   "outputs": [
    {
     "data": {
      "text/html": [
       "<div>\n",
       "<style scoped>\n",
       "    .dataframe tbody tr th:only-of-type {\n",
       "        vertical-align: middle;\n",
       "    }\n",
       "\n",
       "    .dataframe tbody tr th {\n",
       "        vertical-align: top;\n",
       "    }\n",
       "\n",
       "    .dataframe thead th {\n",
       "        text-align: right;\n",
       "    }\n",
       "</style>\n",
       "<table border=\"1\" class=\"dataframe\">\n",
       "  <thead>\n",
       "    <tr style=\"text-align: right;\">\n",
       "      <th></th>\n",
       "      <th></th>\n",
       "      <th>distance_sum</th>\n",
       "      <th>duration_sum</th>\n",
       "      <th>rides_month</th>\n",
       "      <th>subscription_type</th>\n",
       "      <th>minute_price</th>\n",
       "      <th>start_ride_price</th>\n",
       "      <th>subscription_fee</th>\n",
       "      <th>income_month</th>\n",
       "    </tr>\n",
       "    <tr>\n",
       "      <th>user_id</th>\n",
       "      <th>number_month</th>\n",
       "      <th></th>\n",
       "      <th></th>\n",
       "      <th></th>\n",
       "      <th></th>\n",
       "      <th></th>\n",
       "      <th></th>\n",
       "      <th></th>\n",
       "      <th></th>\n",
       "    </tr>\n",
       "  </thead>\n",
       "  <tbody>\n",
       "    <tr>\n",
       "      <th rowspan=\"5\" valign=\"top\">1</th>\n",
       "      <th>1</th>\n",
       "      <td>7027.5</td>\n",
       "      <td>42.0</td>\n",
       "      <td>2</td>\n",
       "      <td>ultra</td>\n",
       "      <td>6</td>\n",
       "      <td>0</td>\n",
       "      <td>199</td>\n",
       "      <td>451.0</td>\n",
       "    </tr>\n",
       "    <tr>\n",
       "      <th>4</th>\n",
       "      <td>754.2</td>\n",
       "      <td>7.0</td>\n",
       "      <td>1</td>\n",
       "      <td>ultra</td>\n",
       "      <td>6</td>\n",
       "      <td>0</td>\n",
       "      <td>199</td>\n",
       "      <td>241.0</td>\n",
       "    </tr>\n",
       "    <tr>\n",
       "      <th>8</th>\n",
       "      <td>6723.5</td>\n",
       "      <td>46.0</td>\n",
       "      <td>2</td>\n",
       "      <td>ultra</td>\n",
       "      <td>6</td>\n",
       "      <td>0</td>\n",
       "      <td>199</td>\n",
       "      <td>475.0</td>\n",
       "    </tr>\n",
       "    <tr>\n",
       "      <th>10</th>\n",
       "      <td>5809.9</td>\n",
       "      <td>32.0</td>\n",
       "      <td>2</td>\n",
       "      <td>ultra</td>\n",
       "      <td>6</td>\n",
       "      <td>0</td>\n",
       "      <td>199</td>\n",
       "      <td>391.0</td>\n",
       "    </tr>\n",
       "    <tr>\n",
       "      <th>11</th>\n",
       "      <td>7003.5</td>\n",
       "      <td>56.0</td>\n",
       "      <td>3</td>\n",
       "      <td>ultra</td>\n",
       "      <td>6</td>\n",
       "      <td>0</td>\n",
       "      <td>199</td>\n",
       "      <td>535.0</td>\n",
       "    </tr>\n",
       "  </tbody>\n",
       "</table>\n",
       "</div>"
      ],
      "text/plain": [
       "                      distance_sum  duration_sum  rides_month  \\\n",
       "user_id number_month                                            \n",
       "1       1                   7027.5          42.0            2   \n",
       "        4                    754.2           7.0            1   \n",
       "        8                   6723.5          46.0            2   \n",
       "        10                  5809.9          32.0            2   \n",
       "        11                  7003.5          56.0            3   \n",
       "\n",
       "                     subscription_type  minute_price  start_ride_price  \\\n",
       "user_id number_month                                                     \n",
       "1       1                        ultra             6                 0   \n",
       "        4                        ultra             6                 0   \n",
       "        8                        ultra             6                 0   \n",
       "        10                       ultra             6                 0   \n",
       "        11                       ultra             6                 0   \n",
       "\n",
       "                      subscription_fee  income_month  \n",
       "user_id number_month                                  \n",
       "1       1                          199         451.0  \n",
       "        4                          199         241.0  \n",
       "        8                          199         475.0  \n",
       "        10                         199         391.0  \n",
       "        11                         199         535.0  "
      ]
     },
     "metadata": {},
     "output_type": "display_data"
    }
   ],
   "source": [
    "#создадим функцию, которая будет считать выручку, которую пользователь принес за каждый месяц\n",
    "def income_month(row):\n",
    "    if row['subscription_type'] == 'ultra':\n",
    "        return (row['duration_sum']*6)+199\n",
    "    elif row['subscription_type'] == 'free':\n",
    "        return 50*row['rides_month']+8*row['duration_sum']\n",
    "#в нам датафрейм добавим столбец income_month с результатом работы функции     \n",
    "data_user_month['income_month'] = data_user_month[['rides_month', 'duration_sum', 'subscription_type']].apply(income_month, axis=1)\n",
    "display(data_user_month.head())"
   ]
  },
  {
   "cell_type": "markdown",
   "id": "1b24bed3",
   "metadata": {},
   "source": [
    "Вывод: Найдите суммарное расстояние, количество поездок и суммарное время для каждого пользователя за каждый месяц и добавили эти значения в наш объединенный датафрейм. После чего, по формуле посчитали функцию при помощи функции и добавили к новый столбец с результатами расчетов. "
   ]
  },
  {
   "cell_type": "markdown",
   "id": "41545ac0",
   "metadata": {},
   "source": [
    "## Шаг 5. Проверка гипотез"
   ]
  },
  {
   "cell_type": "markdown",
   "id": "25a2c10e",
   "metadata": {},
   "source": [
    "### Важно понять, тратят ли пользователи с подпиской больше времени на поездки? Если да, то пользователи с подпиской могут быть «выгоднее» для компании. Проверим гипотезу. Используем исходные данные о продолжительности каждой сессии — отдельно для подписчиков и тех, у кого нет подписки"
   ]
  },
  {
   "cell_type": "markdown",
   "id": "68d1b24f",
   "metadata": {},
   "source": [
    "Нулевая гипотеза: пользователи с подпиской тратят равное количество времени на поездки, что и пользователи без подписки.\n",
    "Альтернативная гипотеза: пользователи с подпиской тратят больше времени на поездки."
   ]
  },
  {
   "cell_type": "code",
   "execution_count": 55,
   "id": "9541f95a",
   "metadata": {},
   "outputs": [
    {
     "data": {
      "text/plain": [
       "17.890992392807746"
      ]
     },
     "execution_count": 55,
     "metadata": {},
     "output_type": "execute_result"
    }
   ],
   "source": [
    "free['duration'].mean()"
   ]
  },
  {
   "cell_type": "code",
   "execution_count": 56,
   "id": "0a1922c7",
   "metadata": {},
   "outputs": [
    {
     "data": {
      "text/plain": [
       "19.037692307692307"
      ]
     },
     "execution_count": 56,
     "metadata": {},
     "output_type": "execute_result"
    }
   ],
   "source": [
    "ultra['duration'].mean()"
   ]
  },
  {
   "cell_type": "code",
   "execution_count": 57,
   "id": "7448f15a",
   "metadata": {},
   "outputs": [
    {
     "name": "stdout",
     "output_type": "stream",
     "text": [
      "p-значение: 2.4959453720736625e-34\n",
      "Отвергаем нулевую гипотезу\n"
     ]
    }
   ],
   "source": [
    "alpha = 0.05 # уровень статистической значимости\n",
    "\n",
    "results = st.ttest_ind(ultra['duration'], free['duration'], alternative = 'greater')\n",
    "\n",
    "print('p-значение:', results.pvalue)\n",
    "\n",
    "if results.pvalue < alpha:\n",
    "    print('Отвергаем нулевую гипотезу')\n",
    "else:\n",
    "    print('Не получилось отвергнуть нулевую гипотезу') "
   ]
  },
  {
   "cell_type": "markdown",
   "id": "06e10b51",
   "metadata": {},
   "source": [
    "Получили значение уровня статистической значимости больше значения pvalue, поэтому отвергаем нулевую гипотезу. Это может означать, что пользователи с подпиской тратят больше времени на поездку."
   ]
  },
  {
   "cell_type": "markdown",
   "id": "0435f2b4",
   "metadata": {},
   "source": [
    "### Расстояние одной поездки в 3130 метров — оптимальное с точки зрения износа самоката. Можно ли сказать, что среднее расстояние, которое проезжают пользователи с подпиской за одну поездку, не превышает 3130 метров?"
   ]
  },
  {
   "cell_type": "markdown",
   "id": "63d18e66",
   "metadata": {},
   "source": [
    "Нулевая гипотеза: среднее расстояние, которое проезжают пользователи с подпиской не превышает 3130 метров.\n",
    "Альтернативная гипотеза: среднее расстояние, которое проезжают пользователи с подпиской больше 3130 метров."
   ]
  },
  {
   "cell_type": "code",
   "execution_count": 58,
   "id": "d10a6c97",
   "metadata": {},
   "outputs": [
    {
     "data": {
      "text/plain": [
       "3115.4449846153843"
      ]
     },
     "execution_count": 58,
     "metadata": {},
     "output_type": "execute_result"
    }
   ],
   "source": [
    "ultra['distance'].mean() #выведем среднее расстояние, которое проезжают пользователи с подпиской"
   ]
  },
  {
   "cell_type": "code",
   "execution_count": 59,
   "id": "6c88cffd",
   "metadata": {},
   "outputs": [
    {
     "name": "stdout",
     "output_type": "stream",
     "text": [
      "p-значение: 0.9195427368335852\n",
      "Не получилось отвергнуть нулевую гипотезу\n"
     ]
    }
   ],
   "source": [
    "interested_value = 3130 # оптимальное расстояние с точки зрения износа самоката\n",
    "\n",
    "alpha = 0.05 # уровень статистической значимости\n",
    "\n",
    "results = st.ttest_1samp(ultra['distance'], interested_value, alternative='greater')\n",
    "\n",
    "print('p-значение:', results.pvalue)\n",
    "\n",
    "if results.pvalue < alpha:\n",
    "    print('Отвергаем нулевую гипотезу')\n",
    "else:\n",
    "    print('Не получилось отвергнуть нулевую гипотезу')"
   ]
  },
  {
   "cell_type": "markdown",
   "id": "67d66fd1",
   "metadata": {},
   "source": [
    "Получилось, что значение pvalue гораздо больше уровня статистической значимости, поэтому гипотеза о том, что пользователи с подпиской проезжают расстояние равное 3130 метров не может быть отвергнута. Даже если это значение окажется меньше, мы не сможем отвергнуть нулевую гипотезу."
   ]
  },
  {
   "cell_type": "markdown",
   "id": "e967deb0",
   "metadata": {},
   "source": [
    "### Проверим гипотезу о том, будет ли помесячная выручка от пользователей с подпиской по месяцам выше, чем выручка от пользователей без подписки"
   ]
  },
  {
   "cell_type": "markdown",
   "id": "30f601e7",
   "metadata": {},
   "source": [
    "Нулевая гипотеза: помесячная выручка от пользователей с подпиской по месяцам равна выручке пользователей без подписки\n",
    "Альтернативная гипотеза: помесячная выручка от пользователей с подпиской по месяцам больше, чем выручка от пользователей без подписки"
   ]
  },
  {
   "cell_type": "code",
   "execution_count": 60,
   "id": "8f732692",
   "metadata": {},
   "outputs": [
    {
     "data": {
      "text/html": [
       "<div>\n",
       "<style scoped>\n",
       "    .dataframe tbody tr th:only-of-type {\n",
       "        vertical-align: middle;\n",
       "    }\n",
       "\n",
       "    .dataframe tbody tr th {\n",
       "        vertical-align: top;\n",
       "    }\n",
       "\n",
       "    .dataframe thead th {\n",
       "        text-align: right;\n",
       "    }\n",
       "</style>\n",
       "<table border=\"1\" class=\"dataframe\">\n",
       "  <thead>\n",
       "    <tr style=\"text-align: right;\">\n",
       "      <th></th>\n",
       "      <th></th>\n",
       "      <th>income_month</th>\n",
       "    </tr>\n",
       "    <tr>\n",
       "      <th>user_id</th>\n",
       "      <th>number_month</th>\n",
       "      <th></th>\n",
       "    </tr>\n",
       "  </thead>\n",
       "  <tbody>\n",
       "    <tr>\n",
       "      <th rowspan=\"5\" valign=\"top\">1</th>\n",
       "      <th>1</th>\n",
       "      <td>451.0</td>\n",
       "    </tr>\n",
       "    <tr>\n",
       "      <th>4</th>\n",
       "      <td>241.0</td>\n",
       "    </tr>\n",
       "    <tr>\n",
       "      <th>8</th>\n",
       "      <td>475.0</td>\n",
       "    </tr>\n",
       "    <tr>\n",
       "      <th>10</th>\n",
       "      <td>391.0</td>\n",
       "    </tr>\n",
       "    <tr>\n",
       "      <th>11</th>\n",
       "      <td>535.0</td>\n",
       "    </tr>\n",
       "    <tr>\n",
       "      <th>...</th>\n",
       "      <th>...</th>\n",
       "      <td>...</td>\n",
       "    </tr>\n",
       "    <tr>\n",
       "      <th rowspan=\"5\" valign=\"top\">699</th>\n",
       "      <th>6</th>\n",
       "      <td>301.0</td>\n",
       "    </tr>\n",
       "    <tr>\n",
       "      <th>8</th>\n",
       "      <td>469.0</td>\n",
       "    </tr>\n",
       "    <tr>\n",
       "      <th>9</th>\n",
       "      <td>385.0</td>\n",
       "    </tr>\n",
       "    <tr>\n",
       "      <th>10</th>\n",
       "      <td>295.0</td>\n",
       "    </tr>\n",
       "    <tr>\n",
       "      <th>12</th>\n",
       "      <td>355.0</td>\n",
       "    </tr>\n",
       "  </tbody>\n",
       "</table>\n",
       "<p>4533 rows × 1 columns</p>\n",
       "</div>"
      ],
      "text/plain": [
       "                      income_month\n",
       "user_id number_month              \n",
       "1       1                    451.0\n",
       "        4                    241.0\n",
       "        8                    475.0\n",
       "        10                   391.0\n",
       "        11                   535.0\n",
       "...                            ...\n",
       "699     6                    301.0\n",
       "        8                    469.0\n",
       "        9                    385.0\n",
       "        10                   295.0\n",
       "        12                   355.0\n",
       "\n",
       "[4533 rows x 1 columns]"
      ]
     },
     "metadata": {},
     "output_type": "display_data"
    }
   ],
   "source": [
    "user_ultra = data_user_month.query('subscription_type == \"ultra\"')\n",
    "pivot_user_ultra = user_ultra.pivot_table(index=['user_id', 'number_month'], values='income_month', aggfunc='sum')\n",
    "\n",
    "display(pivot_user_ultra)"
   ]
  },
  {
   "cell_type": "code",
   "execution_count": 61,
   "id": "620000ac",
   "metadata": {
    "scrolled": false
   },
   "outputs": [
    {
     "data": {
      "text/html": [
       "<div>\n",
       "<style scoped>\n",
       "    .dataframe tbody tr th:only-of-type {\n",
       "        vertical-align: middle;\n",
       "    }\n",
       "\n",
       "    .dataframe tbody tr th {\n",
       "        vertical-align: top;\n",
       "    }\n",
       "\n",
       "    .dataframe thead th {\n",
       "        text-align: right;\n",
       "    }\n",
       "</style>\n",
       "<table border=\"1\" class=\"dataframe\">\n",
       "  <thead>\n",
       "    <tr style=\"text-align: right;\">\n",
       "      <th></th>\n",
       "      <th></th>\n",
       "      <th>income_month</th>\n",
       "    </tr>\n",
       "    <tr>\n",
       "      <th>user_id</th>\n",
       "      <th>number_month</th>\n",
       "      <th></th>\n",
       "    </tr>\n",
       "  </thead>\n",
       "  <tbody>\n",
       "    <tr>\n",
       "      <th rowspan=\"5\" valign=\"top\">700</th>\n",
       "      <th>1</th>\n",
       "      <td>170.0</td>\n",
       "    </tr>\n",
       "    <tr>\n",
       "      <th>2</th>\n",
       "      <td>962.0</td>\n",
       "    </tr>\n",
       "    <tr>\n",
       "      <th>3</th>\n",
       "      <td>202.0</td>\n",
       "    </tr>\n",
       "    <tr>\n",
       "      <th>4</th>\n",
       "      <td>178.0</td>\n",
       "    </tr>\n",
       "    <tr>\n",
       "      <th>6</th>\n",
       "      <td>332.0</td>\n",
       "    </tr>\n",
       "    <tr>\n",
       "      <th>...</th>\n",
       "      <th>...</th>\n",
       "      <td>...</td>\n",
       "    </tr>\n",
       "    <tr>\n",
       "      <th rowspan=\"5\" valign=\"top\">1534</th>\n",
       "      <th>6</th>\n",
       "      <td>308.0</td>\n",
       "    </tr>\n",
       "    <tr>\n",
       "      <th>8</th>\n",
       "      <td>484.0</td>\n",
       "    </tr>\n",
       "    <tr>\n",
       "      <th>9</th>\n",
       "      <td>234.0</td>\n",
       "    </tr>\n",
       "    <tr>\n",
       "      <th>11</th>\n",
       "      <td>824.0</td>\n",
       "    </tr>\n",
       "    <tr>\n",
       "      <th>12</th>\n",
       "      <td>178.0</td>\n",
       "    </tr>\n",
       "  </tbody>\n",
       "</table>\n",
       "<p>6798 rows × 1 columns</p>\n",
       "</div>"
      ],
      "text/plain": [
       "                      income_month\n",
       "user_id number_month              \n",
       "700     1                    170.0\n",
       "        2                    962.0\n",
       "        3                    202.0\n",
       "        4                    178.0\n",
       "        6                    332.0\n",
       "...                            ...\n",
       "1534    6                    308.0\n",
       "        8                    484.0\n",
       "        9                    234.0\n",
       "        11                   824.0\n",
       "        12                   178.0\n",
       "\n",
       "[6798 rows x 1 columns]"
      ]
     },
     "metadata": {},
     "output_type": "display_data"
    }
   ],
   "source": [
    "user_free = data_user_month.query('subscription_type == \"free\"')\n",
    "pivot_user_free = user_free.pivot_table(index=['user_id', 'number_month'], values='income_month', aggfunc='sum')\n",
    "\n",
    "display(pivot_user_free)"
   ]
  },
  {
   "cell_type": "code",
   "execution_count": 62,
   "id": "b42c8115",
   "metadata": {},
   "outputs": [
    {
     "data": {
      "text/plain": [
       "362.7921906022502"
      ]
     },
     "execution_count": 62,
     "metadata": {},
     "output_type": "execute_result"
    }
   ],
   "source": [
    "pivot_user_ultra['income_month'].mean()"
   ]
  },
  {
   "cell_type": "code",
   "execution_count": 63,
   "id": "bedf2ee9",
   "metadata": {},
   "outputs": [
    {
     "data": {
      "text/plain": [
       "328.6413651073845"
      ]
     },
     "execution_count": 63,
     "metadata": {},
     "output_type": "execute_result"
    }
   ],
   "source": [
    "pivot_user_free['income_month'].mean()"
   ]
  },
  {
   "cell_type": "code",
   "execution_count": 64,
   "id": "030dd221",
   "metadata": {},
   "outputs": [
    {
     "name": "stdout",
     "output_type": "stream",
     "text": [
      "p-значение: 1.8850394384715216e-31\n",
      "Отвергаем нулевую гипотезу\n"
     ]
    }
   ],
   "source": [
    "alpha = 0.05 # уровень статистической значимости\n",
    "\n",
    "results = st.ttest_ind(pivot_user_ultra['income_month'], pivot_user_free['income_month'], alternative = 'greater')\n",
    "\n",
    "print('p-значение:', results.pvalue)\n",
    "\n",
    "if results.pvalue < alpha:\n",
    "    print('Отвергаем нулевую гипотезу')\n",
    "else:\n",
    "    print('Не получилось отвергнуть нулевую гипотезу') "
   ]
  },
  {
   "cell_type": "markdown",
   "id": "37d4089d",
   "metadata": {},
   "source": [
    "Получили значение pvalue меньше, чем уровень статистической значимости, поэтому нулевая гипотеза отвергнута. Это значит, что помесячная выручка от пользователей с подпиской по месяцам больше, чем выручка от пользователей без подписки. Получается, что пользователи с подпиской дают хорошую выручки для компании. "
   ]
  },
  {
   "cell_type": "markdown",
   "id": "3a1056b7",
   "metadata": {},
   "source": [
    "## Общий вывод:"
   ]
  },
  {
   "cell_type": "markdown",
   "id": "9db591b8",
   "metadata": {},
   "source": [
    "В данном проекте выполнили: \n",
    "* предобратку данных, ццц\n",
    "* исследовательский анализ данных, \n",
    "* статистический анализ данных.\n",
    "\n",
    "Выполнили предобработку данных: \n",
    "* именение типов данных, \n",
    "* поиск и удаление дубликатов, \n",
    "* поиск аномалий, \n",
    "* поиск пропущенных значений.\n",
    "\n",
    "В исследовательском анализе данных постоили графики, гистограммы и круговую дивграмму. Определили, что данные распределены нормально, сделали выводы по анализу.\n",
    "\n",
    "Помимо этих разделов выполнили объединение данных в датафреймах при помощи метода merge, что будет удобней для дальнейшего анализа. И также посчитали помесячную выручку для каждого пользователя.\n",
    "\n",
    "Далее был проведен статистический анализ, проверили несколько гипотез:\n",
    "* В первом задании проверили гипотезу тратят ли пользователи с подпиской больше времени на поездки. Получили значение уровня статистической значимости больше значения pvalue, поэтому отвергаем нулевую гипотезу. Это может означать, что пользователи с подпиской тратят больше времени на поездку.\n",
    "* Во втором задании раздела проверили гипотезу: \"можно ли сказать, что среднее расстояние, которое проезжают пользователи с подпиской за одну поездку, не превышает 3130 метров?\" И получили значение высокое назначение pvalue, которое больше уровня статистической значимости, поэтому гипотеза не отвергается.\n",
    "* В третьем задании раздела проверили гипотезу о том, будет ли помесячная выручка от пользователей с подпиской по месяцам выше, чем выручка от пользователей без подписки. И получили значение pvalue меньше, чем уровень статистической значимости, поэтому нулевая гипотеза отвергнута. Это значит, что помесячная выручка от пользователей с подпиской по месяцам больш, чем выручка от пользователей без подписки. Получается, что пользователи с подпиской дают хорошую выручки для компании. \n",
    "    \n",
    "**Подведем итог**: пользователи с подпиской приносят компании больше выручку, чем пользователи без подписки. А так же у пользователей с подпиской продолжительность поездки больше, чем у пользователей без подписки. Что тоже влияет на выручку компании и дествует в пользу пользователей с подпиской."
   ]
  }
 ],
 "metadata": {
  "ExecuteTimeLog": [
   {
    "duration": 445,
    "start_time": "2023-09-27T11:18:07.415Z"
   },
   {
    "duration": 84,
    "start_time": "2023-09-27T11:18:11.641Z"
   },
   {
    "duration": 18,
    "start_time": "2023-09-27T11:18:13.864Z"
   },
   {
    "duration": 67,
    "start_time": "2023-09-27T11:19:27.890Z"
   },
   {
    "duration": 12,
    "start_time": "2023-09-27T11:20:14.402Z"
   },
   {
    "duration": 164,
    "start_time": "2023-09-27T11:30:59.177Z"
   },
   {
    "duration": 10,
    "start_time": "2023-09-27T11:31:01.513Z"
   },
   {
    "duration": 9,
    "start_time": "2023-09-27T11:31:34.560Z"
   },
   {
    "duration": 12,
    "start_time": "2023-09-27T11:31:51.706Z"
   },
   {
    "duration": 68,
    "start_time": "2023-09-27T11:32:15.139Z"
   },
   {
    "duration": 10,
    "start_time": "2023-09-27T11:32:21.517Z"
   },
   {
    "duration": 11,
    "start_time": "2023-09-27T11:32:34.816Z"
   },
   {
    "duration": 13,
    "start_time": "2023-09-27T11:49:42.915Z"
   },
   {
    "duration": 22,
    "start_time": "2023-09-27T11:49:53.312Z"
   },
   {
    "duration": 12,
    "start_time": "2023-09-27T11:55:22.939Z"
   },
   {
    "duration": 5,
    "start_time": "2023-09-27T11:55:25.907Z"
   },
   {
    "duration": 11,
    "start_time": "2023-09-27T11:55:28.615Z"
   },
   {
    "duration": 7,
    "start_time": "2023-09-27T12:01:43.513Z"
   },
   {
    "duration": 8,
    "start_time": "2023-09-27T12:03:36.548Z"
   },
   {
    "duration": 6,
    "start_time": "2023-09-27T12:03:57.540Z"
   },
   {
    "duration": 3,
    "start_time": "2023-09-27T12:08:20.479Z"
   },
   {
    "duration": 6,
    "start_time": "2023-09-27T12:09:33.491Z"
   },
   {
    "duration": 7,
    "start_time": "2023-09-27T12:09:45.758Z"
   },
   {
    "duration": 5,
    "start_time": "2023-09-27T12:09:59.345Z"
   },
   {
    "duration": 7,
    "start_time": "2023-09-27T12:14:03.168Z"
   },
   {
    "duration": 6,
    "start_time": "2023-09-27T12:14:17.275Z"
   },
   {
    "duration": 6,
    "start_time": "2023-09-27T12:23:41.940Z"
   },
   {
    "duration": 6,
    "start_time": "2023-09-27T12:23:51.182Z"
   },
   {
    "duration": 8,
    "start_time": "2023-09-27T12:26:52.202Z"
   },
   {
    "duration": 6,
    "start_time": "2023-09-27T12:27:16.479Z"
   },
   {
    "duration": 433,
    "start_time": "2023-09-27T12:27:27.334Z"
   },
   {
    "duration": 28,
    "start_time": "2023-09-27T12:27:27.769Z"
   },
   {
    "duration": 18,
    "start_time": "2023-09-27T12:27:27.798Z"
   },
   {
    "duration": 25,
    "start_time": "2023-09-27T12:27:27.820Z"
   },
   {
    "duration": 55,
    "start_time": "2023-09-27T12:27:27.846Z"
   },
   {
    "duration": 10,
    "start_time": "2023-09-27T12:27:27.902Z"
   },
   {
    "duration": 33,
    "start_time": "2023-09-27T12:27:27.916Z"
   },
   {
    "duration": 33,
    "start_time": "2023-09-27T12:27:27.951Z"
   },
   {
    "duration": 30,
    "start_time": "2023-09-27T12:27:27.986Z"
   },
   {
    "duration": 30,
    "start_time": "2023-09-27T12:27:28.019Z"
   },
   {
    "duration": 40,
    "start_time": "2023-09-27T12:27:28.051Z"
   },
   {
    "duration": 22,
    "start_time": "2023-09-27T12:27:28.092Z"
   },
   {
    "duration": 24,
    "start_time": "2023-09-27T12:27:28.118Z"
   },
   {
    "duration": 54,
    "start_time": "2023-09-27T12:27:28.144Z"
   },
   {
    "duration": 54,
    "start_time": "2023-09-27T12:27:28.200Z"
   },
   {
    "duration": 31,
    "start_time": "2023-09-27T12:27:28.256Z"
   },
   {
    "duration": 17,
    "start_time": "2023-09-27T12:27:28.289Z"
   },
   {
    "duration": 25,
    "start_time": "2023-09-27T12:27:28.308Z"
   },
   {
    "duration": 33,
    "start_time": "2023-09-27T12:27:28.335Z"
   },
   {
    "duration": 22,
    "start_time": "2023-09-27T12:27:28.370Z"
   },
   {
    "duration": 39,
    "start_time": "2023-09-27T12:27:28.394Z"
   },
   {
    "duration": 6,
    "start_time": "2023-09-27T12:27:28.436Z"
   },
   {
    "duration": 12,
    "start_time": "2023-09-27T13:24:57.327Z"
   },
   {
    "duration": 350,
    "start_time": "2023-09-27T13:25:12.866Z"
   },
   {
    "duration": 28,
    "start_time": "2023-09-27T13:25:13.218Z"
   },
   {
    "duration": 15,
    "start_time": "2023-09-27T13:25:13.248Z"
   },
   {
    "duration": 31,
    "start_time": "2023-09-27T13:25:13.265Z"
   },
   {
    "duration": 31,
    "start_time": "2023-09-27T13:25:13.297Z"
   },
   {
    "duration": 9,
    "start_time": "2023-09-27T13:25:13.330Z"
   },
   {
    "duration": 13,
    "start_time": "2023-09-27T13:25:13.340Z"
   },
   {
    "duration": 15,
    "start_time": "2023-09-27T13:25:13.355Z"
   },
   {
    "duration": 17,
    "start_time": "2023-09-27T13:25:13.372Z"
   },
   {
    "duration": 17,
    "start_time": "2023-09-27T13:25:13.391Z"
   },
   {
    "duration": 12,
    "start_time": "2023-09-27T13:25:13.410Z"
   },
   {
    "duration": 22,
    "start_time": "2023-09-27T13:25:13.423Z"
   },
   {
    "duration": 10,
    "start_time": "2023-09-27T13:25:13.446Z"
   },
   {
    "duration": 36,
    "start_time": "2023-09-27T13:25:13.457Z"
   },
   {
    "duration": 30,
    "start_time": "2023-09-27T13:25:13.494Z"
   },
   {
    "duration": 47,
    "start_time": "2023-09-27T13:25:13.525Z"
   },
   {
    "duration": 46,
    "start_time": "2023-09-27T13:25:13.573Z"
   },
   {
    "duration": 39,
    "start_time": "2023-09-27T13:25:13.621Z"
   },
   {
    "duration": 42,
    "start_time": "2023-09-27T13:25:13.661Z"
   },
   {
    "duration": 54,
    "start_time": "2023-09-27T13:25:13.704Z"
   },
   {
    "duration": 49,
    "start_time": "2023-09-27T13:25:13.760Z"
   },
   {
    "duration": 37,
    "start_time": "2023-09-27T13:25:13.810Z"
   },
   {
    "duration": 15,
    "start_time": "2023-09-27T13:25:13.848Z"
   },
   {
    "duration": 428,
    "start_time": "2023-09-27T13:28:17.305Z"
   },
   {
    "duration": 28,
    "start_time": "2023-09-27T13:28:17.735Z"
   },
   {
    "duration": 16,
    "start_time": "2023-09-27T13:28:17.765Z"
   },
   {
    "duration": 36,
    "start_time": "2023-09-27T13:28:17.783Z"
   },
   {
    "duration": 48,
    "start_time": "2023-09-27T13:28:17.821Z"
   },
   {
    "duration": 22,
    "start_time": "2023-09-27T13:28:17.871Z"
   },
   {
    "duration": 52,
    "start_time": "2023-09-27T13:28:17.895Z"
   },
   {
    "duration": 68,
    "start_time": "2023-09-27T13:28:17.949Z"
   },
   {
    "duration": 39,
    "start_time": "2023-09-27T13:28:18.019Z"
   },
   {
    "duration": 44,
    "start_time": "2023-09-27T13:28:18.060Z"
   },
   {
    "duration": 31,
    "start_time": "2023-09-27T13:28:18.106Z"
   },
   {
    "duration": 44,
    "start_time": "2023-09-27T13:28:18.139Z"
   },
   {
    "duration": 34,
    "start_time": "2023-09-27T13:28:18.186Z"
   },
   {
    "duration": 22,
    "start_time": "2023-09-27T13:28:18.222Z"
   },
   {
    "duration": 24,
    "start_time": "2023-09-27T13:28:18.245Z"
   },
   {
    "duration": 72,
    "start_time": "2023-09-27T13:28:18.271Z"
   },
   {
    "duration": 25,
    "start_time": "2023-09-27T13:28:18.345Z"
   },
   {
    "duration": 39,
    "start_time": "2023-09-27T13:28:18.371Z"
   },
   {
    "duration": 20,
    "start_time": "2023-09-27T13:28:18.412Z"
   },
   {
    "duration": 56,
    "start_time": "2023-09-27T13:28:18.433Z"
   },
   {
    "duration": 48,
    "start_time": "2023-09-27T13:28:18.491Z"
   },
   {
    "duration": 42,
    "start_time": "2023-09-27T13:28:18.541Z"
   },
   {
    "duration": 28,
    "start_time": "2023-09-27T13:28:18.585Z"
   },
   {
    "duration": 392,
    "start_time": "2023-09-27T13:28:45.521Z"
   },
   {
    "duration": 29,
    "start_time": "2023-09-27T13:28:45.915Z"
   },
   {
    "duration": 16,
    "start_time": "2023-09-27T13:28:45.945Z"
   },
   {
    "duration": 17,
    "start_time": "2023-09-27T13:28:45.963Z"
   },
   {
    "duration": 47,
    "start_time": "2023-09-27T13:28:45.981Z"
   },
   {
    "duration": 10,
    "start_time": "2023-09-27T13:28:46.029Z"
   },
   {
    "duration": 21,
    "start_time": "2023-09-27T13:28:46.041Z"
   },
   {
    "duration": 23,
    "start_time": "2023-09-27T13:28:46.064Z"
   },
   {
    "duration": 6,
    "start_time": "2023-09-27T13:28:46.088Z"
   },
   {
    "duration": 21,
    "start_time": "2023-09-27T13:28:46.096Z"
   },
   {
    "duration": 44,
    "start_time": "2023-09-27T13:28:46.119Z"
   },
   {
    "duration": 39,
    "start_time": "2023-09-27T13:28:46.165Z"
   },
   {
    "duration": 27,
    "start_time": "2023-09-27T13:28:46.206Z"
   },
   {
    "duration": 19,
    "start_time": "2023-09-27T13:28:46.235Z"
   },
   {
    "duration": 50,
    "start_time": "2023-09-27T13:28:46.256Z"
   },
   {
    "duration": 46,
    "start_time": "2023-09-27T13:28:46.307Z"
   },
   {
    "duration": 12,
    "start_time": "2023-09-27T13:28:46.354Z"
   },
   {
    "duration": 45,
    "start_time": "2023-09-27T13:28:46.367Z"
   },
   {
    "duration": 16,
    "start_time": "2023-09-27T13:28:46.413Z"
   },
   {
    "duration": 12,
    "start_time": "2023-09-27T13:28:46.431Z"
   },
   {
    "duration": 29,
    "start_time": "2023-09-27T13:28:46.444Z"
   },
   {
    "duration": 30,
    "start_time": "2023-09-27T13:28:46.475Z"
   },
   {
    "duration": 20,
    "start_time": "2023-09-27T13:28:46.506Z"
   },
   {
    "duration": 374,
    "start_time": "2023-09-27T13:29:37.448Z"
   },
   {
    "duration": 28,
    "start_time": "2023-09-27T13:29:37.824Z"
   },
   {
    "duration": 22,
    "start_time": "2023-09-27T13:29:37.853Z"
   },
   {
    "duration": 98,
    "start_time": "2023-09-27T13:29:37.877Z"
   },
   {
    "duration": 86,
    "start_time": "2023-09-27T13:29:37.976Z"
   },
   {
    "duration": 31,
    "start_time": "2023-09-27T13:29:38.064Z"
   },
   {
    "duration": 41,
    "start_time": "2023-09-27T13:29:38.097Z"
   },
   {
    "duration": 27,
    "start_time": "2023-09-27T13:29:38.140Z"
   },
   {
    "duration": 36,
    "start_time": "2023-09-27T13:29:38.169Z"
   },
   {
    "duration": 34,
    "start_time": "2023-09-27T13:29:38.207Z"
   },
   {
    "duration": 28,
    "start_time": "2023-09-27T13:29:38.243Z"
   },
   {
    "duration": 22,
    "start_time": "2023-09-27T13:29:38.272Z"
   },
   {
    "duration": 30,
    "start_time": "2023-09-27T13:29:38.295Z"
   },
   {
    "duration": 28,
    "start_time": "2023-09-27T13:29:38.326Z"
   },
   {
    "duration": 60,
    "start_time": "2023-09-27T13:29:38.355Z"
   },
   {
    "duration": 38,
    "start_time": "2023-09-27T13:29:38.417Z"
   },
   {
    "duration": 15,
    "start_time": "2023-09-27T13:29:38.457Z"
   },
   {
    "duration": 27,
    "start_time": "2023-09-27T13:29:38.474Z"
   },
   {
    "duration": 29,
    "start_time": "2023-09-27T13:29:38.503Z"
   },
   {
    "duration": 6,
    "start_time": "2023-09-27T13:29:38.534Z"
   },
   {
    "duration": 8,
    "start_time": "2023-09-27T13:29:38.542Z"
   },
   {
    "duration": 31,
    "start_time": "2023-09-27T13:29:38.551Z"
   },
   {
    "duration": 10,
    "start_time": "2023-09-27T13:29:38.583Z"
   },
   {
    "duration": 4,
    "start_time": "2023-09-27T13:33:51.253Z"
   },
   {
    "duration": 73,
    "start_time": "2023-09-27T13:35:26.086Z"
   },
   {
    "duration": 6,
    "start_time": "2023-09-27T13:35:58.646Z"
   },
   {
    "duration": 5,
    "start_time": "2023-09-27T13:43:50.939Z"
   },
   {
    "duration": 4,
    "start_time": "2023-09-27T14:03:33.033Z"
   },
   {
    "duration": 1389,
    "start_time": "2023-09-27T14:04:52.933Z"
   },
   {
    "duration": 5,
    "start_time": "2023-09-27T14:05:14.926Z"
   },
   {
    "duration": 1696,
    "start_time": "2023-09-27T14:07:14.944Z"
   },
   {
    "duration": 4,
    "start_time": "2023-09-27T14:07:28.953Z"
   },
   {
    "duration": 5,
    "start_time": "2023-09-27T14:18:54.642Z"
   },
   {
    "duration": 5,
    "start_time": "2023-09-27T14:19:41.761Z"
   },
   {
    "duration": 8,
    "start_time": "2023-09-27T14:20:00.993Z"
   },
   {
    "duration": 8,
    "start_time": "2023-09-27T14:20:25.983Z"
   },
   {
    "duration": 20,
    "start_time": "2023-09-27T14:35:39.211Z"
   },
   {
    "duration": 668,
    "start_time": "2023-09-27T14:38:31.237Z"
   },
   {
    "duration": 157,
    "start_time": "2023-09-27T14:38:49.131Z"
   },
   {
    "duration": 169,
    "start_time": "2023-09-27T14:38:56.707Z"
   },
   {
    "duration": 233,
    "start_time": "2023-09-27T14:39:06.627Z"
   },
   {
    "duration": 169,
    "start_time": "2023-09-27T14:39:15.976Z"
   },
   {
    "duration": 117,
    "start_time": "2023-09-27T14:40:05.331Z"
   },
   {
    "duration": 26924,
    "start_time": "2023-09-27T14:40:12.992Z"
   },
   {
    "duration": 24440,
    "start_time": "2023-09-27T14:41:21.843Z"
   },
   {
    "duration": 27645,
    "start_time": "2023-09-27T14:42:22.305Z"
   },
   {
    "duration": 177,
    "start_time": "2023-09-27T14:44:16.688Z"
   },
   {
    "duration": 183,
    "start_time": "2023-09-27T14:44:23.748Z"
   },
   {
    "duration": 28,
    "start_time": "2023-09-27T14:46:56.086Z"
   },
   {
    "duration": 390,
    "start_time": "2023-09-27T14:52:04.304Z"
   },
   {
    "duration": 26992,
    "start_time": "2023-09-27T14:52:29.365Z"
   },
   {
    "duration": 8,
    "start_time": "2023-09-27T14:55:23.612Z"
   },
   {
    "duration": 10,
    "start_time": "2023-09-27T14:55:32.974Z"
   },
   {
    "duration": 22843,
    "start_time": "2023-09-27T14:57:44.390Z"
   },
   {
    "duration": 22876,
    "start_time": "2023-09-27T16:20:15.127Z"
   },
   {
    "duration": 22554,
    "start_time": "2023-09-27T16:20:53.851Z"
   },
   {
    "duration": 16,
    "start_time": "2023-09-27T16:21:25.228Z"
   },
   {
    "duration": 9,
    "start_time": "2023-09-27T16:21:31.331Z"
   },
   {
    "duration": 14,
    "start_time": "2023-09-27T16:22:44.060Z"
   },
   {
    "duration": 22099,
    "start_time": "2023-09-27T16:23:01.717Z"
   },
   {
    "duration": 22219,
    "start_time": "2023-09-27T16:23:24.704Z"
   },
   {
    "duration": 15,
    "start_time": "2023-09-27T16:24:04.138Z"
   },
   {
    "duration": 22766,
    "start_time": "2023-09-27T16:25:07.593Z"
   },
   {
    "duration": 24037,
    "start_time": "2023-09-27T16:25:38.329Z"
   },
   {
    "duration": 166,
    "start_time": "2023-09-27T16:26:30.731Z"
   },
   {
    "duration": 176,
    "start_time": "2023-09-27T16:27:49.498Z"
   },
   {
    "duration": 167,
    "start_time": "2023-09-27T16:28:30.392Z"
   },
   {
    "duration": 164,
    "start_time": "2023-09-27T16:32:59.020Z"
   },
   {
    "duration": 152,
    "start_time": "2023-09-27T16:41:36.064Z"
   },
   {
    "duration": 165,
    "start_time": "2023-09-27T16:41:53.890Z"
   },
   {
    "duration": 155,
    "start_time": "2023-09-27T16:42:04.344Z"
   },
   {
    "duration": 154,
    "start_time": "2023-09-27T16:42:19.326Z"
   },
   {
    "duration": 171,
    "start_time": "2023-09-27T16:43:45.009Z"
   },
   {
    "duration": 152,
    "start_time": "2023-09-27T16:44:00.442Z"
   },
   {
    "duration": 151,
    "start_time": "2023-09-27T16:44:14.531Z"
   },
   {
    "duration": 200,
    "start_time": "2023-09-27T16:44:39.556Z"
   },
   {
    "duration": 9,
    "start_time": "2023-09-27T16:45:26.932Z"
   },
   {
    "duration": 185,
    "start_time": "2023-09-27T16:45:30.579Z"
   },
   {
    "duration": 173,
    "start_time": "2023-09-27T16:46:01.390Z"
   },
   {
    "duration": 6,
    "start_time": "2023-09-27T16:47:52.319Z"
   },
   {
    "duration": 7,
    "start_time": "2023-09-27T16:48:15.770Z"
   },
   {
    "duration": 147,
    "start_time": "2023-09-27T16:48:22.465Z"
   },
   {
    "duration": 9,
    "start_time": "2023-09-27T16:50:09.269Z"
   },
   {
    "duration": 9,
    "start_time": "2023-09-27T16:52:38.757Z"
   },
   {
    "duration": 107,
    "start_time": "2023-09-27T16:52:58.556Z"
   },
   {
    "duration": 124,
    "start_time": "2023-09-27T16:53:10.984Z"
   },
   {
    "duration": 9,
    "start_time": "2023-09-27T16:53:41.748Z"
   },
   {
    "duration": 9,
    "start_time": "2023-09-27T16:54:23.268Z"
   },
   {
    "duration": 7,
    "start_time": "2023-09-27T16:54:53.562Z"
   },
   {
    "duration": 176,
    "start_time": "2023-09-27T16:55:29.291Z"
   },
   {
    "duration": 173,
    "start_time": "2023-09-27T16:56:09.522Z"
   },
   {
    "duration": 137,
    "start_time": "2023-09-27T16:56:17.831Z"
   },
   {
    "duration": 11,
    "start_time": "2023-09-27T17:09:03.557Z"
   },
   {
    "duration": 97,
    "start_time": "2023-09-27T17:10:30.426Z"
   },
   {
    "duration": 99,
    "start_time": "2023-09-27T17:10:41.852Z"
   },
   {
    "duration": 18,
    "start_time": "2023-09-27T17:10:48.296Z"
   },
   {
    "duration": 141,
    "start_time": "2023-09-27T17:11:39.203Z"
   },
   {
    "duration": 20,
    "start_time": "2023-09-27T17:11:56.788Z"
   },
   {
    "duration": 12,
    "start_time": "2023-09-27T17:12:07.003Z"
   },
   {
    "duration": 12,
    "start_time": "2023-09-27T17:13:21.546Z"
   },
   {
    "duration": 19,
    "start_time": "2023-09-27T17:13:27.252Z"
   },
   {
    "duration": 18,
    "start_time": "2023-09-27T17:13:35.945Z"
   },
   {
    "duration": 1375,
    "start_time": "2023-09-27T17:16:37.549Z"
   },
   {
    "duration": 17,
    "start_time": "2023-09-27T17:17:35.246Z"
   },
   {
    "duration": 1322,
    "start_time": "2023-09-27T17:18:28.086Z"
   },
   {
    "duration": 14,
    "start_time": "2023-09-27T17:18:41.673Z"
   },
   {
    "duration": 15,
    "start_time": "2023-09-27T17:19:12.793Z"
   },
   {
    "duration": 15,
    "start_time": "2023-09-27T17:20:01.106Z"
   },
   {
    "duration": 1291,
    "start_time": "2023-09-27T17:20:37.777Z"
   },
   {
    "duration": 1233,
    "start_time": "2023-09-27T17:20:52.176Z"
   },
   {
    "duration": 14,
    "start_time": "2023-09-27T17:21:00.240Z"
   },
   {
    "duration": 1337,
    "start_time": "2023-09-27T17:21:27.298Z"
   },
   {
    "duration": 13,
    "start_time": "2023-09-27T17:21:37.998Z"
   },
   {
    "duration": 14,
    "start_time": "2023-09-27T17:23:36.629Z"
   },
   {
    "duration": 15,
    "start_time": "2023-09-27T17:24:31.267Z"
   },
   {
    "duration": 15,
    "start_time": "2023-09-27T17:26:57.462Z"
   },
   {
    "duration": 110,
    "start_time": "2023-09-27T17:29:11.125Z"
   },
   {
    "duration": 1151,
    "start_time": "2023-09-27T17:29:48.287Z"
   },
   {
    "duration": 117,
    "start_time": "2023-09-27T17:29:58.705Z"
   },
   {
    "duration": 119,
    "start_time": "2023-09-27T17:30:54.786Z"
   },
   {
    "duration": 116,
    "start_time": "2023-09-27T17:31:57.165Z"
   },
   {
    "duration": 133,
    "start_time": "2023-09-27T17:33:01.467Z"
   },
   {
    "duration": 128,
    "start_time": "2023-09-27T17:33:20.656Z"
   },
   {
    "duration": 136,
    "start_time": "2023-09-27T17:33:52.127Z"
   },
   {
    "duration": 140,
    "start_time": "2023-09-27T17:34:04.501Z"
   },
   {
    "duration": 153,
    "start_time": "2023-09-27T17:34:25.702Z"
   },
   {
    "duration": 135,
    "start_time": "2023-09-27T17:34:34.170Z"
   },
   {
    "duration": 152,
    "start_time": "2023-09-27T17:38:27.726Z"
   },
   {
    "duration": 419,
    "start_time": "2023-09-27T17:38:43.786Z"
   },
   {
    "duration": 28,
    "start_time": "2023-09-27T17:38:44.207Z"
   },
   {
    "duration": 17,
    "start_time": "2023-09-27T17:38:44.237Z"
   },
   {
    "duration": 21,
    "start_time": "2023-09-27T17:38:44.256Z"
   },
   {
    "duration": 28,
    "start_time": "2023-09-27T17:38:44.279Z"
   },
   {
    "duration": 11,
    "start_time": "2023-09-27T17:38:44.309Z"
   },
   {
    "duration": 14,
    "start_time": "2023-09-27T17:38:44.321Z"
   },
   {
    "duration": 25,
    "start_time": "2023-09-27T17:38:44.337Z"
   },
   {
    "duration": 7,
    "start_time": "2023-09-27T17:38:44.363Z"
   },
   {
    "duration": 44,
    "start_time": "2023-09-27T17:38:44.373Z"
   },
   {
    "duration": 16,
    "start_time": "2023-09-27T17:38:44.419Z"
   },
   {
    "duration": 30,
    "start_time": "2023-09-27T17:38:44.437Z"
   },
   {
    "duration": 19,
    "start_time": "2023-09-27T17:38:44.469Z"
   },
   {
    "duration": 20,
    "start_time": "2023-09-27T17:38:44.489Z"
   },
   {
    "duration": 47,
    "start_time": "2023-09-27T17:38:44.511Z"
   },
   {
    "duration": 58,
    "start_time": "2023-09-27T17:38:44.560Z"
   },
   {
    "duration": 32,
    "start_time": "2023-09-27T17:38:44.620Z"
   },
   {
    "duration": 17,
    "start_time": "2023-09-27T17:38:44.654Z"
   },
   {
    "duration": 29,
    "start_time": "2023-09-27T17:38:44.673Z"
   },
   {
    "duration": 24,
    "start_time": "2023-09-27T17:38:44.703Z"
   },
   {
    "duration": 19,
    "start_time": "2023-09-27T17:38:44.729Z"
   },
   {
    "duration": 11,
    "start_time": "2023-09-27T17:38:44.750Z"
   },
   {
    "duration": 21,
    "start_time": "2023-09-27T17:38:44.763Z"
   },
   {
    "duration": 10,
    "start_time": "2023-09-27T17:38:44.786Z"
   },
   {
    "duration": 12,
    "start_time": "2023-09-27T17:38:44.798Z"
   },
   {
    "duration": 4,
    "start_time": "2023-09-27T17:38:44.812Z"
   },
   {
    "duration": 27,
    "start_time": "2023-09-27T17:38:44.818Z"
   },
   {
    "duration": 14,
    "start_time": "2023-09-27T17:38:44.847Z"
   },
   {
    "duration": 409,
    "start_time": "2023-09-27T17:38:44.862Z"
   },
   {
    "duration": 15,
    "start_time": "2023-09-27T17:38:45.273Z"
   },
   {
    "duration": 277,
    "start_time": "2023-09-27T17:38:45.290Z"
   },
   {
    "duration": 3,
    "start_time": "2023-09-27T17:39:05.940Z"
   },
   {
    "duration": 651,
    "start_time": "2023-09-27T17:39:11.600Z"
   },
   {
    "duration": 29,
    "start_time": "2023-09-27T17:39:12.253Z"
   },
   {
    "duration": 13,
    "start_time": "2023-09-27T17:39:12.283Z"
   },
   {
    "duration": 45,
    "start_time": "2023-09-27T17:39:12.298Z"
   },
   {
    "duration": 39,
    "start_time": "2023-09-27T17:39:12.345Z"
   },
   {
    "duration": 10,
    "start_time": "2023-09-27T17:39:12.386Z"
   },
   {
    "duration": 39,
    "start_time": "2023-09-27T17:39:12.397Z"
   },
   {
    "duration": 18,
    "start_time": "2023-09-27T17:39:12.437Z"
   },
   {
    "duration": 6,
    "start_time": "2023-09-27T17:39:12.457Z"
   },
   {
    "duration": 27,
    "start_time": "2023-09-27T17:39:12.465Z"
   },
   {
    "duration": 22,
    "start_time": "2023-09-27T17:39:12.493Z"
   },
   {
    "duration": 18,
    "start_time": "2023-09-27T17:39:12.516Z"
   },
   {
    "duration": 17,
    "start_time": "2023-09-27T17:39:12.536Z"
   },
   {
    "duration": 34,
    "start_time": "2023-09-27T17:39:12.555Z"
   },
   {
    "duration": 17,
    "start_time": "2023-09-27T17:39:12.591Z"
   },
   {
    "duration": 16,
    "start_time": "2023-09-27T17:39:12.610Z"
   },
   {
    "duration": 6,
    "start_time": "2023-09-27T17:39:12.627Z"
   },
   {
    "duration": 10,
    "start_time": "2023-09-27T17:39:12.634Z"
   },
   {
    "duration": 12,
    "start_time": "2023-09-27T17:39:12.645Z"
   },
   {
    "duration": 14,
    "start_time": "2023-09-27T17:39:12.658Z"
   },
   {
    "duration": 6,
    "start_time": "2023-09-27T17:39:12.673Z"
   },
   {
    "duration": 18,
    "start_time": "2023-09-27T17:39:12.680Z"
   },
   {
    "duration": 11,
    "start_time": "2023-09-27T17:39:12.700Z"
   },
   {
    "duration": 10,
    "start_time": "2023-09-27T17:39:12.712Z"
   },
   {
    "duration": 9,
    "start_time": "2023-09-27T17:39:12.723Z"
   },
   {
    "duration": 5,
    "start_time": "2023-09-27T17:39:12.734Z"
   },
   {
    "duration": 8,
    "start_time": "2023-09-27T17:39:12.740Z"
   },
   {
    "duration": 6,
    "start_time": "2023-09-27T17:39:12.750Z"
   },
   {
    "duration": 169,
    "start_time": "2023-09-27T17:39:12.757Z"
   },
   {
    "duration": 15,
    "start_time": "2023-09-27T17:39:12.928Z"
   },
   {
    "duration": 149,
    "start_time": "2023-09-27T17:39:12.945Z"
   },
   {
    "duration": 141,
    "start_time": "2023-09-27T17:44:18.497Z"
   },
   {
    "duration": 134,
    "start_time": "2023-09-27T17:45:42.107Z"
   },
   {
    "duration": 188,
    "start_time": "2023-09-27T17:46:59.707Z"
   },
   {
    "duration": 121,
    "start_time": "2023-09-27T17:47:43.944Z"
   },
   {
    "duration": 128,
    "start_time": "2023-09-27T17:51:20.700Z"
   },
   {
    "duration": 132,
    "start_time": "2023-09-27T17:51:52.564Z"
   },
   {
    "duration": 203,
    "start_time": "2023-09-27T17:52:14.429Z"
   },
   {
    "duration": 146,
    "start_time": "2023-09-27T17:52:23.850Z"
   },
   {
    "duration": 147,
    "start_time": "2023-09-27T17:52:34.629Z"
   },
   {
    "duration": 127,
    "start_time": "2023-09-27T17:52:51.632Z"
   },
   {
    "duration": 159,
    "start_time": "2023-09-27T17:52:59.082Z"
   },
   {
    "duration": 130,
    "start_time": "2023-09-27T17:55:10.928Z"
   },
   {
    "duration": 2,
    "start_time": "2023-09-27T17:58:22.706Z"
   },
   {
    "duration": 21,
    "start_time": "2023-09-27T17:59:04.763Z"
   },
   {
    "duration": 16,
    "start_time": "2023-09-27T17:59:22.191Z"
   },
   {
    "duration": 153,
    "start_time": "2023-09-27T18:01:43.164Z"
   },
   {
    "duration": 166,
    "start_time": "2023-09-27T18:03:59.144Z"
   },
   {
    "duration": 20,
    "start_time": "2023-09-27T18:04:02.305Z"
   },
   {
    "duration": 7,
    "start_time": "2023-09-27T18:04:05.428Z"
   },
   {
    "duration": 327,
    "start_time": "2023-09-27T18:04:18.345Z"
   },
   {
    "duration": 5,
    "start_time": "2023-09-27T18:04:43.276Z"
   },
   {
    "duration": 254,
    "start_time": "2023-09-27T18:04:49.124Z"
   },
   {
    "duration": 10,
    "start_time": "2023-09-27T18:05:50.527Z"
   },
   {
    "duration": 292,
    "start_time": "2023-09-27T18:05:55.566Z"
   },
   {
    "duration": 11,
    "start_time": "2023-09-27T18:07:34.781Z"
   },
   {
    "duration": 8,
    "start_time": "2023-09-27T18:07:44.912Z"
   },
   {
    "duration": 8,
    "start_time": "2023-09-27T18:09:18.113Z"
   },
   {
    "duration": 7,
    "start_time": "2023-09-27T18:09:28.940Z"
   },
   {
    "duration": 12,
    "start_time": "2023-09-27T18:09:44.565Z"
   },
   {
    "duration": 11,
    "start_time": "2023-09-27T18:09:54.680Z"
   },
   {
    "duration": 622,
    "start_time": "2023-09-27T18:10:13.767Z"
   },
   {
    "duration": 41,
    "start_time": "2023-09-27T18:10:14.391Z"
   },
   {
    "duration": 23,
    "start_time": "2023-09-27T18:10:14.434Z"
   },
   {
    "duration": 30,
    "start_time": "2023-09-27T18:10:14.459Z"
   },
   {
    "duration": 46,
    "start_time": "2023-09-27T18:10:14.491Z"
   },
   {
    "duration": 15,
    "start_time": "2023-09-27T18:10:14.539Z"
   },
   {
    "duration": 38,
    "start_time": "2023-09-27T18:10:14.556Z"
   },
   {
    "duration": 41,
    "start_time": "2023-09-27T18:10:14.596Z"
   },
   {
    "duration": 9,
    "start_time": "2023-09-27T18:10:14.638Z"
   },
   {
    "duration": 26,
    "start_time": "2023-09-27T18:10:14.650Z"
   },
   {
    "duration": 40,
    "start_time": "2023-09-27T18:10:14.677Z"
   },
   {
    "duration": 18,
    "start_time": "2023-09-27T18:10:14.723Z"
   },
   {
    "duration": 31,
    "start_time": "2023-09-27T18:10:14.742Z"
   },
   {
    "duration": 28,
    "start_time": "2023-09-27T18:10:14.775Z"
   },
   {
    "duration": 23,
    "start_time": "2023-09-27T18:10:14.804Z"
   },
   {
    "duration": 27,
    "start_time": "2023-09-27T18:10:14.829Z"
   },
   {
    "duration": 9,
    "start_time": "2023-09-27T18:10:14.857Z"
   },
   {
    "duration": 39,
    "start_time": "2023-09-27T18:10:14.868Z"
   },
   {
    "duration": 38,
    "start_time": "2023-09-27T18:10:14.909Z"
   },
   {
    "duration": 24,
    "start_time": "2023-09-27T18:10:14.949Z"
   },
   {
    "duration": 20,
    "start_time": "2023-09-27T18:10:14.975Z"
   },
   {
    "duration": 60,
    "start_time": "2023-09-27T18:10:14.997Z"
   },
   {
    "duration": 70,
    "start_time": "2023-09-27T18:10:15.059Z"
   },
   {
    "duration": 38,
    "start_time": "2023-09-27T18:10:15.131Z"
   },
   {
    "duration": 27,
    "start_time": "2023-09-27T18:10:15.171Z"
   },
   {
    "duration": 34,
    "start_time": "2023-09-27T18:10:15.200Z"
   },
   {
    "duration": 35,
    "start_time": "2023-09-27T18:10:15.235Z"
   },
   {
    "duration": 21,
    "start_time": "2023-09-27T18:10:15.273Z"
   },
   {
    "duration": 205,
    "start_time": "2023-09-27T18:10:15.296Z"
   },
   {
    "duration": 24,
    "start_time": "2023-09-27T18:10:15.503Z"
   },
   {
    "duration": 175,
    "start_time": "2023-09-27T18:10:15.529Z"
   },
   {
    "duration": 11,
    "start_time": "2023-09-27T18:10:15.706Z"
   },
   {
    "duration": 44,
    "start_time": "2023-09-27T18:10:15.719Z"
   },
   {
    "duration": 194,
    "start_time": "2023-09-27T18:10:15.765Z"
   },
   {
    "duration": 10,
    "start_time": "2023-09-27T18:11:03.771Z"
   },
   {
    "duration": 13,
    "start_time": "2023-09-27T18:11:15.524Z"
   },
   {
    "duration": 16,
    "start_time": "2023-09-27T18:11:27.647Z"
   },
   {
    "duration": 13,
    "start_time": "2023-09-27T18:12:01.435Z"
   },
   {
    "duration": 1355,
    "start_time": "2023-09-27T18:12:32.174Z"
   },
   {
    "duration": 17,
    "start_time": "2023-09-27T18:13:01.927Z"
   },
   {
    "duration": 12,
    "start_time": "2023-09-27T18:13:22.289Z"
   },
   {
    "duration": 102,
    "start_time": "2023-09-27T18:14:00.481Z"
   },
   {
    "duration": 1630,
    "start_time": "2023-09-27T18:14:07.901Z"
   },
   {
    "duration": 343,
    "start_time": "2023-09-27T18:15:40.998Z"
   },
   {
    "duration": 13,
    "start_time": "2023-09-27T18:16:02.245Z"
   },
   {
    "duration": 14,
    "start_time": "2023-09-27T18:16:17.908Z"
   },
   {
    "duration": 633,
    "start_time": "2023-09-27T18:16:32.360Z"
   },
   {
    "duration": 29,
    "start_time": "2023-09-27T18:16:32.995Z"
   },
   {
    "duration": 165,
    "start_time": "2023-09-27T18:16:33.026Z"
   },
   {
    "duration": 123,
    "start_time": "2023-09-27T18:16:33.193Z"
   },
   {
    "duration": 78,
    "start_time": "2023-09-27T18:16:33.318Z"
   },
   {
    "duration": 11,
    "start_time": "2023-09-27T18:16:33.398Z"
   },
   {
    "duration": 88,
    "start_time": "2023-09-27T18:16:33.410Z"
   },
   {
    "duration": 24,
    "start_time": "2023-09-27T18:16:33.499Z"
   },
   {
    "duration": 8,
    "start_time": "2023-09-27T18:16:33.524Z"
   },
   {
    "duration": 29,
    "start_time": "2023-09-27T18:16:33.534Z"
   },
   {
    "duration": 13,
    "start_time": "2023-09-27T18:16:33.564Z"
   },
   {
    "duration": 15,
    "start_time": "2023-09-27T18:16:33.578Z"
   },
   {
    "duration": 7,
    "start_time": "2023-09-27T18:16:33.594Z"
   },
   {
    "duration": 19,
    "start_time": "2023-09-27T18:16:33.604Z"
   },
   {
    "duration": 11,
    "start_time": "2023-09-27T18:16:33.625Z"
   },
   {
    "duration": 20,
    "start_time": "2023-09-27T18:16:33.638Z"
   },
   {
    "duration": 18,
    "start_time": "2023-09-27T18:16:33.660Z"
   },
   {
    "duration": 12,
    "start_time": "2023-09-27T18:16:33.680Z"
   },
   {
    "duration": 30,
    "start_time": "2023-09-27T18:16:33.693Z"
   },
   {
    "duration": 12,
    "start_time": "2023-09-27T18:16:33.724Z"
   },
   {
    "duration": 11,
    "start_time": "2023-09-27T18:16:33.738Z"
   },
   {
    "duration": 13,
    "start_time": "2023-09-27T18:16:33.750Z"
   },
   {
    "duration": 30,
    "start_time": "2023-09-27T18:16:33.765Z"
   },
   {
    "duration": 15,
    "start_time": "2023-09-27T18:16:33.797Z"
   },
   {
    "duration": 17,
    "start_time": "2023-09-27T18:16:33.814Z"
   },
   {
    "duration": 15,
    "start_time": "2023-09-27T18:16:33.833Z"
   },
   {
    "duration": 24,
    "start_time": "2023-09-27T18:16:33.849Z"
   },
   {
    "duration": 12,
    "start_time": "2023-09-27T18:16:33.876Z"
   },
   {
    "duration": 198,
    "start_time": "2023-09-27T18:16:33.889Z"
   },
   {
    "duration": 29,
    "start_time": "2023-09-27T18:16:34.090Z"
   },
   {
    "duration": 146,
    "start_time": "2023-09-27T18:16:34.121Z"
   },
   {
    "duration": 8,
    "start_time": "2023-09-27T18:16:34.269Z"
   },
   {
    "duration": 45,
    "start_time": "2023-09-27T18:16:34.278Z"
   },
   {
    "duration": 101,
    "start_time": "2023-09-27T18:16:34.324Z"
   },
   {
    "duration": 1336,
    "start_time": "2023-09-27T18:17:33.525Z"
   },
   {
    "duration": 8147,
    "start_time": "2023-09-27T18:18:14.794Z"
   },
   {
    "duration": 13,
    "start_time": "2023-09-27T18:18:42.111Z"
   },
   {
    "duration": 95,
    "start_time": "2023-09-27T18:18:59.129Z"
   },
   {
    "duration": 13,
    "start_time": "2023-09-27T18:19:14.145Z"
   },
   {
    "duration": 1385,
    "start_time": "2023-09-27T18:20:04.932Z"
   },
   {
    "duration": 16,
    "start_time": "2023-09-27T18:20:43.891Z"
   },
   {
    "duration": 326,
    "start_time": "2023-09-27T18:20:59.390Z"
   },
   {
    "duration": 411,
    "start_time": "2023-09-27T18:21:43.713Z"
   },
   {
    "duration": 17,
    "start_time": "2023-09-27T18:21:58.178Z"
   },
   {
    "duration": 12,
    "start_time": "2023-09-27T18:22:34.755Z"
   },
   {
    "duration": 15,
    "start_time": "2023-09-27T18:23:43.814Z"
   },
   {
    "duration": 8,
    "start_time": "2023-09-27T18:24:21.716Z"
   },
   {
    "duration": 338,
    "start_time": "2023-09-27T18:24:56.415Z"
   },
   {
    "duration": 18,
    "start_time": "2023-09-27T18:26:29.687Z"
   },
   {
    "duration": 12,
    "start_time": "2023-09-27T18:31:40.399Z"
   },
   {
    "duration": 563,
    "start_time": "2023-09-27T18:32:06.115Z"
   },
   {
    "duration": 752,
    "start_time": "2023-09-27T18:32:41.770Z"
   },
   {
    "duration": 14,
    "start_time": "2023-09-27T18:33:17.604Z"
   },
   {
    "duration": 15,
    "start_time": "2023-09-27T18:34:34.627Z"
   },
   {
    "duration": 13,
    "start_time": "2023-09-27T18:34:57.393Z"
   },
   {
    "duration": 15,
    "start_time": "2023-09-27T18:35:30.995Z"
   },
   {
    "duration": 12,
    "start_time": "2023-09-27T18:35:41.125Z"
   },
   {
    "duration": 13,
    "start_time": "2023-09-27T18:36:42.045Z"
   },
   {
    "duration": 12,
    "start_time": "2023-09-27T18:36:50.328Z"
   },
   {
    "duration": 16,
    "start_time": "2023-09-27T18:37:19.621Z"
   },
   {
    "duration": 312,
    "start_time": "2023-09-27T18:37:31.940Z"
   },
   {
    "duration": 309,
    "start_time": "2023-09-27T18:37:54.820Z"
   },
   {
    "duration": 14,
    "start_time": "2023-09-27T18:38:38.027Z"
   },
   {
    "duration": 278,
    "start_time": "2023-09-27T18:39:45.836Z"
   },
   {
    "duration": 365,
    "start_time": "2023-09-27T18:40:27.324Z"
   },
   {
    "duration": 13,
    "start_time": "2023-09-27T18:41:49.114Z"
   },
   {
    "duration": 12,
    "start_time": "2023-09-27T18:42:02.979Z"
   },
   {
    "duration": 1222,
    "start_time": "2023-09-27T18:42:07.751Z"
   },
   {
    "duration": 327,
    "start_time": "2023-09-27T18:42:33.759Z"
   },
   {
    "duration": 47,
    "start_time": "2023-09-28T04:28:23.651Z"
   },
   {
    "duration": 892,
    "start_time": "2023-09-28T04:28:41.460Z"
   },
   {
    "duration": 87,
    "start_time": "2023-09-28T04:28:42.354Z"
   },
   {
    "duration": 20,
    "start_time": "2023-09-28T04:28:42.443Z"
   },
   {
    "duration": 19,
    "start_time": "2023-09-28T04:28:42.466Z"
   },
   {
    "duration": 87,
    "start_time": "2023-09-28T04:28:42.487Z"
   },
   {
    "duration": 12,
    "start_time": "2023-09-28T04:28:42.576Z"
   },
   {
    "duration": 53,
    "start_time": "2023-09-28T04:28:42.590Z"
   },
   {
    "duration": 104,
    "start_time": "2023-09-28T04:28:42.645Z"
   },
   {
    "duration": 12,
    "start_time": "2023-09-28T04:28:42.751Z"
   },
   {
    "duration": 27,
    "start_time": "2023-09-28T04:28:42.767Z"
   },
   {
    "duration": 23,
    "start_time": "2023-09-28T04:28:42.797Z"
   },
   {
    "duration": 19,
    "start_time": "2023-09-28T04:28:42.822Z"
   },
   {
    "duration": 10,
    "start_time": "2023-09-28T04:28:42.842Z"
   },
   {
    "duration": 12,
    "start_time": "2023-09-28T04:28:42.853Z"
   },
   {
    "duration": 15,
    "start_time": "2023-09-28T04:28:42.867Z"
   },
   {
    "duration": 29,
    "start_time": "2023-09-28T04:28:42.884Z"
   },
   {
    "duration": 12,
    "start_time": "2023-09-28T04:28:42.915Z"
   },
   {
    "duration": 8,
    "start_time": "2023-09-28T04:28:42.928Z"
   },
   {
    "duration": 13,
    "start_time": "2023-09-28T04:28:42.938Z"
   },
   {
    "duration": 18,
    "start_time": "2023-09-28T04:28:42.953Z"
   },
   {
    "duration": 35,
    "start_time": "2023-09-28T04:28:42.973Z"
   },
   {
    "duration": 13,
    "start_time": "2023-09-28T04:28:43.014Z"
   },
   {
    "duration": 12,
    "start_time": "2023-09-28T04:28:43.028Z"
   },
   {
    "duration": 7,
    "start_time": "2023-09-28T04:28:43.042Z"
   },
   {
    "duration": 12,
    "start_time": "2023-09-28T04:28:43.051Z"
   },
   {
    "duration": 7,
    "start_time": "2023-09-28T04:28:43.065Z"
   },
   {
    "duration": 42,
    "start_time": "2023-09-28T04:28:43.074Z"
   },
   {
    "duration": 11,
    "start_time": "2023-09-28T04:28:43.124Z"
   },
   {
    "duration": 220,
    "start_time": "2023-09-28T04:28:43.137Z"
   },
   {
    "duration": 19,
    "start_time": "2023-09-28T04:28:43.359Z"
   },
   {
    "duration": 168,
    "start_time": "2023-09-28T04:28:43.379Z"
   },
   {
    "duration": 8,
    "start_time": "2023-09-28T04:28:43.549Z"
   },
   {
    "duration": 41,
    "start_time": "2023-09-28T04:28:43.559Z"
   },
   {
    "duration": 348,
    "start_time": "2023-09-28T04:28:43.611Z"
   },
   {
    "duration": 7,
    "start_time": "2023-09-28T04:28:43.960Z"
   },
   {
    "duration": 87,
    "start_time": "2023-09-28T04:34:19.543Z"
   },
   {
    "duration": 20,
    "start_time": "2023-09-28T04:35:07.993Z"
   },
   {
    "duration": 18,
    "start_time": "2023-09-28T04:35:35.693Z"
   },
   {
    "duration": 52,
    "start_time": "2023-09-28T09:23:08.392Z"
   },
   {
    "duration": 845,
    "start_time": "2023-09-28T09:23:26.942Z"
   },
   {
    "duration": 81,
    "start_time": "2023-09-28T09:23:27.790Z"
   },
   {
    "duration": 16,
    "start_time": "2023-09-28T09:23:27.873Z"
   },
   {
    "duration": 13,
    "start_time": "2023-09-28T09:23:27.891Z"
   },
   {
    "duration": 81,
    "start_time": "2023-09-28T09:23:27.906Z"
   },
   {
    "duration": 12,
    "start_time": "2023-09-28T09:23:27.989Z"
   },
   {
    "duration": 18,
    "start_time": "2023-09-28T09:23:28.002Z"
   },
   {
    "duration": 56,
    "start_time": "2023-09-28T09:23:28.022Z"
   },
   {
    "duration": 8,
    "start_time": "2023-09-28T09:23:28.079Z"
   },
   {
    "duration": 17,
    "start_time": "2023-09-28T09:23:28.091Z"
   },
   {
    "duration": 10,
    "start_time": "2023-09-28T09:23:28.110Z"
   },
   {
    "duration": 22,
    "start_time": "2023-09-28T09:23:28.122Z"
   },
   {
    "duration": 5,
    "start_time": "2023-09-28T09:23:28.145Z"
   },
   {
    "duration": 22,
    "start_time": "2023-09-28T09:23:28.152Z"
   },
   {
    "duration": 16,
    "start_time": "2023-09-28T09:23:28.176Z"
   },
   {
    "duration": 23,
    "start_time": "2023-09-28T09:23:28.194Z"
   },
   {
    "duration": 10,
    "start_time": "2023-09-28T09:23:28.219Z"
   },
   {
    "duration": 7,
    "start_time": "2023-09-28T09:23:28.231Z"
   },
   {
    "duration": 7,
    "start_time": "2023-09-28T09:23:28.240Z"
   },
   {
    "duration": 6,
    "start_time": "2023-09-28T09:23:28.249Z"
   },
   {
    "duration": 9,
    "start_time": "2023-09-28T09:23:28.257Z"
   },
   {
    "duration": 7,
    "start_time": "2023-09-28T09:23:28.267Z"
   },
   {
    "duration": 11,
    "start_time": "2023-09-28T09:23:28.309Z"
   },
   {
    "duration": 6,
    "start_time": "2023-09-28T09:23:28.322Z"
   },
   {
    "duration": 10,
    "start_time": "2023-09-28T09:23:28.330Z"
   },
   {
    "duration": 6,
    "start_time": "2023-09-28T09:23:28.342Z"
   },
   {
    "duration": 15,
    "start_time": "2023-09-28T09:23:28.350Z"
   },
   {
    "duration": 17,
    "start_time": "2023-09-28T09:23:28.368Z"
   },
   {
    "duration": 203,
    "start_time": "2023-09-28T09:23:28.387Z"
   },
   {
    "duration": 23,
    "start_time": "2023-09-28T09:23:28.594Z"
   },
   {
    "duration": 172,
    "start_time": "2023-09-28T09:23:28.620Z"
   },
   {
    "duration": 16,
    "start_time": "2023-09-28T09:23:28.794Z"
   },
   {
    "duration": 18,
    "start_time": "2023-09-28T09:23:28.812Z"
   },
   {
    "duration": 392,
    "start_time": "2023-09-28T09:23:28.831Z"
   },
   {
    "duration": 7,
    "start_time": "2023-09-28T09:23:29.225Z"
   },
   {
    "duration": 94,
    "start_time": "2023-09-28T09:23:29.234Z"
   },
   {
    "duration": 0,
    "start_time": "2023-09-28T09:23:29.329Z"
   },
   {
    "duration": 11,
    "start_time": "2023-09-28T09:27:55.451Z"
   },
   {
    "duration": 683,
    "start_time": "2023-09-28T09:28:13.311Z"
   },
   {
    "duration": 31,
    "start_time": "2023-09-28T09:28:13.996Z"
   },
   {
    "duration": 14,
    "start_time": "2023-09-28T09:28:14.028Z"
   },
   {
    "duration": 12,
    "start_time": "2023-09-28T09:28:14.044Z"
   },
   {
    "duration": 33,
    "start_time": "2023-09-28T09:28:14.058Z"
   },
   {
    "duration": 10,
    "start_time": "2023-09-28T09:28:14.093Z"
   },
   {
    "duration": 22,
    "start_time": "2023-09-28T09:28:14.105Z"
   },
   {
    "duration": 16,
    "start_time": "2023-09-28T09:28:14.129Z"
   },
   {
    "duration": 22,
    "start_time": "2023-09-28T09:28:14.147Z"
   },
   {
    "duration": 14,
    "start_time": "2023-09-28T09:28:14.172Z"
   },
   {
    "duration": 10,
    "start_time": "2023-09-28T09:28:14.189Z"
   },
   {
    "duration": 28,
    "start_time": "2023-09-28T09:28:14.200Z"
   },
   {
    "duration": 6,
    "start_time": "2023-09-28T09:28:14.230Z"
   },
   {
    "duration": 13,
    "start_time": "2023-09-28T09:28:14.237Z"
   },
   {
    "duration": 8,
    "start_time": "2023-09-28T09:28:14.252Z"
   },
   {
    "duration": 12,
    "start_time": "2023-09-28T09:28:14.262Z"
   },
   {
    "duration": 7,
    "start_time": "2023-09-28T09:28:14.276Z"
   },
   {
    "duration": 29,
    "start_time": "2023-09-28T09:28:14.284Z"
   },
   {
    "duration": 5,
    "start_time": "2023-09-28T09:28:14.315Z"
   },
   {
    "duration": 10,
    "start_time": "2023-09-28T09:28:14.321Z"
   },
   {
    "duration": 10,
    "start_time": "2023-09-28T09:28:14.333Z"
   },
   {
    "duration": 17,
    "start_time": "2023-09-28T09:28:14.345Z"
   },
   {
    "duration": 17,
    "start_time": "2023-09-28T09:28:14.364Z"
   },
   {
    "duration": 15,
    "start_time": "2023-09-28T09:28:14.383Z"
   },
   {
    "duration": 12,
    "start_time": "2023-09-28T09:28:14.400Z"
   },
   {
    "duration": 6,
    "start_time": "2023-09-28T09:28:14.413Z"
   },
   {
    "duration": 12,
    "start_time": "2023-09-28T09:28:14.420Z"
   },
   {
    "duration": 6,
    "start_time": "2023-09-28T09:28:14.435Z"
   },
   {
    "duration": 224,
    "start_time": "2023-09-28T09:28:14.442Z"
   },
   {
    "duration": 19,
    "start_time": "2023-09-28T09:28:14.668Z"
   },
   {
    "duration": 170,
    "start_time": "2023-09-28T09:28:14.689Z"
   },
   {
    "duration": 9,
    "start_time": "2023-09-28T09:28:14.861Z"
   },
   {
    "duration": 18,
    "start_time": "2023-09-28T09:28:14.872Z"
   },
   {
    "duration": 347,
    "start_time": "2023-09-28T09:28:14.892Z"
   },
   {
    "duration": 20,
    "start_time": "2023-09-28T09:28:15.241Z"
   },
   {
    "duration": 8,
    "start_time": "2023-09-28T09:28:15.263Z"
   },
   {
    "duration": 330,
    "start_time": "2023-09-28T09:28:15.273Z"
   },
   {
    "duration": 452,
    "start_time": "2023-09-28T09:29:36.240Z"
   },
   {
    "duration": 197,
    "start_time": "2023-09-28T09:30:28.204Z"
   },
   {
    "duration": 177,
    "start_time": "2023-09-28T09:30:38.566Z"
   },
   {
    "duration": 205,
    "start_time": "2023-09-28T09:30:45.885Z"
   },
   {
    "duration": 231,
    "start_time": "2023-09-28T09:31:08.690Z"
   },
   {
    "duration": 241,
    "start_time": "2023-09-28T09:33:55.845Z"
   },
   {
    "duration": 220,
    "start_time": "2023-09-28T09:34:03.483Z"
   },
   {
    "duration": 221,
    "start_time": "2023-09-28T09:34:41.884Z"
   },
   {
    "duration": 421,
    "start_time": "2023-09-28T09:35:22.141Z"
   },
   {
    "duration": 183,
    "start_time": "2023-09-28T09:35:30.674Z"
   },
   {
    "duration": 204,
    "start_time": "2023-09-28T09:35:40.477Z"
   },
   {
    "duration": 15,
    "start_time": "2023-09-28T09:45:42.731Z"
   },
   {
    "duration": 10,
    "start_time": "2023-09-28T09:47:15.420Z"
   },
   {
    "duration": 208,
    "start_time": "2023-09-28T09:47:38.385Z"
   },
   {
    "duration": 203,
    "start_time": "2023-09-28T09:48:03.496Z"
   },
   {
    "duration": 190,
    "start_time": "2023-09-28T09:48:23.072Z"
   },
   {
    "duration": 152,
    "start_time": "2023-09-28T09:48:31.580Z"
   },
   {
    "duration": 168,
    "start_time": "2023-09-28T09:49:17.822Z"
   },
   {
    "duration": 168,
    "start_time": "2023-09-28T09:49:41.495Z"
   },
   {
    "duration": 170,
    "start_time": "2023-09-28T09:50:19.967Z"
   },
   {
    "duration": 17,
    "start_time": "2023-09-28T10:23:42.278Z"
   },
   {
    "duration": 12,
    "start_time": "2023-09-28T10:23:56.222Z"
   },
   {
    "duration": 34,
    "start_time": "2023-09-28T10:24:14.094Z"
   },
   {
    "duration": 28,
    "start_time": "2023-09-28T10:27:39.057Z"
   },
   {
    "duration": 29,
    "start_time": "2023-09-28T10:27:53.161Z"
   },
   {
    "duration": 24,
    "start_time": "2023-09-28T10:28:19.855Z"
   },
   {
    "duration": 14,
    "start_time": "2023-09-28T10:34:46.037Z"
   },
   {
    "duration": 20,
    "start_time": "2023-09-28T10:35:08.527Z"
   },
   {
    "duration": 172,
    "start_time": "2023-09-28T10:35:47.056Z"
   },
   {
    "duration": 27,
    "start_time": "2023-09-28T11:44:12.900Z"
   },
   {
    "duration": 32,
    "start_time": "2023-09-28T11:44:26.850Z"
   },
   {
    "duration": 40,
    "start_time": "2023-09-28T12:01:54.887Z"
   },
   {
    "duration": 31,
    "start_time": "2023-09-28T12:02:22.038Z"
   },
   {
    "duration": 25,
    "start_time": "2023-09-28T12:04:58.824Z"
   },
   {
    "duration": 25,
    "start_time": "2023-09-28T12:05:12.050Z"
   },
   {
    "duration": 25,
    "start_time": "2023-09-28T12:07:13.327Z"
   },
   {
    "duration": 19,
    "start_time": "2023-09-28T12:07:24.953Z"
   },
   {
    "duration": 35,
    "start_time": "2023-09-28T12:07:58.409Z"
   },
   {
    "duration": 9,
    "start_time": "2023-09-28T12:12:07.344Z"
   },
   {
    "duration": 183,
    "start_time": "2023-09-28T12:12:24.753Z"
   },
   {
    "duration": 203,
    "start_time": "2023-09-28T12:12:41.000Z"
   },
   {
    "duration": 180,
    "start_time": "2023-09-28T12:13:32.931Z"
   },
   {
    "duration": 293,
    "start_time": "2023-09-28T12:13:40.694Z"
   },
   {
    "duration": 177,
    "start_time": "2023-09-28T12:13:50.873Z"
   },
   {
    "duration": 184,
    "start_time": "2023-09-28T12:14:58.601Z"
   },
   {
    "duration": 10,
    "start_time": "2023-09-28T12:17:52.164Z"
   },
   {
    "duration": 212,
    "start_time": "2023-09-28T12:18:15.232Z"
   },
   {
    "duration": 155,
    "start_time": "2023-09-28T12:18:22.169Z"
   },
   {
    "duration": 182,
    "start_time": "2023-09-28T12:18:39.383Z"
   },
   {
    "duration": 173,
    "start_time": "2023-09-28T12:18:45.757Z"
   },
   {
    "duration": 173,
    "start_time": "2023-09-28T12:18:54.969Z"
   },
   {
    "duration": 298,
    "start_time": "2023-09-28T12:19:05.003Z"
   },
   {
    "duration": 172,
    "start_time": "2023-09-28T12:19:20.596Z"
   },
   {
    "duration": 199,
    "start_time": "2023-09-28T12:19:34.152Z"
   },
   {
    "duration": 159,
    "start_time": "2023-09-28T12:21:38.362Z"
   },
   {
    "duration": 10,
    "start_time": "2023-09-28T12:21:46.343Z"
   },
   {
    "duration": 172,
    "start_time": "2023-09-28T12:21:55.924Z"
   },
   {
    "duration": 12,
    "start_time": "2023-09-28T12:23:28.544Z"
   },
   {
    "duration": 218,
    "start_time": "2023-09-28T12:23:34.866Z"
   },
   {
    "duration": 154,
    "start_time": "2023-09-28T12:23:46.152Z"
   },
   {
    "duration": 238,
    "start_time": "2023-09-28T12:24:02.307Z"
   },
   {
    "duration": 3,
    "start_time": "2023-09-28T13:08:18.057Z"
   },
   {
    "duration": 7,
    "start_time": "2023-09-28T13:10:49.776Z"
   },
   {
    "duration": 18,
    "start_time": "2023-09-28T13:12:34.628Z"
   },
   {
    "duration": 18,
    "start_time": "2023-09-28T13:15:00.256Z"
   },
   {
    "duration": 17,
    "start_time": "2023-09-28T13:16:16.754Z"
   },
   {
    "duration": 24,
    "start_time": "2023-09-28T13:17:34.698Z"
   },
   {
    "duration": 55,
    "start_time": "2023-09-28T13:17:46.952Z"
   },
   {
    "duration": 836,
    "start_time": "2023-09-28T13:21:49.730Z"
   },
   {
    "duration": 32,
    "start_time": "2023-09-28T13:21:50.568Z"
   },
   {
    "duration": 197,
    "start_time": "2023-09-28T13:21:50.602Z"
   },
   {
    "duration": 44,
    "start_time": "2023-09-28T13:21:50.802Z"
   },
   {
    "duration": 79,
    "start_time": "2023-09-28T13:21:50.848Z"
   },
   {
    "duration": 11,
    "start_time": "2023-09-28T13:21:50.930Z"
   },
   {
    "duration": 31,
    "start_time": "2023-09-28T13:21:50.944Z"
   },
   {
    "duration": 24,
    "start_time": "2023-09-28T13:21:50.978Z"
   },
   {
    "duration": 23,
    "start_time": "2023-09-28T13:21:51.004Z"
   },
   {
    "duration": 35,
    "start_time": "2023-09-28T13:21:51.030Z"
   },
   {
    "duration": 34,
    "start_time": "2023-09-28T13:21:51.067Z"
   },
   {
    "duration": 54,
    "start_time": "2023-09-28T13:21:51.103Z"
   },
   {
    "duration": 47,
    "start_time": "2023-09-28T13:21:51.159Z"
   },
   {
    "duration": 29,
    "start_time": "2023-09-28T13:21:51.209Z"
   },
   {
    "duration": 21,
    "start_time": "2023-09-28T13:21:51.241Z"
   },
   {
    "duration": 26,
    "start_time": "2023-09-28T13:21:51.264Z"
   },
   {
    "duration": 37,
    "start_time": "2023-09-28T13:21:51.292Z"
   },
   {
    "duration": 17,
    "start_time": "2023-09-28T13:21:51.331Z"
   },
   {
    "duration": 38,
    "start_time": "2023-09-28T13:21:51.349Z"
   },
   {
    "duration": 35,
    "start_time": "2023-09-28T13:21:51.389Z"
   },
   {
    "duration": 25,
    "start_time": "2023-09-28T13:21:51.426Z"
   },
   {
    "duration": 69,
    "start_time": "2023-09-28T13:21:51.453Z"
   },
   {
    "duration": 64,
    "start_time": "2023-09-28T13:21:51.525Z"
   },
   {
    "duration": 33,
    "start_time": "2023-09-28T13:21:51.591Z"
   },
   {
    "duration": 31,
    "start_time": "2023-09-28T13:21:51.626Z"
   },
   {
    "duration": 6,
    "start_time": "2023-09-28T13:21:51.659Z"
   },
   {
    "duration": 106,
    "start_time": "2023-09-28T13:21:51.667Z"
   },
   {
    "duration": 46,
    "start_time": "2023-09-28T13:21:51.776Z"
   },
   {
    "duration": 221,
    "start_time": "2023-09-28T13:21:51.824Z"
   },
   {
    "duration": 20,
    "start_time": "2023-09-28T13:21:52.047Z"
   },
   {
    "duration": 179,
    "start_time": "2023-09-28T13:21:52.069Z"
   },
   {
    "duration": 8,
    "start_time": "2023-09-28T13:21:52.251Z"
   },
   {
    "duration": 21,
    "start_time": "2023-09-28T13:21:52.261Z"
   },
   {
    "duration": 451,
    "start_time": "2023-09-28T13:21:52.284Z"
   },
   {
    "duration": 16,
    "start_time": "2023-09-28T13:21:52.738Z"
   },
   {
    "duration": 52,
    "start_time": "2023-09-28T13:21:52.756Z"
   },
   {
    "duration": 319,
    "start_time": "2023-09-28T13:21:52.810Z"
   },
   {
    "duration": 12,
    "start_time": "2023-09-28T13:21:53.131Z"
   },
   {
    "duration": 80,
    "start_time": "2023-09-28T13:21:53.145Z"
   },
   {
    "duration": 200,
    "start_time": "2023-09-28T13:21:53.227Z"
   },
   {
    "duration": 32,
    "start_time": "2023-09-28T13:21:53.431Z"
   },
   {
    "duration": 23,
    "start_time": "2023-09-28T13:21:53.465Z"
   },
   {
    "duration": 61,
    "start_time": "2023-09-28T13:21:53.490Z"
   },
   {
    "duration": 10,
    "start_time": "2023-09-28T13:21:53.553Z"
   },
   {
    "duration": 212,
    "start_time": "2023-09-28T13:21:53.565Z"
   },
   {
    "duration": 10,
    "start_time": "2023-09-28T13:21:53.779Z"
   },
   {
    "duration": 210,
    "start_time": "2023-09-28T13:21:53.791Z"
   },
   {
    "duration": 25,
    "start_time": "2023-09-28T13:21:54.003Z"
   },
   {
    "duration": 219,
    "start_time": "2023-09-28T13:21:54.030Z"
   },
   {
    "duration": 11,
    "start_time": "2023-09-28T13:21:54.251Z"
   },
   {
    "duration": 189,
    "start_time": "2023-09-28T13:21:54.264Z"
   },
   {
    "duration": 71,
    "start_time": "2023-09-28T13:21:54.455Z"
   },
   {
    "duration": 88,
    "start_time": "2023-09-28T13:24:37.086Z"
   },
   {
    "duration": 18,
    "start_time": "2023-09-28T13:24:47.791Z"
   },
   {
    "duration": 65,
    "start_time": "2023-09-28T13:25:19.481Z"
   },
   {
    "duration": 749,
    "start_time": "2023-09-28T13:28:09.955Z"
   },
   {
    "duration": 31,
    "start_time": "2023-09-28T13:28:10.705Z"
   },
   {
    "duration": 4,
    "start_time": "2023-09-28T13:28:10.738Z"
   },
   {
    "duration": 15,
    "start_time": "2023-09-28T13:28:10.744Z"
   },
   {
    "duration": 17,
    "start_time": "2023-09-28T13:28:10.761Z"
   },
   {
    "duration": 39,
    "start_time": "2023-09-28T13:28:10.780Z"
   },
   {
    "duration": 12,
    "start_time": "2023-09-28T13:28:10.821Z"
   },
   {
    "duration": 13,
    "start_time": "2023-09-28T13:28:10.835Z"
   },
   {
    "duration": 17,
    "start_time": "2023-09-28T13:28:10.849Z"
   },
   {
    "duration": 7,
    "start_time": "2023-09-28T13:28:10.869Z"
   },
   {
    "duration": 24,
    "start_time": "2023-09-28T13:28:10.878Z"
   },
   {
    "duration": 23,
    "start_time": "2023-09-28T13:28:10.903Z"
   },
   {
    "duration": 22,
    "start_time": "2023-09-28T13:28:10.927Z"
   },
   {
    "duration": 6,
    "start_time": "2023-09-28T13:28:10.951Z"
   },
   {
    "duration": 10,
    "start_time": "2023-09-28T13:28:10.959Z"
   },
   {
    "duration": 29,
    "start_time": "2023-09-28T13:28:10.971Z"
   },
   {
    "duration": 22,
    "start_time": "2023-09-28T13:28:11.002Z"
   },
   {
    "duration": 21,
    "start_time": "2023-09-28T13:28:11.026Z"
   },
   {
    "duration": 13,
    "start_time": "2023-09-28T13:28:11.049Z"
   },
   {
    "duration": 10,
    "start_time": "2023-09-28T13:28:11.064Z"
   },
   {
    "duration": 8,
    "start_time": "2023-09-28T13:28:11.076Z"
   },
   {
    "duration": 7,
    "start_time": "2023-09-28T13:28:11.086Z"
   },
   {
    "duration": 7,
    "start_time": "2023-09-28T13:28:11.094Z"
   },
   {
    "duration": 19,
    "start_time": "2023-09-28T13:28:11.103Z"
   },
   {
    "duration": 11,
    "start_time": "2023-09-28T13:28:11.125Z"
   },
   {
    "duration": 21,
    "start_time": "2023-09-28T13:28:11.137Z"
   },
   {
    "duration": 6,
    "start_time": "2023-09-28T13:28:11.159Z"
   },
   {
    "duration": 21,
    "start_time": "2023-09-28T13:28:11.168Z"
   },
   {
    "duration": 6,
    "start_time": "2023-09-28T13:28:11.191Z"
   },
   {
    "duration": 207,
    "start_time": "2023-09-28T13:28:11.199Z"
   },
   {
    "duration": 31,
    "start_time": "2023-09-28T13:28:11.408Z"
   },
   {
    "duration": 171,
    "start_time": "2023-09-28T13:28:11.440Z"
   },
   {
    "duration": 10,
    "start_time": "2023-09-28T13:28:11.620Z"
   },
   {
    "duration": 16,
    "start_time": "2023-09-28T13:28:11.632Z"
   },
   {
    "duration": 350,
    "start_time": "2023-09-28T13:28:11.650Z"
   },
   {
    "duration": 24,
    "start_time": "2023-09-28T13:28:12.002Z"
   },
   {
    "duration": 19,
    "start_time": "2023-09-28T13:28:12.028Z"
   },
   {
    "duration": 271,
    "start_time": "2023-09-28T13:28:12.049Z"
   },
   {
    "duration": 13,
    "start_time": "2023-09-28T13:28:12.323Z"
   },
   {
    "duration": 10,
    "start_time": "2023-09-28T13:28:12.338Z"
   },
   {
    "duration": 228,
    "start_time": "2023-09-28T13:28:12.350Z"
   },
   {
    "duration": 55,
    "start_time": "2023-09-28T13:28:12.581Z"
   },
   {
    "duration": 31,
    "start_time": "2023-09-28T13:28:12.638Z"
   },
   {
    "duration": 50,
    "start_time": "2023-09-28T13:28:12.671Z"
   },
   {
    "duration": 12,
    "start_time": "2023-09-28T13:28:12.723Z"
   },
   {
    "duration": 211,
    "start_time": "2023-09-28T13:28:12.738Z"
   },
   {
    "duration": 9,
    "start_time": "2023-09-28T13:28:12.950Z"
   },
   {
    "duration": 195,
    "start_time": "2023-09-28T13:28:12.961Z"
   },
   {
    "duration": 13,
    "start_time": "2023-09-28T13:28:13.158Z"
   },
   {
    "duration": 200,
    "start_time": "2023-09-28T13:28:13.173Z"
   },
   {
    "duration": 10,
    "start_time": "2023-09-28T13:28:13.375Z"
   },
   {
    "duration": 174,
    "start_time": "2023-09-28T13:28:13.387Z"
   },
   {
    "duration": 66,
    "start_time": "2023-09-28T13:28:13.564Z"
   },
   {
    "duration": 89,
    "start_time": "2023-09-28T13:34:20.491Z"
   },
   {
    "duration": 249,
    "start_time": "2023-09-28T13:34:43.855Z"
   },
   {
    "duration": 66,
    "start_time": "2023-09-28T14:25:06.952Z"
   },
   {
    "duration": 304,
    "start_time": "2023-09-28T14:25:25.359Z"
   },
   {
    "duration": 76,
    "start_time": "2023-09-28T14:26:57.481Z"
   },
   {
    "duration": 22,
    "start_time": "2023-09-28T14:36:25.069Z"
   },
   {
    "duration": 34,
    "start_time": "2023-09-28T14:38:24.345Z"
   },
   {
    "duration": 38,
    "start_time": "2023-09-28T14:42:06.658Z"
   },
   {
    "duration": 58,
    "start_time": "2023-09-28T14:42:26.190Z"
   },
   {
    "duration": 61,
    "start_time": "2023-09-28T14:50:49.479Z"
   },
   {
    "duration": 54,
    "start_time": "2023-09-28T14:53:40.650Z"
   },
   {
    "duration": 69,
    "start_time": "2023-09-28T14:54:25.007Z"
   },
   {
    "duration": 48,
    "start_time": "2023-09-28T14:56:02.949Z"
   },
   {
    "duration": 54,
    "start_time": "2023-09-28T15:14:32.120Z"
   },
   {
    "duration": 5,
    "start_time": "2023-09-28T15:16:23.560Z"
   },
   {
    "duration": 77,
    "start_time": "2023-09-28T15:16:47.689Z"
   },
   {
    "duration": 62,
    "start_time": "2023-09-28T15:17:32.705Z"
   },
   {
    "duration": 122,
    "start_time": "2023-09-28T15:39:06.448Z"
   },
   {
    "duration": 12,
    "start_time": "2023-09-28T15:39:17.211Z"
   },
   {
    "duration": 22,
    "start_time": "2023-09-28T15:39:28.191Z"
   },
   {
    "duration": 25,
    "start_time": "2023-09-28T15:40:43.024Z"
   },
   {
    "duration": 22,
    "start_time": "2023-09-28T15:40:56.259Z"
   },
   {
    "duration": 21,
    "start_time": "2023-09-28T15:41:18.201Z"
   },
   {
    "duration": 28,
    "start_time": "2023-09-28T15:45:47.632Z"
   },
   {
    "duration": 24,
    "start_time": "2023-09-28T15:47:06.959Z"
   },
   {
    "duration": 25,
    "start_time": "2023-09-28T15:47:25.404Z"
   },
   {
    "duration": 89,
    "start_time": "2023-09-28T15:47:39.781Z"
   },
   {
    "duration": 25,
    "start_time": "2023-09-28T15:47:51.401Z"
   },
   {
    "duration": 31,
    "start_time": "2023-09-28T15:51:50.659Z"
   },
   {
    "duration": 30,
    "start_time": "2023-09-28T15:53:42.916Z"
   },
   {
    "duration": 84,
    "start_time": "2023-09-28T15:56:09.006Z"
   },
   {
    "duration": 370,
    "start_time": "2023-09-28T15:56:46.454Z"
   },
   {
    "duration": 30,
    "start_time": "2023-09-28T15:57:01.958Z"
   },
   {
    "duration": 29,
    "start_time": "2023-09-28T15:57:55.708Z"
   },
   {
    "duration": 700,
    "start_time": "2023-09-28T15:59:47.848Z"
   },
   {
    "duration": 39,
    "start_time": "2023-09-28T15:59:48.550Z"
   },
   {
    "duration": 4,
    "start_time": "2023-09-28T15:59:48.591Z"
   },
   {
    "duration": 23,
    "start_time": "2023-09-28T15:59:48.597Z"
   },
   {
    "duration": 28,
    "start_time": "2023-09-28T15:59:48.623Z"
   },
   {
    "duration": 45,
    "start_time": "2023-09-28T15:59:48.653Z"
   },
   {
    "duration": 12,
    "start_time": "2023-09-28T15:59:48.700Z"
   },
   {
    "duration": 17,
    "start_time": "2023-09-28T15:59:48.714Z"
   },
   {
    "duration": 16,
    "start_time": "2023-09-28T15:59:48.733Z"
   },
   {
    "duration": 8,
    "start_time": "2023-09-28T15:59:48.752Z"
   },
   {
    "duration": 17,
    "start_time": "2023-09-28T15:59:48.762Z"
   },
   {
    "duration": 13,
    "start_time": "2023-09-28T15:59:48.781Z"
   },
   {
    "duration": 21,
    "start_time": "2023-09-28T15:59:48.796Z"
   },
   {
    "duration": 11,
    "start_time": "2023-09-28T15:59:48.819Z"
   },
   {
    "duration": 19,
    "start_time": "2023-09-28T15:59:48.832Z"
   },
   {
    "duration": 23,
    "start_time": "2023-09-28T15:59:48.852Z"
   },
   {
    "duration": 11,
    "start_time": "2023-09-28T15:59:48.876Z"
   },
   {
    "duration": 14,
    "start_time": "2023-09-28T15:59:48.888Z"
   },
   {
    "duration": 11,
    "start_time": "2023-09-28T15:59:48.909Z"
   },
   {
    "duration": 37,
    "start_time": "2023-09-28T15:59:48.921Z"
   },
   {
    "duration": 12,
    "start_time": "2023-09-28T15:59:48.960Z"
   },
   {
    "duration": 15,
    "start_time": "2023-09-28T15:59:48.974Z"
   },
   {
    "duration": 17,
    "start_time": "2023-09-28T15:59:48.991Z"
   },
   {
    "duration": 24,
    "start_time": "2023-09-28T15:59:49.009Z"
   },
   {
    "duration": 14,
    "start_time": "2023-09-28T15:59:49.035Z"
   },
   {
    "duration": 17,
    "start_time": "2023-09-28T15:59:49.051Z"
   },
   {
    "duration": 14,
    "start_time": "2023-09-28T15:59:49.071Z"
   },
   {
    "duration": 13,
    "start_time": "2023-09-28T15:59:49.090Z"
   },
   {
    "duration": 10,
    "start_time": "2023-09-28T15:59:49.105Z"
   },
   {
    "duration": 212,
    "start_time": "2023-09-28T15:59:49.117Z"
   },
   {
    "duration": 19,
    "start_time": "2023-09-28T15:59:49.331Z"
   },
   {
    "duration": 168,
    "start_time": "2023-09-28T15:59:49.352Z"
   },
   {
    "duration": 9,
    "start_time": "2023-09-28T15:59:49.521Z"
   },
   {
    "duration": 40,
    "start_time": "2023-09-28T15:59:49.532Z"
   },
   {
    "duration": 328,
    "start_time": "2023-09-28T15:59:49.574Z"
   },
   {
    "duration": 15,
    "start_time": "2023-09-28T15:59:49.903Z"
   },
   {
    "duration": 9,
    "start_time": "2023-09-28T15:59:49.919Z"
   },
   {
    "duration": 270,
    "start_time": "2023-09-28T15:59:49.930Z"
   },
   {
    "duration": 17,
    "start_time": "2023-09-28T15:59:50.202Z"
   },
   {
    "duration": 54,
    "start_time": "2023-09-28T15:59:50.221Z"
   },
   {
    "duration": 173,
    "start_time": "2023-09-28T15:59:50.277Z"
   },
   {
    "duration": 41,
    "start_time": "2023-09-28T15:59:50.452Z"
   },
   {
    "duration": 29,
    "start_time": "2023-09-28T15:59:50.508Z"
   },
   {
    "duration": 36,
    "start_time": "2023-09-28T15:59:50.539Z"
   },
   {
    "duration": 45,
    "start_time": "2023-09-28T15:59:50.577Z"
   },
   {
    "duration": 217,
    "start_time": "2023-09-28T15:59:50.624Z"
   },
   {
    "duration": 11,
    "start_time": "2023-09-28T15:59:50.844Z"
   },
   {
    "duration": 205,
    "start_time": "2023-09-28T15:59:50.857Z"
   },
   {
    "duration": 9,
    "start_time": "2023-09-28T15:59:51.064Z"
   },
   {
    "duration": 188,
    "start_time": "2023-09-28T15:59:51.075Z"
   },
   {
    "duration": 9,
    "start_time": "2023-09-28T15:59:51.266Z"
   },
   {
    "duration": 179,
    "start_time": "2023-09-28T15:59:51.277Z"
   },
   {
    "duration": 31,
    "start_time": "2023-09-28T15:59:51.458Z"
   },
   {
    "duration": 28,
    "start_time": "2023-09-28T15:59:51.491Z"
   },
   {
    "duration": 94,
    "start_time": "2023-09-28T16:26:56.218Z"
   },
   {
    "duration": 133,
    "start_time": "2023-09-28T16:27:13.529Z"
   },
   {
    "duration": 76,
    "start_time": "2023-09-28T16:27:42.781Z"
   },
   {
    "duration": 146,
    "start_time": "2023-09-28T16:28:33.351Z"
   },
   {
    "duration": 163,
    "start_time": "2023-09-28T16:28:59.718Z"
   },
   {
    "duration": 186,
    "start_time": "2023-09-28T16:29:35.056Z"
   },
   {
    "duration": 161,
    "start_time": "2023-09-28T16:29:50.161Z"
   },
   {
    "duration": 173,
    "start_time": "2023-09-28T16:30:11.382Z"
   },
   {
    "duration": 170,
    "start_time": "2023-09-28T16:30:27.303Z"
   },
   {
    "duration": 157,
    "start_time": "2023-09-28T16:30:57.163Z"
   },
   {
    "duration": 3,
    "start_time": "2023-09-29T04:01:35.471Z"
   },
   {
    "duration": 1837,
    "start_time": "2023-09-29T04:09:08.702Z"
   },
   {
    "duration": 76,
    "start_time": "2023-09-29T04:09:10.541Z"
   },
   {
    "duration": 3,
    "start_time": "2023-09-29T04:09:10.619Z"
   },
   {
    "duration": 25,
    "start_time": "2023-09-29T04:09:10.624Z"
   },
   {
    "duration": 25,
    "start_time": "2023-09-29T04:09:10.651Z"
   },
   {
    "duration": 74,
    "start_time": "2023-09-29T04:09:10.679Z"
   },
   {
    "duration": 11,
    "start_time": "2023-09-29T04:09:10.755Z"
   },
   {
    "duration": 27,
    "start_time": "2023-09-29T04:09:10.768Z"
   },
   {
    "duration": 65,
    "start_time": "2023-09-29T04:09:10.797Z"
   },
   {
    "duration": 9,
    "start_time": "2023-09-29T04:09:10.865Z"
   },
   {
    "duration": 22,
    "start_time": "2023-09-29T04:09:10.875Z"
   },
   {
    "duration": 29,
    "start_time": "2023-09-29T04:09:10.898Z"
   },
   {
    "duration": 23,
    "start_time": "2023-09-29T04:09:10.928Z"
   },
   {
    "duration": 24,
    "start_time": "2023-09-29T04:09:10.955Z"
   },
   {
    "duration": 48,
    "start_time": "2023-09-29T04:09:10.981Z"
   },
   {
    "duration": 18,
    "start_time": "2023-09-29T04:09:11.031Z"
   },
   {
    "duration": 21,
    "start_time": "2023-09-29T04:09:11.050Z"
   },
   {
    "duration": 29,
    "start_time": "2023-09-29T04:09:11.072Z"
   },
   {
    "duration": 45,
    "start_time": "2023-09-29T04:09:11.103Z"
   },
   {
    "duration": 22,
    "start_time": "2023-09-29T04:09:11.150Z"
   },
   {
    "duration": 16,
    "start_time": "2023-09-29T04:09:11.174Z"
   },
   {
    "duration": 31,
    "start_time": "2023-09-29T04:09:11.191Z"
   },
   {
    "duration": 15,
    "start_time": "2023-09-29T04:09:11.224Z"
   },
   {
    "duration": 38,
    "start_time": "2023-09-29T04:09:11.241Z"
   },
   {
    "duration": 19,
    "start_time": "2023-09-29T04:09:11.281Z"
   },
   {
    "duration": 43,
    "start_time": "2023-09-29T04:09:11.302Z"
   },
   {
    "duration": 26,
    "start_time": "2023-09-29T04:09:11.347Z"
   },
   {
    "duration": 27,
    "start_time": "2023-09-29T04:09:11.377Z"
   },
   {
    "duration": 42,
    "start_time": "2023-09-29T04:09:11.405Z"
   },
   {
    "duration": 208,
    "start_time": "2023-09-29T04:09:11.449Z"
   },
   {
    "duration": 21,
    "start_time": "2023-09-29T04:09:11.658Z"
   },
   {
    "duration": 180,
    "start_time": "2023-09-29T04:09:11.681Z"
   },
   {
    "duration": 8,
    "start_time": "2023-09-29T04:09:11.863Z"
   },
   {
    "duration": 59,
    "start_time": "2023-09-29T04:09:11.872Z"
   },
   {
    "duration": 338,
    "start_time": "2023-09-29T04:09:11.933Z"
   },
   {
    "duration": 12,
    "start_time": "2023-09-29T04:09:12.273Z"
   },
   {
    "duration": 57,
    "start_time": "2023-09-29T04:09:12.287Z"
   },
   {
    "duration": 210,
    "start_time": "2023-09-29T04:09:12.346Z"
   },
   {
    "duration": 11,
    "start_time": "2023-09-29T04:09:12.558Z"
   },
   {
    "duration": 54,
    "start_time": "2023-09-29T04:09:12.571Z"
   },
   {
    "duration": 170,
    "start_time": "2023-09-29T04:09:12.627Z"
   },
   {
    "duration": 30,
    "start_time": "2023-09-29T04:09:12.799Z"
   },
   {
    "duration": 27,
    "start_time": "2023-09-29T04:09:12.830Z"
   },
   {
    "duration": 24,
    "start_time": "2023-09-29T04:09:12.858Z"
   },
   {
    "duration": 9,
    "start_time": "2023-09-29T04:09:12.884Z"
   },
   {
    "duration": 188,
    "start_time": "2023-09-29T04:09:12.895Z"
   },
   {
    "duration": 8,
    "start_time": "2023-09-29T04:09:13.085Z"
   },
   {
    "duration": 198,
    "start_time": "2023-09-29T04:09:13.095Z"
   },
   {
    "duration": 8,
    "start_time": "2023-09-29T04:09:13.295Z"
   },
   {
    "duration": 204,
    "start_time": "2023-09-29T04:09:13.305Z"
   },
   {
    "duration": 8,
    "start_time": "2023-09-29T04:09:13.511Z"
   },
   {
    "duration": 323,
    "start_time": "2023-09-29T04:09:13.547Z"
   },
   {
    "duration": 29,
    "start_time": "2023-09-29T04:09:13.872Z"
   },
   {
    "duration": 203,
    "start_time": "2023-09-29T04:09:13.903Z"
   },
   {
    "duration": 5,
    "start_time": "2023-09-29T04:52:14.656Z"
   },
   {
    "duration": 6,
    "start_time": "2023-09-29T04:54:41.710Z"
   },
   {
    "duration": 6,
    "start_time": "2023-09-29T04:56:42.821Z"
   },
   {
    "duration": 5,
    "start_time": "2023-09-29T05:12:06.955Z"
   },
   {
    "duration": 5,
    "start_time": "2023-09-29T05:12:28.991Z"
   },
   {
    "duration": 7,
    "start_time": "2023-09-29T05:13:25.229Z"
   },
   {
    "duration": 128,
    "start_time": "2023-09-29T06:22:52.448Z"
   },
   {
    "duration": 23,
    "start_time": "2023-09-29T06:23:08.461Z"
   },
   {
    "duration": 24,
    "start_time": "2023-09-29T06:24:12.057Z"
   },
   {
    "duration": 31,
    "start_time": "2023-09-29T06:26:33.391Z"
   },
   {
    "duration": 33,
    "start_time": "2023-09-29T06:26:43.099Z"
   },
   {
    "duration": 41,
    "start_time": "2023-09-29T06:27:28.450Z"
   },
   {
    "duration": 952,
    "start_time": "2023-09-29T06:35:28.826Z"
   },
   {
    "duration": 372,
    "start_time": "2023-09-29T06:35:51.665Z"
   },
   {
    "duration": 435,
    "start_time": "2023-09-29T06:36:22.298Z"
   },
   {
    "duration": 40,
    "start_time": "2023-09-29T06:36:46.697Z"
   },
   {
    "duration": 47,
    "start_time": "2023-09-29T06:37:08.326Z"
   },
   {
    "duration": 38,
    "start_time": "2023-09-29T06:37:14.013Z"
   },
   {
    "duration": 33,
    "start_time": "2023-09-29T06:38:52.427Z"
   },
   {
    "duration": 38,
    "start_time": "2023-09-29T06:39:23.772Z"
   },
   {
    "duration": 55,
    "start_time": "2023-09-29T06:39:49.920Z"
   },
   {
    "duration": 1013,
    "start_time": "2023-09-29T06:40:49.921Z"
   },
   {
    "duration": 44,
    "start_time": "2023-09-29T06:41:12.060Z"
   },
   {
    "duration": 32,
    "start_time": "2023-09-29T06:42:17.699Z"
   },
   {
    "duration": 14,
    "start_time": "2023-09-29T06:42:33.354Z"
   },
   {
    "duration": 50,
    "start_time": "2023-09-29T06:42:54.374Z"
   },
   {
    "duration": 22,
    "start_time": "2023-09-29T06:43:01.287Z"
   },
   {
    "duration": 20,
    "start_time": "2023-09-29T06:43:22.566Z"
   },
   {
    "duration": 23,
    "start_time": "2023-09-29T06:43:30.755Z"
   },
   {
    "duration": 22,
    "start_time": "2023-09-29T07:04:48.799Z"
   },
   {
    "duration": 23,
    "start_time": "2023-09-29T07:06:15.954Z"
   },
   {
    "duration": 7,
    "start_time": "2023-09-29T07:18:39.029Z"
   },
   {
    "duration": 6,
    "start_time": "2023-09-29T07:35:03.472Z"
   },
   {
    "duration": 5,
    "start_time": "2023-09-29T07:35:12.949Z"
   },
   {
    "duration": 7,
    "start_time": "2023-09-29T07:35:20.889Z"
   },
   {
    "duration": 6,
    "start_time": "2023-09-29T07:40:52.970Z"
   },
   {
    "duration": 6,
    "start_time": "2023-09-29T07:42:59.590Z"
   },
   {
    "duration": 7,
    "start_time": "2023-09-29T07:43:44.083Z"
   },
   {
    "duration": 7,
    "start_time": "2023-09-29T07:44:12.063Z"
   },
   {
    "duration": 13,
    "start_time": "2023-09-29T07:44:31.612Z"
   },
   {
    "duration": 6,
    "start_time": "2023-09-29T07:44:46.836Z"
   },
   {
    "duration": 5,
    "start_time": "2023-09-29T07:44:50.436Z"
   },
   {
    "duration": 1246,
    "start_time": "2023-09-29T08:03:03.736Z"
   },
   {
    "duration": 29,
    "start_time": "2023-09-29T08:03:04.984Z"
   },
   {
    "duration": 4,
    "start_time": "2023-09-29T08:03:05.015Z"
   },
   {
    "duration": 39,
    "start_time": "2023-09-29T08:03:05.022Z"
   },
   {
    "duration": 24,
    "start_time": "2023-09-29T08:03:05.064Z"
   },
   {
    "duration": 40,
    "start_time": "2023-09-29T08:03:05.090Z"
   },
   {
    "duration": 12,
    "start_time": "2023-09-29T08:03:05.131Z"
   },
   {
    "duration": 22,
    "start_time": "2023-09-29T08:03:05.145Z"
   },
   {
    "duration": 17,
    "start_time": "2023-09-29T08:03:05.170Z"
   },
   {
    "duration": 10,
    "start_time": "2023-09-29T08:03:05.190Z"
   },
   {
    "duration": 21,
    "start_time": "2023-09-29T08:03:05.202Z"
   },
   {
    "duration": 34,
    "start_time": "2023-09-29T08:03:05.225Z"
   },
   {
    "duration": 32,
    "start_time": "2023-09-29T08:03:05.262Z"
   },
   {
    "duration": 10,
    "start_time": "2023-09-29T08:03:05.296Z"
   },
   {
    "duration": 18,
    "start_time": "2023-09-29T08:03:05.310Z"
   },
   {
    "duration": 24,
    "start_time": "2023-09-29T08:03:05.330Z"
   },
   {
    "duration": 19,
    "start_time": "2023-09-29T08:03:05.356Z"
   },
   {
    "duration": 25,
    "start_time": "2023-09-29T08:03:05.377Z"
   },
   {
    "duration": 24,
    "start_time": "2023-09-29T08:03:05.404Z"
   },
   {
    "duration": 14,
    "start_time": "2023-09-29T08:03:05.430Z"
   },
   {
    "duration": 15,
    "start_time": "2023-09-29T08:03:05.447Z"
   },
   {
    "duration": 17,
    "start_time": "2023-09-29T08:03:05.464Z"
   },
   {
    "duration": 17,
    "start_time": "2023-09-29T08:03:05.482Z"
   },
   {
    "duration": 19,
    "start_time": "2023-09-29T08:03:05.501Z"
   },
   {
    "duration": 22,
    "start_time": "2023-09-29T08:03:05.523Z"
   },
   {
    "duration": 31,
    "start_time": "2023-09-29T08:03:05.547Z"
   },
   {
    "duration": 9,
    "start_time": "2023-09-29T08:03:05.580Z"
   },
   {
    "duration": 13,
    "start_time": "2023-09-29T08:03:05.597Z"
   },
   {
    "duration": 18,
    "start_time": "2023-09-29T08:03:05.612Z"
   },
   {
    "duration": 243,
    "start_time": "2023-09-29T08:03:05.633Z"
   },
   {
    "duration": 19,
    "start_time": "2023-09-29T08:03:05.878Z"
   },
   {
    "duration": 262,
    "start_time": "2023-09-29T08:03:05.899Z"
   },
   {
    "duration": 10,
    "start_time": "2023-09-29T08:03:06.162Z"
   },
   {
    "duration": 50,
    "start_time": "2023-09-29T08:03:06.173Z"
   },
   {
    "duration": 355,
    "start_time": "2023-09-29T08:03:06.225Z"
   },
   {
    "duration": 11,
    "start_time": "2023-09-29T08:03:06.582Z"
   },
   {
    "duration": 26,
    "start_time": "2023-09-29T08:03:06.595Z"
   },
   {
    "duration": 225,
    "start_time": "2023-09-29T08:03:06.623Z"
   },
   {
    "duration": 13,
    "start_time": "2023-09-29T08:03:06.850Z"
   },
   {
    "duration": 28,
    "start_time": "2023-09-29T08:03:06.865Z"
   },
   {
    "duration": 202,
    "start_time": "2023-09-29T08:03:06.895Z"
   },
   {
    "duration": 35,
    "start_time": "2023-09-29T08:03:07.100Z"
   },
   {
    "duration": 31,
    "start_time": "2023-09-29T08:03:07.146Z"
   },
   {
    "duration": 37,
    "start_time": "2023-09-29T08:03:07.179Z"
   },
   {
    "duration": 37,
    "start_time": "2023-09-29T08:03:07.218Z"
   },
   {
    "duration": 211,
    "start_time": "2023-09-29T08:03:07.257Z"
   },
   {
    "duration": 10,
    "start_time": "2023-09-29T08:03:07.469Z"
   },
   {
    "duration": 209,
    "start_time": "2023-09-29T08:03:07.480Z"
   },
   {
    "duration": 11,
    "start_time": "2023-09-29T08:03:07.690Z"
   },
   {
    "duration": 201,
    "start_time": "2023-09-29T08:03:07.702Z"
   },
   {
    "duration": 10,
    "start_time": "2023-09-29T08:03:07.904Z"
   },
   {
    "duration": 278,
    "start_time": "2023-09-29T08:03:07.917Z"
   },
   {
    "duration": 33,
    "start_time": "2023-09-29T08:03:08.197Z"
   },
   {
    "duration": 187,
    "start_time": "2023-09-29T08:03:08.232Z"
   },
   {
    "duration": 5,
    "start_time": "2023-09-29T08:03:08.421Z"
   },
   {
    "duration": 20,
    "start_time": "2023-09-29T08:03:08.428Z"
   },
   {
    "duration": 20,
    "start_time": "2023-09-29T08:03:08.450Z"
   },
   {
    "duration": 15,
    "start_time": "2023-09-29T08:03:08.472Z"
   },
   {
    "duration": 60,
    "start_time": "2023-09-29T08:03:08.489Z"
   },
   {
    "duration": 78,
    "start_time": "2023-09-29T08:03:08.552Z"
   },
   {
    "duration": 27,
    "start_time": "2023-09-29T08:03:08.632Z"
   },
   {
    "duration": 33,
    "start_time": "2023-09-29T08:03:08.661Z"
   },
   {
    "duration": 41,
    "start_time": "2023-09-29T08:03:08.695Z"
   },
   {
    "duration": 29,
    "start_time": "2023-09-29T08:03:08.737Z"
   },
   {
    "duration": 1077,
    "start_time": "2023-09-29T08:35:58.106Z"
   },
   {
    "duration": 28,
    "start_time": "2023-09-29T08:35:59.185Z"
   },
   {
    "duration": 3,
    "start_time": "2023-09-29T08:35:59.214Z"
   },
   {
    "duration": 25,
    "start_time": "2023-09-29T08:35:59.218Z"
   },
   {
    "duration": 18,
    "start_time": "2023-09-29T08:35:59.245Z"
   },
   {
    "duration": 31,
    "start_time": "2023-09-29T08:35:59.264Z"
   },
   {
    "duration": 9,
    "start_time": "2023-09-29T08:35:59.297Z"
   },
   {
    "duration": 17,
    "start_time": "2023-09-29T08:35:59.307Z"
   },
   {
    "duration": 15,
    "start_time": "2023-09-29T08:35:59.326Z"
   },
   {
    "duration": 6,
    "start_time": "2023-09-29T08:35:59.342Z"
   },
   {
    "duration": 21,
    "start_time": "2023-09-29T08:35:59.349Z"
   },
   {
    "duration": 12,
    "start_time": "2023-09-29T08:35:59.372Z"
   },
   {
    "duration": 18,
    "start_time": "2023-09-29T08:35:59.386Z"
   },
   {
    "duration": 4,
    "start_time": "2023-09-29T08:35:59.407Z"
   },
   {
    "duration": 16,
    "start_time": "2023-09-29T08:35:59.413Z"
   },
   {
    "duration": 6,
    "start_time": "2023-09-29T08:35:59.431Z"
   },
   {
    "duration": 10,
    "start_time": "2023-09-29T08:35:59.438Z"
   },
   {
    "duration": 18,
    "start_time": "2023-09-29T08:35:59.449Z"
   },
   {
    "duration": 13,
    "start_time": "2023-09-29T08:35:59.468Z"
   },
   {
    "duration": 11,
    "start_time": "2023-09-29T08:35:59.482Z"
   },
   {
    "duration": 7,
    "start_time": "2023-09-29T08:35:59.494Z"
   },
   {
    "duration": 5,
    "start_time": "2023-09-29T08:35:59.502Z"
   },
   {
    "duration": 8,
    "start_time": "2023-09-29T08:35:59.509Z"
   },
   {
    "duration": 16,
    "start_time": "2023-09-29T08:35:59.518Z"
   },
   {
    "duration": 5,
    "start_time": "2023-09-29T08:35:59.536Z"
   },
   {
    "duration": 10,
    "start_time": "2023-09-29T08:35:59.543Z"
   },
   {
    "duration": 4,
    "start_time": "2023-09-29T08:35:59.554Z"
   },
   {
    "duration": 9,
    "start_time": "2023-09-29T08:35:59.560Z"
   },
   {
    "duration": 8,
    "start_time": "2023-09-29T08:35:59.570Z"
   },
   {
    "duration": 167,
    "start_time": "2023-09-29T08:35:59.579Z"
   },
   {
    "duration": 15,
    "start_time": "2023-09-29T08:35:59.748Z"
   },
   {
    "duration": 133,
    "start_time": "2023-09-29T08:35:59.764Z"
   },
   {
    "duration": 8,
    "start_time": "2023-09-29T08:35:59.899Z"
   },
   {
    "duration": 25,
    "start_time": "2023-09-29T08:35:59.908Z"
   },
   {
    "duration": 280,
    "start_time": "2023-09-29T08:35:59.934Z"
   },
   {
    "duration": 10,
    "start_time": "2023-09-29T08:36:00.216Z"
   },
   {
    "duration": 49,
    "start_time": "2023-09-29T08:36:00.227Z"
   },
   {
    "duration": 237,
    "start_time": "2023-09-29T08:36:00.278Z"
   },
   {
    "duration": 9,
    "start_time": "2023-09-29T08:36:00.517Z"
   },
   {
    "duration": 123,
    "start_time": "2023-09-29T08:36:00.528Z"
   },
   {
    "duration": 180,
    "start_time": "2023-09-29T08:36:00.654Z"
   },
   {
    "duration": 32,
    "start_time": "2023-09-29T08:36:00.836Z"
   },
   {
    "duration": 82,
    "start_time": "2023-09-29T08:36:00.869Z"
   },
   {
    "duration": 69,
    "start_time": "2023-09-29T08:36:00.952Z"
   },
   {
    "duration": 21,
    "start_time": "2023-09-29T08:36:01.023Z"
   },
   {
    "duration": 182,
    "start_time": "2023-09-29T08:36:01.046Z"
   },
   {
    "duration": 8,
    "start_time": "2023-09-29T08:36:01.230Z"
   },
   {
    "duration": 157,
    "start_time": "2023-09-29T08:36:01.245Z"
   },
   {
    "duration": 8,
    "start_time": "2023-09-29T08:36:01.403Z"
   },
   {
    "duration": 203,
    "start_time": "2023-09-29T08:36:01.412Z"
   },
   {
    "duration": 7,
    "start_time": "2023-09-29T08:36:01.617Z"
   },
   {
    "duration": 324,
    "start_time": "2023-09-29T08:36:01.626Z"
   },
   {
    "duration": 24,
    "start_time": "2023-09-29T08:36:01.952Z"
   },
   {
    "duration": 146,
    "start_time": "2023-09-29T08:36:01.978Z"
   },
   {
    "duration": 5,
    "start_time": "2023-09-29T08:36:02.125Z"
   },
   {
    "duration": 13,
    "start_time": "2023-09-29T08:36:02.145Z"
   },
   {
    "duration": 11,
    "start_time": "2023-09-29T08:36:02.160Z"
   },
   {
    "duration": 44,
    "start_time": "2023-09-29T08:36:02.174Z"
   },
   {
    "duration": 46,
    "start_time": "2023-09-29T08:36:02.220Z"
   },
   {
    "duration": 36,
    "start_time": "2023-09-29T08:36:02.268Z"
   },
   {
    "duration": 22,
    "start_time": "2023-09-29T08:36:02.305Z"
   },
   {
    "duration": 27,
    "start_time": "2023-09-29T08:36:02.329Z"
   },
   {
    "duration": 6,
    "start_time": "2023-09-29T08:36:02.357Z"
   },
   {
    "duration": 37,
    "start_time": "2023-09-29T08:36:02.365Z"
   },
   {
    "duration": 18,
    "start_time": "2023-09-29T08:37:48.911Z"
   },
   {
    "duration": 1160,
    "start_time": "2023-09-29T10:42:20.853Z"
   },
   {
    "duration": 29,
    "start_time": "2023-09-29T10:42:22.015Z"
   },
   {
    "duration": 2,
    "start_time": "2023-09-29T10:42:22.046Z"
   },
   {
    "duration": 35,
    "start_time": "2023-09-29T10:42:22.050Z"
   },
   {
    "duration": 16,
    "start_time": "2023-09-29T10:42:22.086Z"
   },
   {
    "duration": 49,
    "start_time": "2023-09-29T10:42:22.103Z"
   },
   {
    "duration": 9,
    "start_time": "2023-09-29T10:42:22.154Z"
   },
   {
    "duration": 16,
    "start_time": "2023-09-29T10:42:22.165Z"
   },
   {
    "duration": 40,
    "start_time": "2023-09-29T10:42:22.182Z"
   },
   {
    "duration": 18,
    "start_time": "2023-09-29T10:42:22.225Z"
   },
   {
    "duration": 50,
    "start_time": "2023-09-29T10:42:22.245Z"
   },
   {
    "duration": 55,
    "start_time": "2023-09-29T10:42:22.297Z"
   },
   {
    "duration": 37,
    "start_time": "2023-09-29T10:42:22.354Z"
   },
   {
    "duration": 24,
    "start_time": "2023-09-29T10:42:22.392Z"
   },
   {
    "duration": 12,
    "start_time": "2023-09-29T10:42:22.418Z"
   },
   {
    "duration": 15,
    "start_time": "2023-09-29T10:42:22.432Z"
   },
   {
    "duration": 48,
    "start_time": "2023-09-29T10:42:22.449Z"
   },
   {
    "duration": 15,
    "start_time": "2023-09-29T10:42:22.499Z"
   },
   {
    "duration": 16,
    "start_time": "2023-09-29T10:42:22.515Z"
   },
   {
    "duration": 42,
    "start_time": "2023-09-29T10:42:22.532Z"
   },
   {
    "duration": 29,
    "start_time": "2023-09-29T10:42:22.576Z"
   },
   {
    "duration": 14,
    "start_time": "2023-09-29T10:42:22.607Z"
   },
   {
    "duration": 17,
    "start_time": "2023-09-29T10:42:22.623Z"
   },
   {
    "duration": 21,
    "start_time": "2023-09-29T10:42:22.641Z"
   },
   {
    "duration": 30,
    "start_time": "2023-09-29T10:42:22.664Z"
   },
   {
    "duration": 35,
    "start_time": "2023-09-29T10:42:22.696Z"
   },
   {
    "duration": 14,
    "start_time": "2023-09-29T10:42:22.733Z"
   },
   {
    "duration": 9,
    "start_time": "2023-09-29T10:42:22.751Z"
   },
   {
    "duration": 10,
    "start_time": "2023-09-29T10:42:22.761Z"
   },
   {
    "duration": 201,
    "start_time": "2023-09-29T10:42:22.773Z"
   },
   {
    "duration": 16,
    "start_time": "2023-09-29T10:42:22.975Z"
   },
   {
    "duration": 167,
    "start_time": "2023-09-29T10:42:22.993Z"
   },
   {
    "duration": 7,
    "start_time": "2023-09-29T10:42:23.162Z"
   },
   {
    "duration": 65,
    "start_time": "2023-09-29T10:42:23.171Z"
   },
   {
    "duration": 283,
    "start_time": "2023-09-29T10:42:23.239Z"
   },
   {
    "duration": 10,
    "start_time": "2023-09-29T10:42:23.523Z"
   },
   {
    "duration": 8,
    "start_time": "2023-09-29T10:42:23.545Z"
   },
   {
    "duration": 176,
    "start_time": "2023-09-29T10:42:23.554Z"
   },
   {
    "duration": 20,
    "start_time": "2023-09-29T10:42:23.732Z"
   },
   {
    "duration": 22,
    "start_time": "2023-09-29T10:42:23.754Z"
   },
   {
    "duration": 193,
    "start_time": "2023-09-29T10:42:23.777Z"
   },
   {
    "duration": 27,
    "start_time": "2023-09-29T10:42:23.972Z"
   },
   {
    "duration": 24,
    "start_time": "2023-09-29T10:42:24.001Z"
   },
   {
    "duration": 47,
    "start_time": "2023-09-29T10:42:24.027Z"
   },
   {
    "duration": 11,
    "start_time": "2023-09-29T10:42:24.076Z"
   },
   {
    "duration": 250,
    "start_time": "2023-09-29T10:42:24.088Z"
   },
   {
    "duration": 13,
    "start_time": "2023-09-29T10:42:24.339Z"
   },
   {
    "duration": 207,
    "start_time": "2023-09-29T10:42:24.354Z"
   },
   {
    "duration": 8,
    "start_time": "2023-09-29T10:42:24.563Z"
   },
   {
    "duration": 162,
    "start_time": "2023-09-29T10:42:24.572Z"
   },
   {
    "duration": 15,
    "start_time": "2023-09-29T10:42:24.736Z"
   },
   {
    "duration": 216,
    "start_time": "2023-09-29T10:42:24.752Z"
   },
   {
    "duration": 28,
    "start_time": "2023-09-29T10:42:24.970Z"
   },
   {
    "duration": 170,
    "start_time": "2023-09-29T10:42:24.999Z"
   },
   {
    "duration": 5,
    "start_time": "2023-09-29T10:42:25.170Z"
   },
   {
    "duration": 24,
    "start_time": "2023-09-29T10:42:25.176Z"
   },
   {
    "duration": 13,
    "start_time": "2023-09-29T10:42:25.202Z"
   },
   {
    "duration": 9,
    "start_time": "2023-09-29T10:42:25.217Z"
   },
   {
    "duration": 42,
    "start_time": "2023-09-29T10:42:25.228Z"
   },
   {
    "duration": 46,
    "start_time": "2023-09-29T10:42:25.272Z"
   },
   {
    "duration": 19,
    "start_time": "2023-09-29T10:42:25.319Z"
   },
   {
    "duration": 4,
    "start_time": "2023-09-29T10:42:25.339Z"
   },
   {
    "duration": 18,
    "start_time": "2023-09-29T10:42:25.345Z"
   },
   {
    "duration": 22,
    "start_time": "2023-09-29T10:42:25.365Z"
   },
   {
    "duration": 1942,
    "start_time": "2023-09-29T16:57:23.685Z"
   },
   {
    "duration": 114,
    "start_time": "2023-09-29T16:57:25.629Z"
   },
   {
    "duration": 4,
    "start_time": "2023-09-29T16:57:25.744Z"
   },
   {
    "duration": 46,
    "start_time": "2023-09-29T16:57:25.750Z"
   },
   {
    "duration": 27,
    "start_time": "2023-09-29T16:57:25.798Z"
   },
   {
    "duration": 154,
    "start_time": "2023-09-29T16:57:25.827Z"
   },
   {
    "duration": 16,
    "start_time": "2023-09-29T16:57:25.983Z"
   },
   {
    "duration": 13,
    "start_time": "2023-09-29T16:57:26.001Z"
   },
   {
    "duration": 130,
    "start_time": "2023-09-29T16:57:26.016Z"
   },
   {
    "duration": 36,
    "start_time": "2023-09-29T16:57:26.148Z"
   },
   {
    "duration": 13,
    "start_time": "2023-09-29T16:57:26.187Z"
   },
   {
    "duration": 16,
    "start_time": "2023-09-29T16:57:26.201Z"
   },
   {
    "duration": 76,
    "start_time": "2023-09-29T16:57:26.219Z"
   },
   {
    "duration": 6,
    "start_time": "2023-09-29T16:57:26.301Z"
   },
   {
    "duration": 73,
    "start_time": "2023-09-29T16:57:26.310Z"
   },
   {
    "duration": 13,
    "start_time": "2023-09-29T16:57:26.385Z"
   },
   {
    "duration": 10,
    "start_time": "2023-09-29T16:57:26.401Z"
   },
   {
    "duration": 69,
    "start_time": "2023-09-29T16:57:26.413Z"
   },
   {
    "duration": 25,
    "start_time": "2023-09-29T16:57:26.484Z"
   },
   {
    "duration": 17,
    "start_time": "2023-09-29T16:57:26.512Z"
   },
   {
    "duration": 52,
    "start_time": "2023-09-29T16:57:26.531Z"
   },
   {
    "duration": 38,
    "start_time": "2023-09-29T16:57:26.586Z"
   },
   {
    "duration": 17,
    "start_time": "2023-09-29T16:57:26.626Z"
   },
   {
    "duration": 7,
    "start_time": "2023-09-29T16:57:26.684Z"
   },
   {
    "duration": 13,
    "start_time": "2023-09-29T16:57:26.694Z"
   },
   {
    "duration": 22,
    "start_time": "2023-09-29T16:57:26.710Z"
   },
   {
    "duration": 51,
    "start_time": "2023-09-29T16:57:26.734Z"
   },
   {
    "duration": 34,
    "start_time": "2023-09-29T16:57:26.787Z"
   },
   {
    "duration": 9,
    "start_time": "2023-09-29T16:57:26.823Z"
   },
   {
    "duration": 357,
    "start_time": "2023-09-29T16:57:26.834Z"
   },
   {
    "duration": 21,
    "start_time": "2023-09-29T16:57:27.193Z"
   },
   {
    "duration": 376,
    "start_time": "2023-09-29T16:57:27.217Z"
   },
   {
    "duration": 9,
    "start_time": "2023-09-29T16:57:27.594Z"
   },
   {
    "duration": 91,
    "start_time": "2023-09-29T16:57:27.604Z"
   },
   {
    "duration": 707,
    "start_time": "2023-09-29T16:57:27.697Z"
   },
   {
    "duration": 12,
    "start_time": "2023-09-29T16:57:28.406Z"
   },
   {
    "duration": 70,
    "start_time": "2023-09-29T16:57:28.420Z"
   },
   {
    "duration": 409,
    "start_time": "2023-09-29T16:57:28.491Z"
   },
   {
    "duration": 11,
    "start_time": "2023-09-29T16:57:28.902Z"
   },
   {
    "duration": 71,
    "start_time": "2023-09-29T16:57:28.915Z"
   },
   {
    "duration": 392,
    "start_time": "2023-09-29T16:57:28.991Z"
   },
   {
    "duration": 108,
    "start_time": "2023-09-29T16:57:29.386Z"
   },
   {
    "duration": 88,
    "start_time": "2023-09-29T16:57:29.496Z"
   },
   {
    "duration": 26,
    "start_time": "2023-09-29T16:57:29.585Z"
   },
   {
    "duration": 71,
    "start_time": "2023-09-29T16:57:29.613Z"
   },
   {
    "duration": 398,
    "start_time": "2023-09-29T16:57:29.686Z"
   },
   {
    "duration": 10,
    "start_time": "2023-09-29T16:57:30.086Z"
   },
   {
    "duration": 408,
    "start_time": "2023-09-29T16:57:30.098Z"
   },
   {
    "duration": 8,
    "start_time": "2023-09-29T16:57:30.508Z"
   },
   {
    "duration": 621,
    "start_time": "2023-09-29T16:57:30.582Z"
   },
   {
    "duration": 9,
    "start_time": "2023-09-29T16:57:31.205Z"
   },
   {
    "duration": 501,
    "start_time": "2023-09-29T16:57:31.216Z"
   },
   {
    "duration": 84,
    "start_time": "2023-09-29T16:57:31.719Z"
   },
   {
    "duration": 311,
    "start_time": "2023-09-29T16:57:31.804Z"
   },
   {
    "duration": 5,
    "start_time": "2023-09-29T16:57:32.116Z"
   },
   {
    "duration": 60,
    "start_time": "2023-09-29T16:57:32.122Z"
   },
   {
    "duration": 7,
    "start_time": "2023-09-29T16:57:32.184Z"
   },
   {
    "duration": 21,
    "start_time": "2023-09-29T16:57:32.193Z"
   },
   {
    "duration": 66,
    "start_time": "2023-09-29T16:57:32.216Z"
   },
   {
    "duration": 207,
    "start_time": "2023-09-29T16:57:32.284Z"
   },
   {
    "duration": 113,
    "start_time": "2023-09-29T16:57:32.493Z"
   },
   {
    "duration": 259,
    "start_time": "2023-09-29T16:57:32.608Z"
   },
   {
    "duration": 91,
    "start_time": "2023-09-29T16:57:32.869Z"
   },
   {
    "duration": 28,
    "start_time": "2023-09-29T16:57:32.962Z"
   },
   {
    "duration": 22,
    "start_time": "2023-09-29T17:33:09.297Z"
   },
   {
    "duration": 21,
    "start_time": "2023-09-29T17:33:19.886Z"
   },
   {
    "duration": 107,
    "start_time": "2023-09-29T17:34:32.052Z"
   },
   {
    "duration": 13,
    "start_time": "2023-09-29T17:34:41.939Z"
   },
   {
    "duration": 19,
    "start_time": "2023-09-29T17:35:17.254Z"
   },
   {
    "duration": 15,
    "start_time": "2023-09-29T17:35:21.786Z"
   },
   {
    "duration": 12,
    "start_time": "2023-09-29T17:35:40.420Z"
   },
   {
    "duration": 20,
    "start_time": "2023-09-29T17:35:47.152Z"
   },
   {
    "duration": 15,
    "start_time": "2023-09-29T17:35:53.603Z"
   },
   {
    "duration": 18,
    "start_time": "2023-09-29T17:35:57.899Z"
   },
   {
    "duration": 7,
    "start_time": "2023-09-29T17:37:05.624Z"
   },
   {
    "duration": 6,
    "start_time": "2023-09-29T17:37:28.553Z"
   },
   {
    "duration": 11,
    "start_time": "2023-09-29T17:38:57.888Z"
   },
   {
    "duration": 6,
    "start_time": "2023-09-29T17:39:05.165Z"
   },
   {
    "duration": 6,
    "start_time": "2023-09-29T17:39:12.038Z"
   },
   {
    "duration": 6,
    "start_time": "2023-09-29T17:39:19.515Z"
   },
   {
    "duration": 162,
    "start_time": "2023-09-29T17:56:45.177Z"
   },
   {
    "duration": 1370,
    "start_time": "2023-09-29T17:56:49.357Z"
   },
   {
    "duration": 7,
    "start_time": "2023-09-29T17:57:00.463Z"
   },
   {
    "duration": 54,
    "start_time": "2023-09-30T05:12:53.829Z"
   },
   {
    "duration": 1396,
    "start_time": "2023-09-30T05:12:59.330Z"
   },
   {
    "duration": 76,
    "start_time": "2023-09-30T05:13:00.728Z"
   },
   {
    "duration": 47,
    "start_time": "2023-09-30T05:13:00.806Z"
   },
   {
    "duration": 67,
    "start_time": "2023-09-30T05:13:00.855Z"
   },
   {
    "duration": 95,
    "start_time": "2023-09-30T05:13:00.924Z"
   },
   {
    "duration": 377,
    "start_time": "2023-09-30T05:13:01.021Z"
   },
   {
    "duration": 11,
    "start_time": "2023-09-30T05:13:01.400Z"
   },
   {
    "duration": 70,
    "start_time": "2023-09-30T05:13:01.412Z"
   },
   {
    "duration": 165,
    "start_time": "2023-09-30T05:13:01.484Z"
   },
   {
    "duration": 19,
    "start_time": "2023-09-30T05:13:01.652Z"
   },
   {
    "duration": 72,
    "start_time": "2023-09-30T05:13:01.673Z"
   },
   {
    "duration": 55,
    "start_time": "2023-09-30T05:13:01.747Z"
   },
   {
    "duration": 40,
    "start_time": "2023-09-30T05:13:01.804Z"
   },
   {
    "duration": 38,
    "start_time": "2023-09-30T05:13:01.847Z"
   },
   {
    "duration": 67,
    "start_time": "2023-09-30T05:13:01.887Z"
   },
   {
    "duration": 32,
    "start_time": "2023-09-30T05:13:01.955Z"
   },
   {
    "duration": 89,
    "start_time": "2023-09-30T05:13:01.989Z"
   },
   {
    "duration": 198,
    "start_time": "2023-09-30T05:13:02.080Z"
   },
   {
    "duration": 65,
    "start_time": "2023-09-30T05:13:02.280Z"
   },
   {
    "duration": 78,
    "start_time": "2023-09-30T05:13:02.347Z"
   },
   {
    "duration": 423,
    "start_time": "2023-09-30T05:13:02.427Z"
   },
   {
    "duration": 150,
    "start_time": "2023-09-30T05:13:02.851Z"
   },
   {
    "duration": 34,
    "start_time": "2023-09-30T05:13:03.003Z"
   },
   {
    "duration": 28,
    "start_time": "2023-09-30T05:13:03.038Z"
   },
   {
    "duration": 29,
    "start_time": "2023-09-30T05:13:03.068Z"
   },
   {
    "duration": 19,
    "start_time": "2023-09-30T05:13:03.098Z"
   },
   {
    "duration": 40,
    "start_time": "2023-09-30T05:13:03.119Z"
   },
   {
    "duration": 19,
    "start_time": "2023-09-30T05:13:03.163Z"
   },
   {
    "duration": 33,
    "start_time": "2023-09-30T05:13:03.184Z"
   },
   {
    "duration": 186,
    "start_time": "2023-09-30T05:13:03.218Z"
   },
   {
    "duration": 18,
    "start_time": "2023-09-30T05:13:03.405Z"
   },
   {
    "duration": 336,
    "start_time": "2023-09-30T05:13:03.424Z"
   },
   {
    "duration": 9,
    "start_time": "2023-09-30T05:13:03.761Z"
   },
   {
    "duration": 63,
    "start_time": "2023-09-30T05:13:03.771Z"
   },
   {
    "duration": 468,
    "start_time": "2023-09-30T05:13:03.835Z"
   },
   {
    "duration": 14,
    "start_time": "2023-09-30T05:13:04.306Z"
   },
   {
    "duration": 17,
    "start_time": "2023-09-30T05:13:04.331Z"
   },
   {
    "duration": 197,
    "start_time": "2023-09-30T05:13:04.351Z"
   },
   {
    "duration": 17,
    "start_time": "2023-09-30T05:13:04.550Z"
   },
   {
    "duration": 23,
    "start_time": "2023-09-30T05:13:04.571Z"
   },
   {
    "duration": 220,
    "start_time": "2023-09-30T05:13:04.596Z"
   },
   {
    "duration": 33,
    "start_time": "2023-09-30T05:13:04.817Z"
   },
   {
    "duration": 23,
    "start_time": "2023-09-30T05:13:04.852Z"
   },
   {
    "duration": 48,
    "start_time": "2023-09-30T05:13:04.877Z"
   },
   {
    "duration": 10,
    "start_time": "2023-09-30T05:13:04.927Z"
   },
   {
    "duration": 206,
    "start_time": "2023-09-30T05:13:04.939Z"
   },
   {
    "duration": 10,
    "start_time": "2023-09-30T05:13:05.147Z"
   },
   {
    "duration": 192,
    "start_time": "2023-09-30T05:13:05.158Z"
   },
   {
    "duration": 9,
    "start_time": "2023-09-30T05:13:05.353Z"
   },
   {
    "duration": 222,
    "start_time": "2023-09-30T05:13:05.364Z"
   },
   {
    "duration": 17,
    "start_time": "2023-09-30T05:13:05.588Z"
   },
   {
    "duration": 230,
    "start_time": "2023-09-30T05:13:05.607Z"
   },
   {
    "duration": 31,
    "start_time": "2023-09-30T05:13:05.839Z"
   },
   {
    "duration": 169,
    "start_time": "2023-09-30T05:13:05.873Z"
   },
   {
    "duration": 5,
    "start_time": "2023-09-30T05:13:06.044Z"
   },
   {
    "duration": 30,
    "start_time": "2023-09-30T05:13:06.051Z"
   },
   {
    "duration": 44,
    "start_time": "2023-09-30T05:13:06.083Z"
   },
   {
    "duration": 21,
    "start_time": "2023-09-30T05:13:06.129Z"
   },
   {
    "duration": 27,
    "start_time": "2023-09-30T05:13:06.152Z"
   },
   {
    "duration": 52,
    "start_time": "2023-09-30T05:13:06.182Z"
   },
   {
    "duration": 63,
    "start_time": "2023-09-30T05:13:06.237Z"
   },
   {
    "duration": 6,
    "start_time": "2023-09-30T05:13:06.302Z"
   },
   {
    "duration": 19,
    "start_time": "2023-09-30T05:13:06.310Z"
   },
   {
    "duration": 48,
    "start_time": "2023-09-30T05:13:06.331Z"
   },
   {
    "duration": 6,
    "start_time": "2023-09-30T05:39:35.479Z"
   },
   {
    "duration": 6,
    "start_time": "2023-09-30T05:40:52.441Z"
   },
   {
    "duration": 1198,
    "start_time": "2023-09-30T05:58:45.977Z"
   },
   {
    "duration": 29,
    "start_time": "2023-09-30T05:58:47.177Z"
   },
   {
    "duration": 3,
    "start_time": "2023-09-30T05:58:47.207Z"
   },
   {
    "duration": 43,
    "start_time": "2023-09-30T05:58:47.213Z"
   },
   {
    "duration": 30,
    "start_time": "2023-09-30T05:58:47.258Z"
   },
   {
    "duration": 32,
    "start_time": "2023-09-30T05:58:47.289Z"
   },
   {
    "duration": 11,
    "start_time": "2023-09-30T05:58:47.323Z"
   },
   {
    "duration": 12,
    "start_time": "2023-09-30T05:58:47.335Z"
   },
   {
    "duration": 15,
    "start_time": "2023-09-30T05:58:47.348Z"
   },
   {
    "duration": 7,
    "start_time": "2023-09-30T05:58:47.366Z"
   },
   {
    "duration": 26,
    "start_time": "2023-09-30T05:58:47.374Z"
   },
   {
    "duration": 8,
    "start_time": "2023-09-30T05:58:47.402Z"
   },
   {
    "duration": 10,
    "start_time": "2023-09-30T05:58:47.412Z"
   },
   {
    "duration": 5,
    "start_time": "2023-09-30T05:58:47.423Z"
   },
   {
    "duration": 10,
    "start_time": "2023-09-30T05:58:47.430Z"
   },
   {
    "duration": 25,
    "start_time": "2023-09-30T05:58:47.442Z"
   },
   {
    "duration": 11,
    "start_time": "2023-09-30T05:58:47.469Z"
   },
   {
    "duration": 20,
    "start_time": "2023-09-30T05:58:47.482Z"
   },
   {
    "duration": 6,
    "start_time": "2023-09-30T05:58:47.504Z"
   },
   {
    "duration": 17,
    "start_time": "2023-09-30T05:58:47.511Z"
   },
   {
    "duration": 14,
    "start_time": "2023-09-30T05:58:47.530Z"
   },
   {
    "duration": 7,
    "start_time": "2023-09-30T05:58:47.546Z"
   },
   {
    "duration": 18,
    "start_time": "2023-09-30T05:58:47.554Z"
   },
   {
    "duration": 10,
    "start_time": "2023-09-30T05:58:47.573Z"
   },
   {
    "duration": 8,
    "start_time": "2023-09-30T05:58:47.584Z"
   },
   {
    "duration": 16,
    "start_time": "2023-09-30T05:58:47.594Z"
   },
   {
    "duration": 5,
    "start_time": "2023-09-30T05:58:47.611Z"
   },
   {
    "duration": 12,
    "start_time": "2023-09-30T05:58:47.619Z"
   },
   {
    "duration": 9,
    "start_time": "2023-09-30T05:58:47.632Z"
   },
   {
    "duration": 189,
    "start_time": "2023-09-30T05:58:47.643Z"
   },
   {
    "duration": 16,
    "start_time": "2023-09-30T05:58:47.833Z"
   },
   {
    "duration": 150,
    "start_time": "2023-09-30T05:58:47.851Z"
   },
   {
    "duration": 8,
    "start_time": "2023-09-30T05:58:48.003Z"
   },
   {
    "duration": 96,
    "start_time": "2023-09-30T05:58:48.013Z"
   },
   {
    "duration": 339,
    "start_time": "2023-09-30T05:58:48.111Z"
   },
   {
    "duration": 12,
    "start_time": "2023-09-30T05:58:48.452Z"
   },
   {
    "duration": 24,
    "start_time": "2023-09-30T05:58:48.465Z"
   },
   {
    "duration": 229,
    "start_time": "2023-09-30T05:58:48.491Z"
   },
   {
    "duration": 13,
    "start_time": "2023-09-30T05:58:48.722Z"
   },
   {
    "duration": 18,
    "start_time": "2023-09-30T05:58:48.737Z"
   },
   {
    "duration": 163,
    "start_time": "2023-09-30T05:58:48.757Z"
   },
   {
    "duration": 28,
    "start_time": "2023-09-30T05:58:48.922Z"
   },
   {
    "duration": 27,
    "start_time": "2023-09-30T05:58:48.953Z"
   },
   {
    "duration": 61,
    "start_time": "2023-09-30T05:58:48.982Z"
   },
   {
    "duration": 11,
    "start_time": "2023-09-30T05:58:49.045Z"
   },
   {
    "duration": 186,
    "start_time": "2023-09-30T05:58:49.058Z"
   },
   {
    "duration": 8,
    "start_time": "2023-09-30T05:58:49.246Z"
   },
   {
    "duration": 208,
    "start_time": "2023-09-30T05:58:49.256Z"
   },
   {
    "duration": 9,
    "start_time": "2023-09-30T05:58:49.466Z"
   },
   {
    "duration": 202,
    "start_time": "2023-09-30T05:58:49.477Z"
   },
   {
    "duration": 10,
    "start_time": "2023-09-30T05:58:49.680Z"
   },
   {
    "duration": 235,
    "start_time": "2023-09-30T05:58:49.701Z"
   },
   {
    "duration": 28,
    "start_time": "2023-09-30T05:58:49.938Z"
   },
   {
    "duration": 171,
    "start_time": "2023-09-30T05:58:49.967Z"
   },
   {
    "duration": 4,
    "start_time": "2023-09-30T05:58:50.140Z"
   },
   {
    "duration": 22,
    "start_time": "2023-09-30T05:58:50.145Z"
   },
   {
    "duration": 10,
    "start_time": "2023-09-30T05:58:50.169Z"
   },
   {
    "duration": 11,
    "start_time": "2023-09-30T05:58:50.181Z"
   },
   {
    "duration": 19,
    "start_time": "2023-09-30T05:58:50.194Z"
   },
   {
    "duration": 21,
    "start_time": "2023-09-30T05:58:50.217Z"
   },
   {
    "duration": 22,
    "start_time": "2023-09-30T05:58:50.240Z"
   },
   {
    "duration": 4,
    "start_time": "2023-09-30T05:58:50.264Z"
   },
   {
    "duration": 22,
    "start_time": "2023-09-30T05:58:50.270Z"
   },
   {
    "duration": 26,
    "start_time": "2023-09-30T05:58:50.294Z"
   },
   {
    "duration": 4,
    "start_time": "2023-09-30T06:42:47.699Z"
   },
   {
    "duration": 1167,
    "start_time": "2023-09-30T07:13:40.899Z"
   },
   {
    "duration": 29,
    "start_time": "2023-09-30T07:13:42.067Z"
   },
   {
    "duration": 2,
    "start_time": "2023-09-30T07:13:42.098Z"
   },
   {
    "duration": 26,
    "start_time": "2023-09-30T07:13:42.102Z"
   },
   {
    "duration": 13,
    "start_time": "2023-09-30T07:13:42.130Z"
   },
   {
    "duration": 49,
    "start_time": "2023-09-30T07:13:42.145Z"
   },
   {
    "duration": 10,
    "start_time": "2023-09-30T07:13:42.196Z"
   },
   {
    "duration": 17,
    "start_time": "2023-09-30T07:13:42.208Z"
   },
   {
    "duration": 19,
    "start_time": "2023-09-30T07:13:42.227Z"
   },
   {
    "duration": 9,
    "start_time": "2023-09-30T07:13:42.249Z"
   },
   {
    "duration": 17,
    "start_time": "2023-09-30T07:13:42.260Z"
   },
   {
    "duration": 23,
    "start_time": "2023-09-30T07:13:42.279Z"
   },
   {
    "duration": 14,
    "start_time": "2023-09-30T07:13:42.303Z"
   },
   {
    "duration": 17,
    "start_time": "2023-09-30T07:13:42.319Z"
   },
   {
    "duration": 38,
    "start_time": "2023-09-30T07:13:42.338Z"
   },
   {
    "duration": 19,
    "start_time": "2023-09-30T07:13:42.378Z"
   },
   {
    "duration": 11,
    "start_time": "2023-09-30T07:13:42.399Z"
   },
   {
    "duration": 8,
    "start_time": "2023-09-30T07:13:42.412Z"
   },
   {
    "duration": 12,
    "start_time": "2023-09-30T07:13:42.422Z"
   },
   {
    "duration": 5,
    "start_time": "2023-09-30T07:13:42.435Z"
   },
   {
    "duration": 22,
    "start_time": "2023-09-30T07:13:42.442Z"
   },
   {
    "duration": 22,
    "start_time": "2023-09-30T07:13:42.466Z"
   },
   {
    "duration": 17,
    "start_time": "2023-09-30T07:13:42.489Z"
   },
   {
    "duration": 30,
    "start_time": "2023-09-30T07:13:42.507Z"
   },
   {
    "duration": 26,
    "start_time": "2023-09-30T07:13:42.539Z"
   },
   {
    "duration": 43,
    "start_time": "2023-09-30T07:13:42.567Z"
   },
   {
    "duration": 5,
    "start_time": "2023-09-30T07:13:42.612Z"
   },
   {
    "duration": 19,
    "start_time": "2023-09-30T07:13:42.620Z"
   },
   {
    "duration": 19,
    "start_time": "2023-09-30T07:13:42.641Z"
   },
   {
    "duration": 171,
    "start_time": "2023-09-30T07:13:42.662Z"
   },
   {
    "duration": 16,
    "start_time": "2023-09-30T07:13:42.835Z"
   },
   {
    "duration": 145,
    "start_time": "2023-09-30T07:13:42.853Z"
   },
   {
    "duration": 11,
    "start_time": "2023-09-30T07:13:43.000Z"
   },
   {
    "duration": 18,
    "start_time": "2023-09-30T07:13:43.013Z"
   },
   {
    "duration": 316,
    "start_time": "2023-09-30T07:13:43.033Z"
   },
   {
    "duration": 10,
    "start_time": "2023-09-30T07:13:43.351Z"
   },
   {
    "duration": 28,
    "start_time": "2023-09-30T07:13:43.363Z"
   },
   {
    "duration": 198,
    "start_time": "2023-09-30T07:13:43.393Z"
   },
   {
    "duration": 16,
    "start_time": "2023-09-30T07:13:43.592Z"
   },
   {
    "duration": 24,
    "start_time": "2023-09-30T07:13:43.610Z"
   },
   {
    "duration": 189,
    "start_time": "2023-09-30T07:13:43.636Z"
   },
   {
    "duration": 30,
    "start_time": "2023-09-30T07:13:43.827Z"
   },
   {
    "duration": 20,
    "start_time": "2023-09-30T07:13:43.859Z"
   },
   {
    "duration": 40,
    "start_time": "2023-09-30T07:13:43.881Z"
   },
   {
    "duration": 8,
    "start_time": "2023-09-30T07:13:43.923Z"
   },
   {
    "duration": 193,
    "start_time": "2023-09-30T07:13:43.932Z"
   },
   {
    "duration": 9,
    "start_time": "2023-09-30T07:13:44.126Z"
   },
   {
    "duration": 207,
    "start_time": "2023-09-30T07:13:44.136Z"
   },
   {
    "duration": 8,
    "start_time": "2023-09-30T07:13:44.344Z"
   },
   {
    "duration": 300,
    "start_time": "2023-09-30T07:13:44.354Z"
   },
   {
    "duration": 11,
    "start_time": "2023-09-30T07:13:44.656Z"
   },
   {
    "duration": 258,
    "start_time": "2023-09-30T07:13:44.670Z"
   },
   {
    "duration": 28,
    "start_time": "2023-09-30T07:13:44.930Z"
   },
   {
    "duration": 152,
    "start_time": "2023-09-30T07:13:44.960Z"
   },
   {
    "duration": 5,
    "start_time": "2023-09-30T07:13:45.114Z"
   },
   {
    "duration": 30,
    "start_time": "2023-09-30T07:13:45.121Z"
   },
   {
    "duration": 10,
    "start_time": "2023-09-30T07:13:45.153Z"
   },
   {
    "duration": 19,
    "start_time": "2023-09-30T07:13:45.165Z"
   },
   {
    "duration": 14,
    "start_time": "2023-09-30T07:13:45.185Z"
   },
   {
    "duration": 46,
    "start_time": "2023-09-30T07:13:45.205Z"
   },
   {
    "duration": 56,
    "start_time": "2023-09-30T07:13:45.253Z"
   },
   {
    "duration": 5,
    "start_time": "2023-09-30T07:13:45.310Z"
   },
   {
    "duration": 10,
    "start_time": "2023-09-30T07:13:45.317Z"
   },
   {
    "duration": 36,
    "start_time": "2023-09-30T07:13:45.329Z"
   },
   {
    "duration": 1153,
    "start_time": "2023-09-30T08:20:20.841Z"
   },
   {
    "duration": 79,
    "start_time": "2023-09-30T08:20:21.996Z"
   },
   {
    "duration": 3,
    "start_time": "2023-09-30T08:20:22.077Z"
   },
   {
    "duration": 36,
    "start_time": "2023-09-30T08:20:22.082Z"
   },
   {
    "duration": 34,
    "start_time": "2023-09-30T08:20:22.121Z"
   },
   {
    "duration": 111,
    "start_time": "2023-09-30T08:20:22.157Z"
   },
   {
    "duration": 11,
    "start_time": "2023-09-30T08:20:22.270Z"
   },
   {
    "duration": 34,
    "start_time": "2023-09-30T08:20:22.283Z"
   },
   {
    "duration": 56,
    "start_time": "2023-09-30T08:20:22.319Z"
   },
   {
    "duration": 8,
    "start_time": "2023-09-30T08:20:22.378Z"
   },
   {
    "duration": 32,
    "start_time": "2023-09-30T08:20:22.388Z"
   },
   {
    "duration": 18,
    "start_time": "2023-09-30T08:20:22.423Z"
   },
   {
    "duration": 41,
    "start_time": "2023-09-30T08:20:22.443Z"
   },
   {
    "duration": 51,
    "start_time": "2023-09-30T08:20:22.486Z"
   },
   {
    "duration": 27,
    "start_time": "2023-09-30T08:20:22.539Z"
   },
   {
    "duration": 25,
    "start_time": "2023-09-30T08:20:22.568Z"
   },
   {
    "duration": 20,
    "start_time": "2023-09-30T08:20:22.595Z"
   },
   {
    "duration": 25,
    "start_time": "2023-09-30T08:20:22.617Z"
   },
   {
    "duration": 10,
    "start_time": "2023-09-30T08:20:22.645Z"
   },
   {
    "duration": 7,
    "start_time": "2023-09-30T08:20:22.657Z"
   },
   {
    "duration": 25,
    "start_time": "2023-09-30T08:20:22.666Z"
   },
   {
    "duration": 13,
    "start_time": "2023-09-30T08:20:22.693Z"
   },
   {
    "duration": 49,
    "start_time": "2023-09-30T08:20:22.708Z"
   },
   {
    "duration": 5,
    "start_time": "2023-09-30T08:20:22.760Z"
   },
   {
    "duration": 15,
    "start_time": "2023-09-30T08:20:22.767Z"
   },
   {
    "duration": 19,
    "start_time": "2023-09-30T08:20:22.785Z"
   },
   {
    "duration": 5,
    "start_time": "2023-09-30T08:20:22.806Z"
   },
   {
    "duration": 35,
    "start_time": "2023-09-30T08:20:22.816Z"
   },
   {
    "duration": 9,
    "start_time": "2023-09-30T08:20:22.853Z"
   },
   {
    "duration": 179,
    "start_time": "2023-09-30T08:20:22.863Z"
   },
   {
    "duration": 17,
    "start_time": "2023-09-30T08:20:23.044Z"
   },
   {
    "duration": 158,
    "start_time": "2023-09-30T08:20:23.063Z"
   },
   {
    "duration": 8,
    "start_time": "2023-09-30T08:20:23.223Z"
   },
   {
    "duration": 15,
    "start_time": "2023-09-30T08:20:23.232Z"
   },
   {
    "duration": 369,
    "start_time": "2023-09-30T08:20:23.248Z"
   },
   {
    "duration": 11,
    "start_time": "2023-09-30T08:20:23.619Z"
   },
   {
    "duration": 9,
    "start_time": "2023-09-30T08:20:23.632Z"
   },
   {
    "duration": 217,
    "start_time": "2023-09-30T08:20:23.642Z"
   },
   {
    "duration": 13,
    "start_time": "2023-09-30T08:20:23.861Z"
   },
   {
    "duration": 22,
    "start_time": "2023-09-30T08:20:23.876Z"
   },
   {
    "duration": 209,
    "start_time": "2023-09-30T08:20:23.900Z"
   },
   {
    "duration": 34,
    "start_time": "2023-09-30T08:20:24.111Z"
   },
   {
    "duration": 23,
    "start_time": "2023-09-30T08:20:24.148Z"
   },
   {
    "duration": 54,
    "start_time": "2023-09-30T08:20:24.173Z"
   },
   {
    "duration": 11,
    "start_time": "2023-09-30T08:20:24.229Z"
   },
   {
    "duration": 202,
    "start_time": "2023-09-30T08:20:24.242Z"
   },
   {
    "duration": 10,
    "start_time": "2023-09-30T08:20:24.445Z"
   },
   {
    "duration": 198,
    "start_time": "2023-09-30T08:20:24.457Z"
   },
   {
    "duration": 11,
    "start_time": "2023-09-30T08:20:24.657Z"
   },
   {
    "duration": 190,
    "start_time": "2023-09-30T08:20:24.670Z"
   },
   {
    "duration": 11,
    "start_time": "2023-09-30T08:20:24.862Z"
   },
   {
    "duration": 282,
    "start_time": "2023-09-30T08:20:24.875Z"
   },
   {
    "duration": 57,
    "start_time": "2023-09-30T08:20:25.158Z"
   },
   {
    "duration": 181,
    "start_time": "2023-09-30T08:20:25.216Z"
   },
   {
    "duration": 13,
    "start_time": "2023-09-30T08:20:25.399Z"
   },
   {
    "duration": 22,
    "start_time": "2023-09-30T08:20:25.414Z"
   },
   {
    "duration": 16,
    "start_time": "2023-09-30T08:20:25.439Z"
   },
   {
    "duration": 27,
    "start_time": "2023-09-30T08:20:25.458Z"
   },
   {
    "duration": 6,
    "start_time": "2023-09-30T08:20:25.487Z"
   },
   {
    "duration": 43,
    "start_time": "2023-09-30T08:20:25.494Z"
   },
   {
    "duration": 46,
    "start_time": "2023-09-30T08:20:25.539Z"
   },
   {
    "duration": 29,
    "start_time": "2023-09-30T08:20:25.587Z"
   },
   {
    "duration": 43,
    "start_time": "2023-09-30T08:20:25.618Z"
   },
   {
    "duration": 42,
    "start_time": "2023-09-30T08:20:25.663Z"
   }
  ],
  "kernelspec": {
   "display_name": "Python 3 (ipykernel)",
   "language": "python",
   "name": "python3"
  },
  "language_info": {
   "codemirror_mode": {
    "name": "ipython",
    "version": 3
   },
   "file_extension": ".py",
   "mimetype": "text/x-python",
   "name": "python",
   "nbconvert_exporter": "python",
   "pygments_lexer": "ipython3",
   "version": "3.11.5"
  },
  "toc": {
   "base_numbering": 1,
   "nav_menu": {},
   "number_sections": true,
   "sideBar": true,
   "skip_h1_title": true,
   "title_cell": "Table of Contents",
   "title_sidebar": "Contents",
   "toc_cell": false,
   "toc_position": {},
   "toc_section_display": true,
   "toc_window_display": false
  }
 },
 "nbformat": 4,
 "nbformat_minor": 5
}
